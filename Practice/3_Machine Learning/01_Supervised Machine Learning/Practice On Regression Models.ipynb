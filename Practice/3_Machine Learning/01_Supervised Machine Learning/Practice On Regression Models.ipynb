{
 "cells": [
  {
   "cell_type": "markdown",
   "metadata": {},
   "source": [
    "# **Practice Notebook For Regression Models:**"
   ]
  },
  {
   "cell_type": "markdown",
   "metadata": {},
   "source": [
    "---\n",
    "\n",
    "## **About Author:**\n",
    "\n",
    "---\n",
    "\n",
    "[<img src=\"https://media.licdn.com/dms/image/v2/D4D03AQEsEJ_gVNnU3w/profile-displayphoto-shrink_200_200/profile-displayphoto-shrink_200_200/0/1720678393429?e=2147483647&v=beta&t=RALfVAKvT6TmP2BBpil_CGzZK5L5ykNUou5yModXTVw\" width=\"20%\">](https://shaheer.kesug.com)\n",
    "\n",
    "**Mr. ShaheerAli**  \n",
    "*Data Scientist / ML Engineer*\\\n",
    "BS Computer Science\n",
    "\n",
    "<a href=\"https://www.youtube.com/channel/UCUTphw52izMNv9W6AOIFGJA\">\n",
    "  <img width=\"50\" height=\"50\" src=\"https://img.icons8.com/color/48/youtube-play.png\" alt=\"youtube-play\"/>\n",
    "</a>\n",
    "<a href=\"https://twitter.com/__shaheerali190\">\n",
    "  <img width=\"50\" height=\"50\" src=\"https://img.icons8.com/dotty/80/x.png\" alt=\"x\"/>\n",
    "</a>\n",
    "<a href=\"https://www.linkedin.com/in/shaheer-ali-2761aa303/\">\n",
    "  <img width=\"50\" height=\"50\" src=\"https://img.icons8.com/color/48/linkedin.png\" alt=\"linkedin\"/>\n",
    "</a>\n",
    "<a href=\"https://github.com/shaheeralics\">\n",
    "  <img width=\"50\" height=\"50\" src=\"https://img.icons8.com/ios-glyphs/50/github.png\" alt=\"github\"/>\n",
    "</a>\n",
    "<a href=\"https://www.kaggle.com/shaheerali197\">\n",
    "  <img width=\"50\" height=\"50\" src=\"https://img.icons8.com/clouds/100/kaggle.png\" alt=\"kaggle\"/>\n",
    "</a>\n",
    "\n",
    "[Portfolio Site]('https://shaheer.kesug.com')\n",
    "\n",
    "---\n"
   ]
  },
  {
   "cell_type": "markdown",
   "metadata": {},
   "source": [
    "## **About Dataset**\n",
    "---\n",
    "\n",
    "### Problem Statement\n",
    "A Chinese automobile company Geely Auto aspires to enter the US market by setting up their manufacturing unit there and producing cars locally to give competition to their US and European counterparts.\n",
    "\n",
    "They have contracted an automobile consulting company to understand the factors on which the pricing of cars depends. Specifically, they want to understand the factors affecting the pricing of cars in the American market, since those may be very different from the Chinese market. The company wants to know:\n",
    "\n",
    "Which variables are significant in predicting the price of a car\n",
    "How well those variables describe the price of a car\n",
    "Based on various market surveys, the consulting firm has gathered a large data set of different types of cars across the America market.\n",
    "\n",
    "### Business Goal\n",
    "We are required to model the price of cars with the available independent variables. It will be used by the management to understand how exactly the prices vary with the independent variables. They can accordingly manipulate the design of the cars, the business strategy etc. to meet certain price levels. Further, the model will be a good way for management to understand the pricing dynamics of a new market.\n",
    "\n",
    "`Please Note` : The dataset provided is for learning purpose. Please don’t draw any inference with real world scenario.\n",
    "\n",
    "Click [`here`](https://www.kaggle.com/datasets/hellbuoy/car-price-prediction/data) to get the dataset."
   ]
  },
  {
   "cell_type": "markdown",
   "metadata": {},
   "source": [
    "---\n",
    "## Meta Data:\n",
    "\n",
    "| **Attribute**        | **Description**                                                                 |\n",
    "|----------------------|---------------------------------------------------------------------------------|\n",
    "| **Car_ID**           | Unique ID of each observation (Integer)                                          |\n",
    "| **Symboling**        | Insurance risk rating: +3 indicates risky, -3 indicates safe (Categorical)      |\n",
    "| **carCompany**       | Name of the car company (Categorical)                                            |\n",
    "| **fueltype**         | Fuel type of the car (e.g., gas or diesel) (Categorical)                         |\n",
    "| **aspiration**       | Aspiration used in the car (Categorical)                                         |\n",
    "| **doornumber**       | Number of doors in the car (Categorical)                                         |\n",
    "| **carbody**          | Body type of the car (Categorical)                                               |\n",
    "| **drivewheel**       | Type of drive wheel (Categorical)                                                |\n",
    "| **enginelocation**   | Location of the car engine (Categorical)                                         |\n",
    "| **wheelbase**        | Wheelbase of the car (Numeric)                                                    |\n",
    "| **carlength**        | Length of the car (Numeric)                                                       |\n",
    "| **carwidth**         | Width of the car (Numeric)                                                        |\n",
    "| **carheight**        | Height of the car (Numeric)                                                       |\n",
    "| **curbweight**       | Weight of the car without occupants or baggage (Numeric)                          |\n",
    "| **enginetype**       | Type of engine (Categorical)                                                       |\n",
    "| **cylindernumber**   | Number of cylinders in the car (Categorical)                                      |\n",
    "| **enginesize**       | Size of the engine (Numeric)                                                        |\n",
    "| **fuelsystem**       | Fuel system of the car (Categorical)                                               |\n",
    "| **boreratio**        | Bore ratio of the car (Numeric)                                                    |\n",
    "| **stroke**           | Stroke or volume inside the engine (Numeric)                                      |\n",
    "| **compressionratio** | Compression ratio of the car (Numeric)                                            |\n",
    "| **horsepower**       | Horsepower of the car (Numeric)                                                    |\n",
    "| **peakrpm**          | Peak RPM of the car (Numeric)                                                      |\n",
    "| **citympg**          | Mileage in the city (Numeric)                                                      |\n",
    "| **highwaympg**       | Mileage on the highway (Numeric)                                                   |\n",
    "| **price**            | Price of the car (Dependent variable) (Numeric)                                    |\n",
    "\n",
    "---\n"
   ]
  },
  {
   "cell_type": "code",
   "execution_count": 5,
   "metadata": {},
   "outputs": [],
   "source": [
    "# importing Libraries\n",
    "import pandas as pd\n",
    "import numpy as np\n",
    "import seaborn as sns\n",
    "import matplotlib.pyplot as plt\n",
    "from sklearn.model_selection import train_test_split\n",
    "from sklearn.linear_model import LinearRegression, Lasso, Ridge, ElasticNet\n"
   ]
  },
  {
   "cell_type": "code",
   "execution_count": 6,
   "metadata": {},
   "outputs": [],
   "source": [
    "# import dataset\n",
    "df = pd.read_csv('../../../datasets/archive/CarPrice_Assignment.csv')"
   ]
  }
 ],
 "metadata": {
  "kernelspec": {
   "display_name": "Python 3",
   "language": "python",
   "name": "python3"
  },
  "language_info": {
   "codemirror_mode": {
    "name": "ipython",
    "version": 3
   },
   "file_extension": ".py",
   "mimetype": "text/x-python",
   "name": "python",
   "nbconvert_exporter": "python",
   "pygments_lexer": "ipython3",
   "version": "3.11.9"
  }
 },
 "nbformat": 4,
 "nbformat_minor": 2
}
