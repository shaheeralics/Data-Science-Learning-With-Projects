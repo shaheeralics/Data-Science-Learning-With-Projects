{
 "cells": [
  {
   "cell_type": "markdown",
   "metadata": {},
   "source": [
    "# Practice on Classification Models: "
   ]
  },
  {
   "cell_type": "markdown",
   "metadata": {},
   "source": [
    "# **About Dataset:**\n",
    "\n",
    "This dataset contains synthetic data designed for predicting age based on various health and lifestyle factors. It includes 3,000 rows with 24 features, each representing different aspects of physical health and lifestyle.\n",
    "\n",
    "## **Features** / **Meta Data** `:`\n",
    "\n",
    "**Height (cm):** The height of the individual in centimeters.\\\n",
    "**Weight (kg):** The weight of the individual in kilograms.\\\n",
    "**Blood Pressure (s/d):** Blood pressure (systolic/diastolic) in mmHg.\\\n",
    "**Cholesterol Level (mg/dL):** Cholesterol level in milligrams per deciliter.\\\n",
    "**BMI:** Body Mass Index, calculated from height and weight.\\\n",
    "**Blood Glucose Level (mg/dL):** Blood glucose level in milligrams per deciliter.\\\n",
    "**Bone Density (g/cm²):** Bone density in grams per square centimeter.\\\n",
    "**Vision Sharpness:** Vision sharpness on a scale from 0 (blurry) to 100 (perfect).\\\n",
    "**Hearing Ability (dB):** Hearing ability in decibels.\\\n",
    "**Physical Activity Level:** Categorized as 'Low', 'Moderate', or 'High'.\\\n",
    "**Smoking Status:** Categorical values including 'Never', 'Former', and 'Current'.\\\n",
    "**Alcohol Consumption:** Frequency of alcohol consumption.\\\n",
    "**Diet:** Type of diet, categorized as 'Balanced', 'High Protein', 'Low Carb', etc.\\\n",
    "**Chronic Diseases:** Presence of chronic diseases (e.g., diabetes, hypertension).\\\n",
    "**Medication Use:** Usage of medication.\\\n",
    "**Family History:** Presence of family history of age-related conditions.\\\n",
    "**Cognitive Function:** Self-reported cognitive function on a scale from 0 (poor) to 100 (excellent).\\\n",
    "**Mental Health Status:** Self-reported mental health status on a scale from 0 (poor) to 100 (excellent).\\\n",
    "**Sleep Patterns:** Average number of sleep hours per night.\\\n",
    "**Stress Levels:** Self-reported stress levels on a scale from 0 (low) to 100 (high).\\\n",
    "**Pollution Exposure:** Exposure to pollution measured in arbitrary units.\\\n",
    "**Sun Exposure:** Average sun exposure in hours per week.\\\n",
    "**Education Level:** Highest level of education attained.\\\n",
    "**Income Level:** Annual income in USD.\\\n",
    "**Age (years):** The target variable representing the age of the individual.\\\n",
    "**Generation:**\\\n",
    "The data was synthetically generated to simulate real-world conditions. It may not perfectly reflect real-world data but is designed for educational and research purposes.\n",
    "\n",
    "**Use Cases:**\n",
    "Ideal for machine learning models aimed at age prediction based on health and lifestyle factors. Suitable for exploring relationships between health metrics and age.\n",
    "\n",
    "**Limitations:**\n",
    "As synthetic data, it may not fully represent the complexities of real-world data. Users should exercise caution when drawing conclusions or applying models trained on this data.\n",
    "\n",
    "## **DataSet:** \n",
    "Click [Here](https://www.kaggle.com/datasets/abdullah0a/human-age-prediction-synthetic-dataset/data) to Download the Dataset."
   ]
  },
  {
   "cell_type": "markdown",
   "metadata": {},
   "source": [
    "# **1_Importing Libraries:**"
   ]
  },
  {
   "cell_type": "code",
   "execution_count": 1,
   "metadata": {},
   "outputs": [],
   "source": [
    "import pandas as pd \n",
    "import numpy as np\n",
    "import seaborn as sns\n",
    "import matplotlib.pyplot as plt"
   ]
  },
  {
   "cell_type": "markdown",
   "metadata": {},
   "source": [
    "# **2_Importing the Dataset:**"
   ]
  },
  {
   "cell_type": "code",
   "execution_count": null,
   "metadata": {},
   "outputs": [],
   "source": []
  }
 ],
 "metadata": {
  "kernelspec": {
   "display_name": "machine_learning",
   "language": "python",
   "name": "python3"
  },
  "language_info": {
   "codemirror_mode": {
    "name": "ipython",
    "version": 3
   },
   "file_extension": ".py",
   "mimetype": "text/x-python",
   "name": "python",
   "nbconvert_exporter": "python",
   "pygments_lexer": "ipython3",
   "version": "3.11.9"
  }
 },
 "nbformat": 4,
 "nbformat_minor": 2
}
