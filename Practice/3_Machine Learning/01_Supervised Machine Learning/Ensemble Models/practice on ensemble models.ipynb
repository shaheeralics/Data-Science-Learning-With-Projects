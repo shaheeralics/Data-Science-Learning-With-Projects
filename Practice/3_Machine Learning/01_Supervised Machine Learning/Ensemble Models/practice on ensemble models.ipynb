{
 "cells": [
  {
   "cell_type": "code",
   "execution_count": 2,
   "metadata": {},
   "outputs": [],
   "source": [
    "pip install xgboost lightgbm catboost"
   ]
  },
  {
   "cell_type": "markdown",
   "metadata": {},
   "source": [
    "---\n",
    "\n",
    "## **About Author:**\n",
    "\n",
    "---\n",
    "\n",
    "[<img src=\"https://media.licdn.com/dms/image/v2/D4D03AQEsEJ_gVNnU3w/profile-displayphoto-shrink_200_200/profile-displayphoto-shrink_200_200/0/1720678393429?e=2147483647&v=beta&t=RALfVAKvT6TmP2BBpil_CGzZK5L5ykNUou5yModXTVw\" width=\"20%\">](https://shaheer.kesug.com)\n",
    "\n",
    "**Mr. ShaheerAli**  \n",
    "*Data Scientist / ML Engineer*\\\n",
    "BS Computer Science\n",
    "\n",
    "<a href=\"https://www.youtube.com/channel/UCUTphw52izMNv9W6AOIFGJA\">\n",
    "  <img width=\"50\" height=\"50\" src=\"https://img.icons8.com/color/48/youtube-play.png\" alt=\"youtube-play\"/>\n",
    "</a>\n",
    "<a href=\"https://twitter.com/__shaheerali190\">\n",
    "  <img width=\"50\" height=\"50\" src=\"https://img.icons8.com/dotty/80/x.png\" alt=\"x\"/>\n",
    "</a>\n",
    "<a href=\"https://www.linkedin.com/in/shaheer-ali-2761aa303/\">\n",
    "  <img width=\"50\" height=\"50\" src=\"https://img.icons8.com/color/48/linkedin.png\" alt=\"linkedin\"/>\n",
    "</a>\n",
    "<a href=\"https://github.com/shaheeralics\">\n",
    "  <img width=\"50\" height=\"50\" src=\"https://img.icons8.com/ios-glyphs/50/github.png\" alt=\"github\"/>\n",
    "</a>\n",
    "<a href=\"https://www.kaggle.com/shaheerali197\">\n",
    "  <img width=\"50\" height=\"50\" src=\"https://img.icons8.com/clouds/100/kaggle.png\" alt=\"kaggle\"/>\n",
    "</a>\n",
    "\n",
    "[Portfolio Site]('https://shaheer.kesug.com')\n",
    "\n",
    "---"
   ]
  },
  {
   "cell_type": "markdown",
   "metadata": {},
   "source": [
    "## **Wine Quality Prediction: Vinho Verde Wine Data**\n",
    "\n",
    "The datasets provided contain samples of red and white Vinho Verde wines from the northern region of Portugal. The objective is to model wine quality based on physicochemical properties, as detailed in [Cortez et al., 2009] (see http://www3.dsi.uminho.pt/pcortez/wine/).\n",
    "\n",
    "These datasets represent red and white variants of Portuguese \"Vinho Verde\" wine. For additional information, refer to http://www.vinhoverde.pt/en/ or the study by Cortez et al., 2009. Due to privacy and logistical constraints, the datasets include only physicochemical (input) variables and sensory (output) data, such as wine quality scores. There is no information on grape types, wine brands, or selling prices.\n",
    "\n",
    "The data can be approached as either classification or regression tasks, with the classes being ordered but unbalanced (e.g., there are significantly more average wines than excellent or poor ones). Outlier detection techniques could be employed to identify the few instances of exceptional or substandard wines. Furthermore, the relevance of all input variables is not guaranteed, suggesting that feature selection methods could be valuable for identifying the most important factors.\n",
    "\n",
    "### **Input Variables (based on physicochemical tests):**\n",
    "\n",
    ">1. Fixed acidity\n",
    ">2. Volatile acidity\n",
    ">3. Citric acid\n",
    ">4. Residual sugar\n",
    ">5. Chlorides\n",
    ">6. Free sulfur dioxide\n",
    ">7. Total sulfur dioxide\n",
    ">8. Density\n",
    ">9. pH\n",
    ">10. Sulphates\n",
    ">11. Alcohol\n",
    "\n",
    "### **Output Variable (based on sensory data):**\n",
    "\n",
    ">12. Quality (score ranging from 0 to 10)\n",
    "\n",
    "For access to the dataset, visit: [Wine Quality Dataset on Kaggle](https://www.kaggle.com/datasets/joebeachcapital/wine-quality/data?select=winequality.names)."
   ]
  },
  {
   "cell_type": "code",
   "execution_count": 1,
   "metadata": {},
   "outputs": [
    {
     "ename": "ModuleNotFoundError",
     "evalue": "No module named 'sk'",
     "output_type": "error",
     "traceback": [
      "\u001b[1;31m---------------------------------------------------------------------------\u001b[0m",
      "\u001b[1;31mModuleNotFoundError\u001b[0m                       Traceback (most recent call last)",
      "Cell \u001b[1;32mIn[1], line 8\u001b[0m\n\u001b[0;32m      6\u001b[0m \u001b[38;5;28;01mimport\u001b[39;00m \u001b[38;5;21;01mplotly\u001b[39;00m\u001b[38;5;21;01m.\u001b[39;00m\u001b[38;5;21;01mexpress\u001b[39;00m \u001b[38;5;28;01mas\u001b[39;00m \u001b[38;5;21;01mpx\u001b[39;00m\n\u001b[0;32m      7\u001b[0m \u001b[38;5;28;01mimport\u001b[39;00m \u001b[38;5;21;01msklearn\u001b[39;00m \u001b[38;5;28;01mas\u001b[39;00m \u001b[38;5;21;01msk\u001b[39;00m\n\u001b[1;32m----> 8\u001b[0m \u001b[38;5;28;01mfrom\u001b[39;00m \u001b[38;5;21;01msk\u001b[39;00m\u001b[38;5;21;01m.\u001b[39;00m\u001b[38;5;21;01mensemble\u001b[39;00m \u001b[38;5;28;01mimport\u001b[39;00m bagging\n\u001b[0;32m      9\u001b[0m \u001b[38;5;28;01mfrom\u001b[39;00m \u001b[38;5;21;01msk\u001b[39;00m\u001b[38;5;21;01m.\u001b[39;00m\u001b[38;5;21;01mensemble\u001b[39;00m \u001b[38;5;28;01mimport\u001b[39;00m boosting\n\u001b[0;32m     10\u001b[0m \u001b[38;5;28;01mfrom\u001b[39;00m \u001b[38;5;21;01msk\u001b[39;00m\u001b[38;5;21;01m.\u001b[39;00m\u001b[38;5;21;01mensemble\u001b[39;00m \u001b[38;5;28;01mimport\u001b[39;00m stacking\n",
      "\u001b[1;31mModuleNotFoundError\u001b[0m: No module named 'sk'"
     ]
    }
   ],
   "source": [
    "# importing the required libraries\n",
    "import pandas as pd\n",
    "import numpy as np \n",
    "import seaborn as sns\n",
    "import matplotlib.pyplot as plt\n",
    "import plotly.express as px\n",
    "\n",
    "# importing baging libraries\n",
    "from sklearn.ensemble import BaggingClassifier, BaggingRegressor\n",
    "from sklearn.ensemble import RandomForestClassifier, RandomForestRegressor\n",
    "from sklearn.ensemble import ExtraTreesClassifier, ExtraTreesRegressor\n",
    "\n",
    "# importing boosting libraries\n",
    "# scikit-learn\n",
    "from sklearn.ensemble import AdaBoostClassifier, AdaBoostRegressor\n",
    "from sklearn.ensemble import GradientBoostingClassifier, GradientBoostingRegressor\n",
    "\n",
    "# XGBoost\n",
    "from xgboost import XGBClassifier, XGBRegressor\n",
    "\n",
    "# LightGBM\n",
    "from lightgbm import LGBMClassifier, LGBMRegressor\n",
    "\n",
    "# CatBoost\n",
    "from catboost import CatBoostClassifier, CatBoostRegressor\n",
    "\n",
    "# importing stacking libraries\n",
    "from sklearn.ensemble import StackingClassifier, StackingRegressor\n",
    "\n",
    "\n"
   ]
  },
  {
   "cell_type": "code",
   "execution_count": null,
   "metadata": {},
   "outputs": [],
   "source": []
  }
 ],
 "metadata": {
  "kernelspec": {
   "display_name": "machine_learning",
   "language": "python",
   "name": "python3"
  },
  "language_info": {
   "codemirror_mode": {
    "name": "ipython",
    "version": 3
   },
   "file_extension": ".py",
   "mimetype": "text/x-python",
   "name": "python",
   "nbconvert_exporter": "python",
   "pygments_lexer": "ipython3",
   "version": "3.11.0"
  }
 },
 "nbformat": 4,
 "nbformat_minor": 2
}
