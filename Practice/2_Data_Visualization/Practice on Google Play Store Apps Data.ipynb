{
 "cells": [
  {
   "cell_type": "markdown",
   "metadata": {},
   "source": [
    "# Practice of 15 Types of Plots in Seaborn and Plotly"
   ]
  },
  {
   "cell_type": "code",
   "execution_count": null,
   "metadata": {},
   "outputs": [],
   "source": [
    "# import libraries\n",
    "import pandas as pd\n",
    "import numpy as np\n",
    "import matplotlib.pyplot as plt\n",
    "import seaborn as sns\n",
    "import plotly.express as px"
   ]
  },
  {
   "cell_type": "code",
   "execution_count": null,
   "metadata": {},
   "outputs": [],
   "source": [
    "# Import dataset\n",
    "df = pd.read_csv('../../datasets/cleaned_data/cleaned_googleplaystore.csv')\n",
    "df.head()"
   ]
  },
  {
   "cell_type": "code",
   "execution_count": null,
   "metadata": {},
   "outputs": [],
   "source": [
    "df.info()"
   ]
  },
  {
   "cell_type": "code",
   "execution_count": null,
   "metadata": {},
   "outputs": [],
   "source": [
    "df.columns"
   ]
  },
  {
   "cell_type": "markdown",
   "metadata": {},
   "source": [
    "## 1. Scatter plot"
   ]
  },
  {
   "cell_type": "code",
   "execution_count": null,
   "metadata": {},
   "outputs": [],
   "source": [
    "sns.scatterplot(df, x= 'Reviews', y= 'Installs')"
   ]
  },
  {
   "cell_type": "code",
   "execution_count": null,
   "metadata": {},
   "outputs": [],
   "source": [
    "px.scatter(df, x= 'Reviews', y= 'Installs')"
   ]
  },
  {
   "cell_type": "code",
   "execution_count": null,
   "metadata": {},
   "outputs": [],
   "source": [
    "px.scatter(df,x='Reviews', y= 'Installs')"
   ]
  },
  {
   "cell_type": "code",
   "execution_count": null,
   "metadata": {},
   "outputs": [],
   "source": [
    "sns.scatterplot(df,x='Rating', y='Reviews')"
   ]
  },
  {
   "cell_type": "code",
   "execution_count": null,
   "metadata": {},
   "outputs": [],
   "source": [
    "fig1 = px.scatter(df, x='Rating' , y='Reviews', color=\"Category\")\n",
    "fig1.show()\n",
    "# save the plot\n",
    "fig1.write_image(\"./output/fig1.png\", scale=3)"
   ]
  },
  {
   "cell_type": "code",
   "execution_count": null,
   "metadata": {},
   "outputs": [],
   "source": [
    "pip install -U kaleido"
   ]
  },
  {
   "cell_type": "code",
   "execution_count": null,
   "metadata": {},
   "outputs": [],
   "source": [
    "sns.scatterplot(df,x='Rating', y='Installs')    "
   ]
  },
  {
   "cell_type": "code",
   "execution_count": null,
   "metadata": {},
   "outputs": [],
   "source": [
    "figg1 = px.scatter(df, x='Rating', y = 'Installs', color = 'Category')\n",
    "figg1.show()"
   ]
  },
  {
   "cell_type": "code",
   "execution_count": null,
   "metadata": {},
   "outputs": [],
   "source": [
    "df.columns"
   ]
  },
  {
   "cell_type": "code",
   "execution_count": null,
   "metadata": {},
   "outputs": [],
   "source": [
    "sns.scatterplot(df, x='Installs', y='Price')"
   ]
  },
  {
   "cell_type": "code",
   "execution_count": null,
   "metadata": {},
   "outputs": [],
   "source": [
    "px.scatter(df, x = 'Installs', y = 'Price')"
   ]
  },
  {
   "cell_type": "markdown",
   "metadata": {},
   "source": [
    "# 2. Line plot"
   ]
  },
  {
   "cell_type": "code",
   "execution_count": null,
   "metadata": {},
   "outputs": [],
   "source": [
    "df.columns"
   ]
  },
  {
   "cell_type": "code",
   "execution_count": null,
   "metadata": {},
   "outputs": [],
   "source": [
    "df_line = df.sort_values(by='Installs', ascending=True)\n",
    "px.line(df_line, x='Installs', y='Reviews', color='Category')\n"
   ]
  },
  {
   "cell_type": "markdown",
   "metadata": {},
   "source": [
    "# 3. Bar plot"
   ]
  },
  {
   "cell_type": "code",
   "execution_count": null,
   "metadata": {},
   "outputs": [],
   "source": [
    "sns.barplot(df, x='Type', y = 'Reviews')"
   ]
  },
  {
   "cell_type": "code",
   "execution_count": null,
   "metadata": {},
   "outputs": [],
   "source": [
    "df['Reviews'].info()"
   ]
  },
  {
   "cell_type": "code",
   "execution_count": null,
   "metadata": {},
   "outputs": [],
   "source": [
    "px.bar(df, x='Rating', y = 'Type')"
   ]
  },
  {
   "cell_type": "code",
   "execution_count": null,
   "metadata": {},
   "outputs": [],
   "source": [
    "# seaborn does not need to make mean groups\n",
    "\n",
    "sns.barplot(df, x=\"Type\", y= \"Reviews\")"
   ]
  },
  {
   "cell_type": "markdown",
   "metadata": {},
   "source": [
    "# 4. Boxplot"
   ]
  },
  {
   "cell_type": "code",
   "execution_count": null,
   "metadata": {},
   "outputs": [],
   "source": [
    "df.columns"
   ]
  },
  {
   "cell_type": "code",
   "execution_count": null,
   "metadata": {},
   "outputs": [],
   "source": [
    "# Box plot\n",
    "\n",
    "fig4 = px.box(df, x='Rating', color = 'Type')\n",
    "fig4.show()\n",
    "\n",
    "# save the plot\n",
    "# fig4.write_image(\"./output/fig4.png\", scale=3)"
   ]
  },
  {
   "cell_type": "markdown",
   "metadata": {},
   "source": [
    "# 5. Violin plot"
   ]
  },
  {
   "cell_type": "code",
   "execution_count": null,
   "metadata": {},
   "outputs": [],
   "source": [
    "df.columns"
   ]
  },
  {
   "cell_type": "code",
   "execution_count": null,
   "metadata": {},
   "outputs": [],
   "source": [
    "df.head()"
   ]
  },
  {
   "cell_type": "code",
   "execution_count": null,
   "metadata": {},
   "outputs": [],
   "source": [
    "df.nunique()"
   ]
  },
  {
   "cell_type": "code",
   "execution_count": null,
   "metadata": {},
   "outputs": [],
   "source": [
    "# violon plot\n",
    "\n",
    "fig5 = px.violin(df, x='Type' , y='Rating', box=True)\n",
    "fig5.show()\n",
    "# save the plot\n",
    "# fig5.write_image(\"./output/fig5.png\", scale=3)"
   ]
  },
  {
   "cell_type": "markdown",
   "metadata": {},
   "source": [
    "# 6. Histogram"
   ]
  },
  {
   "cell_type": "code",
   "execution_count": null,
   "metadata": {},
   "outputs": [],
   "source": [
    "#6 histogram\n",
    "\n",
    "fig6 = px.histogram(df, x='Rating',color = 'Type')\n",
    "fig6.show()\n",
    "\n",
    "# save the plot\n",
    "# fig6.write_image(\"./output/fig6.png\", scale=3)"
   ]
  },
  {
   "cell_type": "markdown",
   "metadata": {},
   "source": [
    "# 7. Pie Chart"
   ]
  },
  {
   "cell_type": "code",
   "execution_count": null,
   "metadata": {},
   "outputs": [],
   "source": [
    "# first we have to check the dataset\n",
    "df['Category'].value_counts()"
   ]
  },
  {
   "cell_type": "code",
   "execution_count": null,
   "metadata": {},
   "outputs": [],
   "source": [
    "# piechart\n",
    "df_pie = df['Category'].value_counts().reset_index()\n",
    "df_pie.columns = ['Category', 'count']\n",
    "fig7 = px.pie(df_pie, values='count', names='Category')\n",
    "fig7.show()\n",
    "\n",
    "# save the plot\n",
    "# fig7.write_image(\"./output/fig7.png\", scale=3)"
   ]
  },
  {
   "cell_type": "markdown",
   "metadata": {},
   "source": [
    "# 8. scatter 3D plot"
   ]
  },
  {
   "cell_type": "code",
   "execution_count": null,
   "metadata": {},
   "outputs": [],
   "source": [
    "# scatter 3d plot\n",
    "fig8 = px.scatter_3d(df, x='sepal_length', y='sepal_width', z='petal_width', color='species')\n",
    "fig8.show()\n",
    "\n",
    "# save the plot in html\n",
    "fig8.write_html(\"./output/fig8.html\")"
   ]
  },
  {
   "cell_type": "markdown",
   "metadata": {},
   "source": [
    "# 9. Area chart"
   ]
  },
  {
   "cell_type": "code",
   "execution_count": null,
   "metadata": {},
   "outputs": [],
   "source": [
    "# area chart\n",
    "df_area = df.sort_values(by=['sepal_length'])\n",
    "\n",
    "fig9 = px.area(df_area, x='sepal_width', y='sepal_length', color='species')\n",
    "fig9.show()\n",
    "\n",
    "# save the plot\n",
    "fig9.write_image(\"./output/fig9.png\", scale=3)"
   ]
  },
  {
   "cell_type": "markdown",
   "metadata": {},
   "source": [
    "# 10. Bubble Chart"
   ]
  },
  {
   "cell_type": "code",
   "execution_count": null,
   "metadata": {},
   "outputs": [],
   "source": [
    "# bubble chart\n",
    "\n",
    "fig10 = px.scatter(df, x='sepal_length', y='sepal_width', size='petal_length', color='species')\n",
    "fig10.show()"
   ]
  },
  {
   "cell_type": "markdown",
   "metadata": {},
   "source": [
    "# 11. Sunburst chart"
   ]
  },
  {
   "cell_type": "code",
   "execution_count": null,
   "metadata": {},
   "outputs": [],
   "source": [
    "# 11 sunburst chart\n",
    "df_sunburst = df.groupby(['species', 'petal_width']).size().reset_index(name='counts')\n",
    "\n",
    "fig11 = px.sunburst(df_sunburst, path=['species', 'petal_width'], values='counts')\n",
    "fig11.show()\n",
    "\n",
    "# save this plot as html\n",
    "fig11.write_html(\"./output/fig11.html\")\n",
    "\n",
    "#save this plot\n",
    "fig11.write_image(\"./output/fig11.png\", scale=3)"
   ]
  },
  {
   "cell_type": "markdown",
   "metadata": {},
   "source": [
    "Let's try another sunburst plot"
   ]
  },
  {
   "cell_type": "code",
   "execution_count": null,
   "metadata": {},
   "outputs": [],
   "source": [
    "# create sunburst plot on titanic dataset\n",
    "import plotly.express as px\n",
    "import seaborn as sns\n",
    "# Load Titanic dataset\n",
    "titanic = sns.load_dataset('titanic')\n",
    "# Create a sunburst plot\n",
    "fig = px.sunburst(titanic, \n",
    "                  path=['sex','class', 'who', 'alive', 'alone'], \n",
    "                  values='survived' , color='sex')\n",
    "# Show the plot\n",
    "fig.show()"
   ]
  },
  {
   "cell_type": "markdown",
   "metadata": {},
   "source": [
    "# 12. Parallel Coordinates plot"
   ]
  },
  {
   "cell_type": "code",
   "execution_count": null,
   "metadata": {},
   "outputs": [],
   "source": [
    "# Add a numeric species_id based on species names for coloring\n",
    "df['species_id'] = df['species'].astype('category').cat.codes\n",
    "\n",
    "# Parallel Coordinates Plot\n",
    "fig12 = px.parallel_coordinates(df, color='species_id', labels={'species_id': 'species'}, color_continuous_scale=px.colors.diverging.Tealrose)\n",
    "fig12.show()\n",
    "\n",
    "# save the plot in html\n",
    "fig12.write_html(\"./output/fig12.html\")\n",
    "\n",
    "#save the plot\n",
    "fig12.write_image(\"./output/fig12.png\", scale=3)"
   ]
  },
  {
   "cell_type": "markdown",
   "metadata": {},
   "source": [
    "# 13. Desity contour plot"
   ]
  },
  {
   "cell_type": "code",
   "execution_count": null,
   "metadata": {},
   "outputs": [],
   "source": [
    "# Desity contour plot\n",
    "\n",
    "fig13 = px.density_contour(df, x='sepal_length', y='sepal_width', color='species')\n",
    "fig13.show()\n",
    "# save this plot\n",
    "fig13.write_image(\"./output/fig13.png\", scale=3)"
   ]
  },
  {
   "cell_type": "markdown",
   "metadata": {},
   "source": [
    "# 14. Ternary Plot"
   ]
  },
  {
   "cell_type": "code",
   "execution_count": null,
   "metadata": {},
   "outputs": [],
   "source": [
    "# Ternary Plot\n",
    "\n",
    "fig14 = px.scatter_ternary(df, a='sepal_length', b='sepal_width', c='petal_width', color='species')\n",
    "fig14.show()\n",
    "\n",
    "# save this plot\n",
    "fig14.write_image(\"./output/fig14.png\", scale=3)"
   ]
  },
  {
   "cell_type": "markdown",
   "metadata": {},
   "source": [
    "# 15. Polar chart (Radar Chart)"
   ]
  },
  {
   "cell_type": "code",
   "execution_count": null,
   "metadata": {},
   "outputs": [],
   "source": [
    "# Polar chart (Radar Chart)\n",
    "\n",
    "df_radar = df.groupby(['species']).mean().reset_index()\n",
    "\n",
    "fig15 = px.line_polar(df_radar, r='sepal_length', theta='species', line_close=True)\n",
    "fig15.show()\n",
    "\n",
    "# save the plot\n",
    "fig15.write_image(\"./output/fig15.png\", scale=3)"
   ]
  },
  {
   "cell_type": "markdown",
   "metadata": {},
   "source": [
    "---\n",
    "\n",
    "# Information about the instructor:\n",
    "\n",
    "[<img src=\"https://i1.rgstatic.net/ii/profile.image/586711738368000-1516894387796_Q512/Muhammad-Tufail-22.jpg\" width=\"20%\">](https://www.facebook.com/groups/codanics/permalink/1872283496462303/ \"Image\")\n",
    "\n",
    "**Dr. Muhammad Aammar Tufail**\n",
    "\n",
    "PhD Data Science in Agriculture\\\n",
    "[Youtube channel](https://www.youtube.com/channel/UCmNXJXWONLNF6bdftGY0Otw/)\\\n",
    "[Twitter](https://twitter.com/aammar_tufail)\\\n",
    "[Linkedin](https://www.linkedin.com/in/muhammad-aammar-tufail-02471213b/)\\\n",
    "[github](https://github.com/AammarTufail)\n"
   ]
  }
 ],
 "metadata": {
  "kernelspec": {
   "display_name": "python_eda",
   "language": "python",
   "name": "python3"
  },
  "language_info": {
   "codemirror_mode": {
    "name": "ipython",
    "version": 3
   },
   "file_extension": ".py",
   "mimetype": "text/x-python",
   "name": "python",
   "nbconvert_exporter": "python",
   "pygments_lexer": "ipython3",
   "version": "3.11.5"
  }
 },
 "nbformat": 4,
 "nbformat_minor": 2
}
