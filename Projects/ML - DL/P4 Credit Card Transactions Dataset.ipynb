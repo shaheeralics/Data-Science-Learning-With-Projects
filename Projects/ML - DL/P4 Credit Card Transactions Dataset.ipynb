{
 "cells": [
  {
   "cell_type": "markdown",
   "metadata": {},
   "source": [
    "<div style=\"background-color:#FAF3F3; padding: 20px; border-radius: 10px; box-shadow: 0 2px 4px 0 rgba(0, 0, 0, 0.1); border:2px solid #E57373; margin-top: 20px;\">\n",
    "    <h1 style=\"font-size:24px; font-family:Georgia, serif; color:#D32F2F; text-align: center; text-shadow: 2px 2px 4px rgba(0, 0, 0, 0.2);\">\n",
    "        Credit Card Fraud Detection: Model Training and Analysis\n",
    "    </h1>\n",
    "</div>\n"
   ]
  },
  {
   "cell_type": "markdown",
   "metadata": {},
   "source": [
    "<div style=\"background-color:#E6F9E6; padding: 20px; border-radius: 10px; box-shadow: 0 2px 4px 0 rgba(0, 0, 0, 0.1); border:2px solid #66C2A5; margin-top: 20px;\">\n",
    "    <h1 style=\"font-size:24px; font-family:Georgia, serif; color:#4A90E2; text-align: center; text-shadow: 2px 2px 4px rgba(0, 0, 0, 0.2);\">\n",
    "        About Author\n",
    "    </h1>\n",
    "    <div style=\"text-align:center;\">\n",
    "        <a href=\"https://www.sak.kesug.com\">\n",
    "            <img src=\"https://media.licdn.com/dms/image/v2/D4D03AQEsEJ_gVNnU3w/profile-displayphoto-shrink_200_200/profile-displayphoto-shrink_200_200/0/1720678393429?e=2147483647&v=beta&t=RALfVAKvT6TmP2BBpil_CGzZK5L5ykNUou5yModXTVw\" style=\"width: 20%; border-radius: 50%;\" alt=\"Shaheer Ali\">\n",
    "        </a>\n",
    "    </div>\n",
    "    <h2 style=\"font-size:20px; font-family:Georgia, serif; color:#333; text-align:center;\">Mr. Shaheer Ali</h2>\n",
    "    <p style=\"font-size:16px; font-family:Georgia, serif; line-height: 1.5em; text-align:center; color:#333;\">\n",
    "        <em>Data Scientist / ML Engineer</em><br>\n",
    "        BS Computer Science\n",
    "    </p>\n",
    "    <div style=\"text-align:center; margin-top: 10px;\">\n",
    "        <a href=\"https://www.youtube.com/channel/UCUTphw52izMNv9W6AOIFGJA\">\n",
    "            <img width=\"50\" height=\"50\" src=\"https://img.icons8.com/color/48/youtube-play.png\" alt=\"youtube-play\">\n",
    "        </a>\n",
    "        <a href=\"https://twitter.com/__shaheerali190\">\n",
    "            <img width=\"50\" height=\"50\" src=\"https://img.icons8.com/dotty/80/x.png\" alt=\"x\">\n",
    "        </a>\n",
    "        <a href=\"https://www.linkedin.com/in/shaheer-ali-2761aa303/\">\n",
    "            <img width=\"50\" height=\"50\" src=\"https://img.icons8.com/color/48/linkedin.png\" alt=\"linkedin\">\n",
    "        </a>\n",
    "        <a href=\"https://github.com/shaheeralics\">\n",
    "            <img width=\"50\" height=\"50\" src=\"https://img.icons8.com/ios-glyphs/50/github.png\" alt=\"github\">\n",
    "        </a>\n",
    "        <a href=\"https://www.kaggle.com/shaheerali197\">\n",
    "            <img width=\"50\" height=\"50\" src=\"https://img.icons8.com/clouds/100/kaggle.png\" alt=\"kaggle\">\n",
    "        </a>\n",
    "    </div>\n",
    "    <div style=\"text-align:center; margin-top: 20px;\">\n",
    "        <a href=\"https://www.sak.kesug.com\" style=\"font-size:18px; font-family:Georgia, serif; color:#4A90E2; text-decoration:none; border:2px solid #4A90E2; padding: 5px 15px; border-radius: 5px;\">\n",
    "            Portfolio Site\n",
    "        </a>\n",
    "    </div>\n",
    "</div>\n"
   ]
  },
  {
   "cell_type": "markdown",
   "metadata": {},
   "source": [
    "<div style=\"background-color:#D0E6F3; padding: 12px; border-radius: 10px; box-shadow: 0 2px 4px 0 rgba(0, 0, 0, 0.1); border:2px solid #66C2A5; margin-top: 12px;\">\n",
    "    <h1 style=\"font-size:28px; font-family:Georgia, serif; color:#000000; text-align: center; text-shadow: 2px 2px 4px rgba(0, 0, 0, 0.2);\">\n",
    "        Importing Libraries\n",
    "    </h1>\n",
    "</div>"
   ]
  },
  {
   "cell_type": "code",
   "execution_count": 2,
   "metadata": {},
   "outputs": [],
   "source": [
    "# importing necessary libraries\n",
    "import pandas as pd\n",
    "import numpy as np\n",
    "import matplotlib.pyplot as plt\n",
    "import seaborn as sns"
   ]
  },
  {
   "cell_type": "code",
   "execution_count": 6,
   "metadata": {},
   "outputs": [],
   "source": [
    "# importing Classification models from sklearn\n",
    "from sklearn.linear_model import LogisticRegression\n",
    "from sklearn.ensemble import RandomForestClassifier\n",
    "from sklearn.svm import SVC\n",
    "from sklearn.neighbors import KNeighborsClassifier\n",
    "from sklearn.tree import DecisionTreeClassifier\n",
    "from sklearn.naive_bayes import GaussianNB\n",
    "\n",
    "# importing necessary libraries for model evaluation\n",
    "from sklearn.model_selection import train_test_split\n",
    "from sklearn.metrics import confusion_matrix, classification_report\n",
    "from sklearn.metrics import accuracy_score, precision_score, recall_score, f1_score\n",
    "from sklearn.metrics import roc_curve\n",
    "from sklearn.metrics import auc\n",
    "from sklearn.metrics import precision_recall_curve\n",
    "from sklearn.metrics import average_precision_score\n",
    "\n"
   ]
  },
  {
   "cell_type": "markdown",
   "metadata": {},
   "source": [
    "<div style=\"background-color:#D0E6F3; padding: 12px; border-radius: 10px; box-shadow: 0 2px 4px 0 rgba(0, 0, 0, 0.1); border:2px solid #66C2A5; margin-top: 12px;\">\n",
    "    <h1 style=\"font-size:28px; font-family:Georgia, serif; color:#000000; text-align: center; text-shadow: 2px 2px 4px rgba(0, 0, 0, 0.2);\">\n",
    "        Loading Dataset\n",
    "    </h1>\n",
    "</div>"
   ]
  },
  {
   "cell_type": "code",
   "execution_count": 13,
   "metadata": {},
   "outputs": [],
   "source": [
    "#importing dataset which is avail in 6 different files\n",
    "df = pd.DataFrame()\n",
    "for i in range(1, 6):\n",
    "    df = pd.concat([df, pd.read_csv(f\"df = pd.read_csv('../../../../datasets/Projects/Credit Card/credit_card_transactions{i}.csv\")], axis=0)"
   ]
  },
  {
   "cell_type": "code",
   "execution_count": 16,
   "metadata": {},
   "outputs": [],
   "source": [
    "# saving the dataset to a csv file\n",
    "df.to_csv('credit_card_transactions.csv', index=False)"
   ]
  },
  {
   "cell_type": "markdown",
   "metadata": {},
   "source": [
    "<div style=\"background-color:#D0E6F3; padding: 12px; border-radius: 10px; box-shadow: 0 2px 4px 0 rgba(0, 0, 0, 0.1); border:2px solid #66C2A5; margin-top: 12px;\">\n",
    "    <h1 style=\"font-size:28px; font-family:Georgia, serif; color:#000000; text-align: center; text-shadow: 2px 2px 4px rgba(0, 0, 0, 0.2);\">\n",
    "        Exploratory Data Analysis\n",
    "    </h1>\n",
    "</div>"
   ]
  },
  {
   "cell_type": "code",
   "execution_count": 25,
   "metadata": {},
   "outputs": [],
   "source": [
    "# showing max clolumns\n",
    "pd.set_option('display.max_columns', None)"
   ]
  },
  {
   "cell_type": "code",
   "execution_count": 26,
   "metadata": {},
   "outputs": [
    {
     "data": {
      "text/html": [
       "<div>\n",
       "<style scoped>\n",
       "    .dataframe tbody tr th:only-of-type {\n",
       "        vertical-align: middle;\n",
       "    }\n",
       "\n",
       "    .dataframe tbody tr th {\n",
       "        vertical-align: top;\n",
       "    }\n",
       "\n",
       "    .dataframe thead th {\n",
       "        text-align: right;\n",
       "    }\n",
       "</style>\n",
       "<table border=\"1\" class=\"dataframe\">\n",
       "  <thead>\n",
       "    <tr style=\"text-align: right;\">\n",
       "      <th></th>\n",
       "      <th>Unnamed: 0</th>\n",
       "      <th>trans_date_trans_time</th>\n",
       "      <th>cc_num</th>\n",
       "      <th>merchant</th>\n",
       "      <th>category</th>\n",
       "      <th>amt</th>\n",
       "      <th>first</th>\n",
       "      <th>last</th>\n",
       "      <th>gender</th>\n",
       "      <th>street</th>\n",
       "      <th>city</th>\n",
       "      <th>state</th>\n",
       "      <th>zip</th>\n",
       "      <th>lat</th>\n",
       "      <th>long</th>\n",
       "      <th>city_pop</th>\n",
       "      <th>job</th>\n",
       "      <th>dob</th>\n",
       "      <th>trans_num</th>\n",
       "      <th>unix_time</th>\n",
       "      <th>merch_lat</th>\n",
       "      <th>merch_long</th>\n",
       "      <th>is_fraud</th>\n",
       "      <th>merch_zipcode</th>\n",
       "    </tr>\n",
       "  </thead>\n",
       "  <tbody>\n",
       "    <tr>\n",
       "      <th>148826</th>\n",
       "      <td>581050</td>\n",
       "      <td>2019-09-02 22:30:28</td>\n",
       "      <td>4809701904914</td>\n",
       "      <td>fraud_Spencer PLC</td>\n",
       "      <td>entertainment</td>\n",
       "      <td>141.90</td>\n",
       "      <td>Sabrina</td>\n",
       "      <td>Nolan</td>\n",
       "      <td>F</td>\n",
       "      <td>312 Eric Expressway Apt. 014</td>\n",
       "      <td>Phenix City</td>\n",
       "      <td>AL</td>\n",
       "      <td>36869</td>\n",
       "      <td>32.4204</td>\n",
       "      <td>-85.0796</td>\n",
       "      <td>59744</td>\n",
       "      <td>Chemical engineer</td>\n",
       "      <td>1984-02-07</td>\n",
       "      <td>5b58f16ee122c851480a594e92280473</td>\n",
       "      <td>1346625028</td>\n",
       "      <td>32.635969</td>\n",
       "      <td>-85.844697</td>\n",
       "      <td>0</td>\n",
       "      <td>36078.0</td>\n",
       "    </tr>\n",
       "    <tr>\n",
       "      <th>140504</th>\n",
       "      <td>140504</td>\n",
       "      <td>2019-03-17 16:53:04</td>\n",
       "      <td>30092964733035</td>\n",
       "      <td>fraud_Gaylord-Powlowski</td>\n",
       "      <td>home</td>\n",
       "      <td>32.89</td>\n",
       "      <td>Jessica</td>\n",
       "      <td>Terry</td>\n",
       "      <td>F</td>\n",
       "      <td>6412 Elizabeth Gardens Suite 633</td>\n",
       "      <td>Maysville</td>\n",
       "      <td>KY</td>\n",
       "      <td>41056</td>\n",
       "      <td>38.6207</td>\n",
       "      <td>-83.8067</td>\n",
       "      <td>14228</td>\n",
       "      <td>Advertising account executive</td>\n",
       "      <td>1971-03-26</td>\n",
       "      <td>2230ac808ea260eef372e89d13335c73</td>\n",
       "      <td>1332003184</td>\n",
       "      <td>39.048156</td>\n",
       "      <td>-84.721987</td>\n",
       "      <td>0</td>\n",
       "      <td>41005.0</td>\n",
       "    </tr>\n",
       "    <tr>\n",
       "      <th>147322</th>\n",
       "      <td>579546</td>\n",
       "      <td>2019-09-02 13:22:00</td>\n",
       "      <td>567868110212</td>\n",
       "      <td>fraud_Goyette, Howell and Collier</td>\n",
       "      <td>shopping_pos</td>\n",
       "      <td>28.73</td>\n",
       "      <td>Dawn</td>\n",
       "      <td>Tucker</td>\n",
       "      <td>F</td>\n",
       "      <td>789 Herring Manors</td>\n",
       "      <td>Houston</td>\n",
       "      <td>TX</td>\n",
       "      <td>77007</td>\n",
       "      <td>29.7736</td>\n",
       "      <td>-95.4034</td>\n",
       "      <td>2906700</td>\n",
       "      <td>Copywriter, advertising</td>\n",
       "      <td>1984-12-16</td>\n",
       "      <td>3f2ef663ffcdf44b861617cd7a13a658</td>\n",
       "      <td>1346592120</td>\n",
       "      <td>29.939293</td>\n",
       "      <td>-96.059766</td>\n",
       "      <td>0</td>\n",
       "      <td>NaN</td>\n",
       "    </tr>\n",
       "    <tr>\n",
       "      <th>211577</th>\n",
       "      <td>859913</td>\n",
       "      <td>2019-12-17 05:48:55</td>\n",
       "      <td>4836998673805450</td>\n",
       "      <td>fraud_Kerluke Inc</td>\n",
       "      <td>misc_net</td>\n",
       "      <td>1.17</td>\n",
       "      <td>Susan</td>\n",
       "      <td>Hardy</td>\n",
       "      <td>F</td>\n",
       "      <td>516 Brown Parks</td>\n",
       "      <td>Manistique</td>\n",
       "      <td>MI</td>\n",
       "      <td>49854</td>\n",
       "      <td>46.0062</td>\n",
       "      <td>-86.2555</td>\n",
       "      <td>6469</td>\n",
       "      <td>Trade mark attorney</td>\n",
       "      <td>1979-04-12</td>\n",
       "      <td>03d5c81835bf830b19f21bef373307d9</td>\n",
       "      <td>1355723335</td>\n",
       "      <td>46.112716</td>\n",
       "      <td>-85.910080</td>\n",
       "      <td>0</td>\n",
       "      <td>49836.0</td>\n",
       "    </tr>\n",
       "    <tr>\n",
       "      <th>201580</th>\n",
       "      <td>1066028</td>\n",
       "      <td>2020-03-18 02:25:48</td>\n",
       "      <td>345933964507467</td>\n",
       "      <td>fraud_Welch Inc</td>\n",
       "      <td>misc_net</td>\n",
       "      <td>8.98</td>\n",
       "      <td>Carol</td>\n",
       "      <td>Dillon</td>\n",
       "      <td>F</td>\n",
       "      <td>27479 Reeves Dale</td>\n",
       "      <td>Whaleyville</td>\n",
       "      <td>MD</td>\n",
       "      <td>21872</td>\n",
       "      <td>38.4121</td>\n",
       "      <td>-75.2811</td>\n",
       "      <td>718</td>\n",
       "      <td>Regulatory affairs officer</td>\n",
       "      <td>1985-03-19</td>\n",
       "      <td>68a4edc4b658af45f751c1bcd0b40a4d</td>\n",
       "      <td>1363573548</td>\n",
       "      <td>37.697296</td>\n",
       "      <td>-76.279104</td>\n",
       "      <td>0</td>\n",
       "      <td>22482.0</td>\n",
       "    </tr>\n",
       "  </tbody>\n",
       "</table>\n",
       "</div>"
      ],
      "text/plain": [
       "        Unnamed: 0 trans_date_trans_time            cc_num  \\\n",
       "148826      581050   2019-09-02 22:30:28     4809701904914   \n",
       "140504      140504   2019-03-17 16:53:04    30092964733035   \n",
       "147322      579546   2019-09-02 13:22:00      567868110212   \n",
       "211577      859913   2019-12-17 05:48:55  4836998673805450   \n",
       "201580     1066028   2020-03-18 02:25:48   345933964507467   \n",
       "\n",
       "                                 merchant       category     amt    first  \\\n",
       "148826                  fraud_Spencer PLC  entertainment  141.90  Sabrina   \n",
       "140504            fraud_Gaylord-Powlowski           home   32.89  Jessica   \n",
       "147322  fraud_Goyette, Howell and Collier   shopping_pos   28.73     Dawn   \n",
       "211577                  fraud_Kerluke Inc       misc_net    1.17    Susan   \n",
       "201580                    fraud_Welch Inc       misc_net    8.98    Carol   \n",
       "\n",
       "          last gender                            street         city state  \\\n",
       "148826   Nolan      F      312 Eric Expressway Apt. 014  Phenix City    AL   \n",
       "140504   Terry      F  6412 Elizabeth Gardens Suite 633    Maysville    KY   \n",
       "147322  Tucker      F                789 Herring Manors      Houston    TX   \n",
       "211577   Hardy      F                   516 Brown Parks   Manistique    MI   \n",
       "201580  Dillon      F                 27479 Reeves Dale  Whaleyville    MD   \n",
       "\n",
       "          zip      lat     long  city_pop                            job  \\\n",
       "148826  36869  32.4204 -85.0796     59744              Chemical engineer   \n",
       "140504  41056  38.6207 -83.8067     14228  Advertising account executive   \n",
       "147322  77007  29.7736 -95.4034   2906700        Copywriter, advertising   \n",
       "211577  49854  46.0062 -86.2555      6469            Trade mark attorney   \n",
       "201580  21872  38.4121 -75.2811       718     Regulatory affairs officer   \n",
       "\n",
       "               dob                         trans_num   unix_time  merch_lat  \\\n",
       "148826  1984-02-07  5b58f16ee122c851480a594e92280473  1346625028  32.635969   \n",
       "140504  1971-03-26  2230ac808ea260eef372e89d13335c73  1332003184  39.048156   \n",
       "147322  1984-12-16  3f2ef663ffcdf44b861617cd7a13a658  1346592120  29.939293   \n",
       "211577  1979-04-12  03d5c81835bf830b19f21bef373307d9  1355723335  46.112716   \n",
       "201580  1985-03-19  68a4edc4b658af45f751c1bcd0b40a4d  1363573548  37.697296   \n",
       "\n",
       "        merch_long  is_fraud  merch_zipcode  \n",
       "148826  -85.844697         0        36078.0  \n",
       "140504  -84.721987         0        41005.0  \n",
       "147322  -96.059766         0            NaN  \n",
       "211577  -85.910080         0        49836.0  \n",
       "201580  -76.279104         0        22482.0  "
      ]
     },
     "execution_count": 26,
     "metadata": {},
     "output_type": "execute_result"
    }
   ],
   "source": [
    "# mid of the df like df.tail() etc\n",
    "df.sample(5)"
   ]
  },
  {
   "cell_type": "code",
   "execution_count": 18,
   "metadata": {},
   "outputs": [
    {
     "name": "stdout",
     "output_type": "stream",
     "text": [
      "<class 'pandas.core.frame.DataFrame'>\n",
      "Index: 1080560 entries, 0 to 216111\n",
      "Data columns (total 24 columns):\n",
      " #   Column                 Non-Null Count    Dtype  \n",
      "---  ------                 --------------    -----  \n",
      " 0   Unnamed: 0             1080560 non-null  int64  \n",
      " 1   trans_date_trans_time  1080560 non-null  object \n",
      " 2   cc_num                 1080560 non-null  int64  \n",
      " 3   merchant               1080560 non-null  object \n",
      " 4   category               1080560 non-null  object \n",
      " 5   amt                    1080560 non-null  float64\n",
      " 6   first                  1080560 non-null  object \n",
      " 7   last                   1080560 non-null  object \n",
      " 8   gender                 1080560 non-null  object \n",
      " 9   street                 1080560 non-null  object \n",
      " 10  city                   1080560 non-null  object \n",
      " 11  state                  1080560 non-null  object \n",
      " 12  zip                    1080560 non-null  int64  \n",
      " 13  lat                    1080560 non-null  float64\n",
      " 14  long                   1080560 non-null  float64\n",
      " 15  city_pop               1080560 non-null  int64  \n",
      " 16  job                    1080560 non-null  object \n",
      " 17  dob                    1080560 non-null  object \n",
      " 18  trans_num              1080560 non-null  object \n",
      " 19  unix_time              1080560 non-null  int64  \n",
      " 20  merch_lat              1080560 non-null  float64\n",
      " 21  merch_long             1080560 non-null  float64\n",
      " 22  is_fraud               1080560 non-null  int64  \n",
      " 23  merch_zipcode          917292 non-null   float64\n",
      "dtypes: float64(6), int64(6), object(12)\n",
      "memory usage: 206.1+ MB\n"
     ]
    }
   ],
   "source": [
    "df.info()"
   ]
  },
  {
   "cell_type": "code",
   "execution_count": 17,
   "metadata": {},
   "outputs": [
    {
     "data": {
      "text/plain": [
       "Unnamed: 0               1080560\n",
       "trans_date_trans_time    1062107\n",
       "cc_num                       967\n",
       "merchant                     693\n",
       "category                      14\n",
       "amt                        49256\n",
       "first                        349\n",
       "last                         479\n",
       "gender                         2\n",
       "street                       967\n",
       "city                         880\n",
       "state                         51\n",
       "zip                          954\n",
       "lat                          952\n",
       "long                         953\n",
       "city_pop                     866\n",
       "job                          493\n",
       "dob                          952\n",
       "trans_num                1080560\n",
       "unix_time                1062139\n",
       "merch_lat                1046446\n",
       "merch_long               1065948\n",
       "is_fraud                       2\n",
       "merch_zipcode              28250\n",
       "dtype: int64"
      ]
     },
     "execution_count": 17,
     "metadata": {},
     "output_type": "execute_result"
    }
   ],
   "source": [
    "df.nunique()"
   ]
  },
  {
   "cell_type": "code",
   "execution_count": 28,
   "metadata": {},
   "outputs": [
    {
     "data": {
      "text/plain": [
       "(1080560, 24)"
      ]
     },
     "execution_count": 28,
     "metadata": {},
     "output_type": "execute_result"
    }
   ],
   "source": [
    "df.shape"
   ]
  },
  {
   "cell_type": "code",
   "execution_count": 30,
   "metadata": {},
   "outputs": [
    {
     "data": {
      "text/plain": [
       "Unnamed: 0                0.000000\n",
       "trans_date_trans_time     0.000000\n",
       "cc_num                    0.000000\n",
       "merchant                  0.000000\n",
       "category                  0.000000\n",
       "amt                       0.000000\n",
       "first                     0.000000\n",
       "last                      0.000000\n",
       "gender                    0.000000\n",
       "street                    0.000000\n",
       "city                      0.000000\n",
       "state                     0.000000\n",
       "zip                       0.000000\n",
       "lat                       0.000000\n",
       "long                      0.000000\n",
       "city_pop                  0.000000\n",
       "job                       0.000000\n",
       "dob                       0.000000\n",
       "trans_num                 0.000000\n",
       "unix_time                 0.000000\n",
       "merch_lat                 0.000000\n",
       "merch_long                0.000000\n",
       "is_fraud                  0.000000\n",
       "merch_zipcode            15.109573\n",
       "dtype: float64"
      ]
     },
     "execution_count": 30,
     "metadata": {},
     "output_type": "execute_result"
    }
   ],
   "source": [
    "# checking the missing values\n",
    "df.isnull().sum()/len(df)*100"
   ]
  },
  {
   "cell_type": "markdown",
   "metadata": {},
   "source": [
    "As merch_zipcode can not be replaced with mean median mode, so we will drop the missing values"
   ]
  },
  {
   "cell_type": "code",
   "execution_count": 41,
   "metadata": {},
   "outputs": [],
   "source": [
    "# removing the missing values of merch_zipcode\n",
    "df = df.dropna(subset=['merch_zipcode'])\n"
   ]
  },
  {
   "cell_type": "code",
   "execution_count": 42,
   "metadata": {},
   "outputs": [
    {
     "data": {
      "text/plain": [
       "Unnamed: 0               0.0\n",
       "trans_date_trans_time    0.0\n",
       "cc_num                   0.0\n",
       "merchant                 0.0\n",
       "category                 0.0\n",
       "amt                      0.0\n",
       "first                    0.0\n",
       "last                     0.0\n",
       "gender                   0.0\n",
       "street                   0.0\n",
       "city                     0.0\n",
       "state                    0.0\n",
       "zip                      0.0\n",
       "lat                      0.0\n",
       "long                     0.0\n",
       "city_pop                 0.0\n",
       "job                      0.0\n",
       "dob                      0.0\n",
       "trans_num                0.0\n",
       "unix_time                0.0\n",
       "merch_lat                0.0\n",
       "merch_long               0.0\n",
       "is_fraud                 0.0\n",
       "merch_zipcode            0.0\n",
       "dtype: float64"
      ]
     },
     "execution_count": 42,
     "metadata": {},
     "output_type": "execute_result"
    }
   ],
   "source": [
    "# checking the missing values again\n",
    "df.isnull().sum()/len(df)*100"
   ]
  },
  {
   "cell_type": "markdown",
   "metadata": {},
   "source": [
    "Checking the shape of dataset after removing the missing values"
   ]
  },
  {
   "cell_type": "code",
   "execution_count": 43,
   "metadata": {},
   "outputs": [
    {
     "data": {
      "text/plain": [
       "(917292, 24)"
      ]
     },
     "execution_count": 43,
     "metadata": {},
     "output_type": "execute_result"
    }
   ],
   "source": [
    "df.shape"
   ]
  },
  {
   "cell_type": "markdown",
   "metadata": {},
   "source": [
    "Checking for Duplicates"
   ]
  },
  {
   "cell_type": "code",
   "execution_count": 44,
   "metadata": {},
   "outputs": [
    {
     "data": {
      "text/plain": [
       "0"
      ]
     },
     "execution_count": 44,
     "metadata": {},
     "output_type": "execute_result"
    }
   ],
   "source": [
    "# Checking for Duplicates\n",
    "df.duplicated().sum()"
   ]
  },
  {
   "cell_type": "markdown",
   "metadata": {},
   "source": [
    "It means there are no duplicates in the Dataset"
   ]
  },
  {
   "cell_type": "code",
   "execution_count": null,
   "metadata": {},
   "outputs": [],
   "source": []
  }
 ],
 "metadata": {
  "kernelspec": {
   "display_name": "machine_learning",
   "language": "python",
   "name": "python3"
  },
  "language_info": {
   "codemirror_mode": {
    "name": "ipython",
    "version": 3
   },
   "file_extension": ".py",
   "mimetype": "text/x-python",
   "name": "python",
   "nbconvert_exporter": "python",
   "pygments_lexer": "ipython3",
   "version": "3.11.9"
  }
 },
 "nbformat": 4,
 "nbformat_minor": 2
}
