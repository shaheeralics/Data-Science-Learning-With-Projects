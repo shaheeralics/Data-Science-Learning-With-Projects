{
 "cells": [
  {
   "cell_type": "markdown",
   "metadata": {},
   "source": [
    "<div style=\"background-color:#FAF3F3; padding: 20px; border-radius: 10px; box-shadow: 0 2px 4px 0 rgba(0, 0, 0, 0.1); border:2px solid #E57373; margin-top: 20px;\">\n",
    "    <h1 style=\"font-size:24px; font-family:Georgia, serif; color:#D32F2F; text-align: center; text-shadow: 2px 2px 4px rgba(0, 0, 0, 0.2);\">\n",
    "        Credit Card Fraud Detection: Model Training and Analysis\n",
    "    </h1>\n",
    "</div>\n"
   ]
  },
  {
   "cell_type": "markdown",
   "metadata": {},
   "source": [
    "<div style=\"background-color:#E6F9E6; padding: 20px; border-radius: 10px; box-shadow: 0 2px 4px 0 rgba(0, 0, 0, 0.1); border:2px solid #66C2A5; margin-top: 20px;\">\n",
    "    <h1 style=\"font-size:24px; font-family:Georgia, serif; color:#4A90E2; text-align: center; text-shadow: 2px 2px 4px rgba(0, 0, 0, 0.2);\">\n",
    "        About Author\n",
    "    </h1>\n",
    "    <div style=\"text-align:center;\">\n",
    "        <a href=\"https://www.sak.kesug.com\">\n",
    "            <img src=\"https://media.licdn.com/dms/image/v2/D4D03AQEsEJ_gVNnU3w/profile-displayphoto-shrink_200_200/profile-displayphoto-shrink_200_200/0/1720678393429?e=2147483647&v=beta&t=RALfVAKvT6TmP2BBpil_CGzZK5L5ykNUou5yModXTVw\" style=\"width: 20%; border-radius: 50%;\" alt=\"Shaheer Ali\">\n",
    "        </a>\n",
    "    </div>\n",
    "    <h2 style=\"font-size:20px; font-family:Georgia, serif; color:#333; text-align:center;\">Mr. Shaheer Ali</h2>\n",
    "    <p style=\"font-size:16px; font-family:Georgia, serif; line-height: 1.5em; text-align:center; color:#333;\">\n",
    "        <em>Data Scientist / ML Engineer</em><br>\n",
    "        BS Computer Science\n",
    "    </p>\n",
    "    <div style=\"text-align:center; margin-top: 10px;\">\n",
    "        <a href=\"https://www.youtube.com/channel/UCUTphw52izMNv9W6AOIFGJA\">\n",
    "            <img width=\"50\" height=\"50\" src=\"https://img.icons8.com/color/48/youtube-play.png\" alt=\"youtube-play\">\n",
    "        </a>\n",
    "        <a href=\"https://twitter.com/__shaheerali190\">\n",
    "            <img width=\"50\" height=\"50\" src=\"https://img.icons8.com/dotty/80/x.png\" alt=\"x\">\n",
    "        </a>\n",
    "        <a href=\"https://www.linkedin.com/in/shaheer-ali-2761aa303/\">\n",
    "            <img width=\"50\" height=\"50\" src=\"https://img.icons8.com/color/48/linkedin.png\" alt=\"linkedin\">\n",
    "        </a>\n",
    "        <a href=\"https://github.com/shaheeralics\">\n",
    "            <img width=\"50\" height=\"50\" src=\"https://img.icons8.com/ios-glyphs/50/github.png\" alt=\"github\">\n",
    "        </a>\n",
    "        <a href=\"https://www.kaggle.com/shaheerali197\">\n",
    "            <img width=\"50\" height=\"50\" src=\"https://img.icons8.com/clouds/100/kaggle.png\" alt=\"kaggle\">\n",
    "        </a>\n",
    "    </div>\n",
    "    <div style=\"text-align:center; margin-top: 20px;\">\n",
    "        <a href=\"https://www.sak.kesug.com\" style=\"font-size:18px; font-family:Georgia, serif; color:#4A90E2; text-decoration:none; border:2px solid #4A90E2; padding: 5px 15px; border-radius: 5px;\">\n",
    "            Portfolio Site\n",
    "        </a>\n",
    "    </div>\n",
    "</div>\n"
   ]
  },
  {
   "cell_type": "markdown",
   "metadata": {},
   "source": [
    "<div style=\"background-color:#E6F9E6; padding: 20px; border-radius: 10px; box-shadow: 0 2px 4px 0 rgba(0, 0, 0, 0.1); border:2px solid #66C2A5; margin-top: 20px;\">\n",
    "    <h1 style=\"font-size:24px; font-family:Georgia, serif; color:#4A90E2; text-align: center; text-shadow: 2px 2px 4px rgba(0, 0, 0, 0.2);\">\n",
    "        About the Dataset\n",
    "    </h1>\n",
    "    <p style=\"font-size:16px; font-family:Georgia, serif; line-height: 1.5em; text-align:center; color:#333;\">\n",
    "        The Credit Card Transactions Dataset provides detailed records of credit card transactions, including information about transaction times, amounts, and associated personal and merchant details. This dataset has over 1.85M rows.\n",
    "    </p>\n",
    "    <h2 style=\"font-size:20px; font-family:Georgia, serif; color:#333; text-align:center;\">How This Dataset Can Be Used:</h2>\n",
    "    <ul style=\"font-size:16px; font-family:Georgia, serif; line-height: 1.5em; color:#333; text-align:center;\">\n",
    "        <li><strong>Fraud Detection:</strong> Use machine learning models to identify fraudulent transactions by examining patterns in transaction amounts, locations, and user profiles. Enhancing fraud detection systems becomes feasible by analyzing behavioral patterns.</li>\n",
    "        <li><strong>Customer Segmentation:</strong> Segment customers based on spending patterns, location, and demographics. Tailor marketing strategies and personalized offers to these different customer segments for better engagement.</li>\n",
    "        <li><strong>Transaction Classification:</strong> Classify transactions into categories such as grocery or entertainment to understand spending behaviors. This helps in improving recommendation systems by identifying transaction categories and preferences.</li>\n",
    "        <li><strong>Geospatial Analysis:</strong> Analyze transaction data geographically to map spending patterns and detect regional trends or anomalies based on latitude and longitude.</li>\n",
    "        <li><strong>Predictive Modeling:</strong> Build models to forecast future spending behavior using historical transaction data. Predict potential fraudulent activities and financial trends.</li>\n",
    "        <li><strong>Behavioral Analysis:</strong> Examine how factors like transaction amount, merchant type, and time influence spending behavior. Study the relationships between user demographics and transaction patterns.</li>\n",
    "        <li><strong>Anomaly Detection:</strong> Identify unusual transaction patterns that deviate from normal behavior to detect potential fraud early. Employ anomaly detection techniques to spot outliers and suspicious activities.</li>\n",
    "    </ul>\n",
    "</div>\n"
   ]
  },
  {
   "cell_type": "markdown",
   "metadata": {},
   "source": [
    "<div style=\"background-color:#D0E6F3; padding: 12px; border-radius: 10px; box-shadow: 0 2px 4px 0 rgba(0, 0, 0, 0.1); border:2px solid #66C2A5; margin-top: 12px;\">\n",
    "    <h1 style=\"font-size:28px; font-family:Georgia, serif; color:#000000; text-align: center; text-shadow: 2px 2px 4px rgba(0, 0, 0, 0.2);\">\n",
    "        Importing Libraries\n",
    "    </h1>\n",
    "</div>"
   ]
  },
  {
   "cell_type": "code",
   "execution_count": 1,
   "metadata": {},
   "outputs": [],
   "source": [
    "# importing necessary libraries\n",
    "import pandas as pd\n",
    "import numpy as np\n",
    "import matplotlib.pyplot as plt\n",
    "import seaborn as sns"
   ]
  },
  {
   "cell_type": "code",
   "execution_count": 2,
   "metadata": {},
   "outputs": [],
   "source": [
    "\n",
    "\n",
    "# importing Classification models from sklearn\n",
    "from sklearn.linear_model import LogisticRegression\n",
    "from sklearn.ensemble import RandomForestClassifier\n",
    "from sklearn.svm import SVC\n",
    "from sklearn.neighbors import KNeighborsClassifier\n",
    "from sklearn.tree import DecisionTreeClassifier\n",
    "from sklearn.naive_bayes import GaussianNB\n",
    "\n",
    "# importing necessary libraries for model evaluation\n",
    "from sklearn.model_selection import train_test_split\n",
    "from sklearn.model_selection import cross_val_score\n",
    "from sklearn.impute import SimpleImputer\n",
    "from sklearn.metrics import confusion_matrix, classification_report\n",
    "from sklearn.metrics import accuracy_score, precision_score, recall_score, f1_score\n",
    "from sklearn.metrics import roc_curve\n",
    "from sklearn.metrics import auc\n",
    "from sklearn.metrics import precision_recall_curve\n",
    "from sklearn.metrics import average_precision_score\n",
    "from sklearn.pipeline import Pipeline\n",
    "from sklearn.preprocessing import StandardScaler\n",
    "from sklearn.compose import ColumnTransformer\n",
    "\n"
   ]
  },
  {
   "cell_type": "markdown",
   "metadata": {},
   "source": [
    "<div style=\"background-color:#D0E6F3; padding: 12px; border-radius: 10px; box-shadow: 0 2px 4px 0 rgba(0, 0, 0, 0.1); border:2px solid #66C2A5; margin-top: 12px;\">\n",
    "    <h1 style=\"font-size:28px; font-family:Georgia, serif; color:#000000; text-align: center; text-shadow: 2px 2px 4px rgba(0, 0, 0, 0.2);\">\n",
    "        Loading Dataset\n",
    "    </h1>\n",
    "</div>"
   ]
  },
  {
   "cell_type": "code",
   "execution_count": 3,
   "metadata": {},
   "outputs": [],
   "source": [
    "#importing dataset which is avail in 6 different files\n",
    "df = pd.DataFrame()\n",
    "for i in range(1, 6):\n",
    "    df = pd.concat([df, pd.read_csv(f\"df = pd.read_csv('../../../../datasets/Projects/Credit Card/credit_card_transactions{i}.csv\")], axis=0)"
   ]
  },
  {
   "cell_type": "markdown",
   "metadata": {},
   "source": [
    "<div style=\"background-color:#D0E6F3; padding: 12px; border-radius: 10px; box-shadow: 0 2px 4px 0 rgba(0, 0, 0, 0.1); border:2px solid #66C2A5; margin-top: 12px;\">\n",
    "    <h1 style=\"font-size:28px; font-family:Georgia, serif; color:#000000; text-align: center; text-shadow: 2px 2px 4px rgba(0, 0, 0, 0.2);\">\n",
    "        Exploratory Data Analysis\n",
    "    </h1>\n",
    "</div>"
   ]
  },
  {
   "cell_type": "code",
   "execution_count": 4,
   "metadata": {},
   "outputs": [],
   "source": [
    "# showing max clolumns\n",
    "pd.set_option('display.max_columns', None)"
   ]
  },
  {
   "cell_type": "code",
   "execution_count": 5,
   "metadata": {},
   "outputs": [
    {
     "data": {
      "text/html": [
       "<div>\n",
       "<style scoped>\n",
       "    .dataframe tbody tr th:only-of-type {\n",
       "        vertical-align: middle;\n",
       "    }\n",
       "\n",
       "    .dataframe tbody tr th {\n",
       "        vertical-align: top;\n",
       "    }\n",
       "\n",
       "    .dataframe thead th {\n",
       "        text-align: right;\n",
       "    }\n",
       "</style>\n",
       "<table border=\"1\" class=\"dataframe\">\n",
       "  <thead>\n",
       "    <tr style=\"text-align: right;\">\n",
       "      <th></th>\n",
       "      <th>Unnamed: 0</th>\n",
       "      <th>trans_date_trans_time</th>\n",
       "      <th>cc_num</th>\n",
       "      <th>merchant</th>\n",
       "      <th>category</th>\n",
       "      <th>amt</th>\n",
       "      <th>first</th>\n",
       "      <th>last</th>\n",
       "      <th>gender</th>\n",
       "      <th>street</th>\n",
       "      <th>city</th>\n",
       "      <th>state</th>\n",
       "      <th>zip</th>\n",
       "      <th>lat</th>\n",
       "      <th>long</th>\n",
       "      <th>city_pop</th>\n",
       "      <th>job</th>\n",
       "      <th>dob</th>\n",
       "      <th>trans_num</th>\n",
       "      <th>unix_time</th>\n",
       "      <th>merch_lat</th>\n",
       "      <th>merch_long</th>\n",
       "      <th>is_fraud</th>\n",
       "      <th>merch_zipcode</th>\n",
       "    </tr>\n",
       "  </thead>\n",
       "  <tbody>\n",
       "    <tr>\n",
       "      <th>75422</th>\n",
       "      <td>507646</td>\n",
       "      <td>2019-08-08 13:51:20</td>\n",
       "      <td>4810789809665942990</td>\n",
       "      <td>fraud_Bins, Balistreri and Beatty</td>\n",
       "      <td>shopping_pos</td>\n",
       "      <td>1.02</td>\n",
       "      <td>Julie</td>\n",
       "      <td>Sanchez</td>\n",
       "      <td>F</td>\n",
       "      <td>916 Charles Road</td>\n",
       "      <td>Bowersville</td>\n",
       "      <td>OH</td>\n",
       "      <td>45307</td>\n",
       "      <td>39.5756</td>\n",
       "      <td>-83.7153</td>\n",
       "      <td>338</td>\n",
       "      <td>Quantity surveyor</td>\n",
       "      <td>1988-07-28</td>\n",
       "      <td>676a2aec6536ab8996ecf20007fb6017</td>\n",
       "      <td>1344433880</td>\n",
       "      <td>39.474400</td>\n",
       "      <td>-84.455184</td>\n",
       "      <td>0</td>\n",
       "      <td>45067.0</td>\n",
       "    </tr>\n",
       "    <tr>\n",
       "      <th>160249</th>\n",
       "      <td>376361</td>\n",
       "      <td>2019-06-22 23:12:24</td>\n",
       "      <td>4897067971111209737</td>\n",
       "      <td>fraud_Boehm, Predovic and Reinger</td>\n",
       "      <td>misc_pos</td>\n",
       "      <td>1.51</td>\n",
       "      <td>Randy</td>\n",
       "      <td>Wood</td>\n",
       "      <td>M</td>\n",
       "      <td>542 Howe Mission Apt. 092</td>\n",
       "      <td>Port Richey</td>\n",
       "      <td>FL</td>\n",
       "      <td>34668</td>\n",
       "      <td>28.3011</td>\n",
       "      <td>-82.6927</td>\n",
       "      <td>42619</td>\n",
       "      <td>Environmental education officer</td>\n",
       "      <td>1975-10-07</td>\n",
       "      <td>caf0f7e62a03be1ca6a3dc26fe3c001a</td>\n",
       "      <td>1340406744</td>\n",
       "      <td>28.313178</td>\n",
       "      <td>-82.783479</td>\n",
       "      <td>0</td>\n",
       "      <td>34668.0</td>\n",
       "    </tr>\n",
       "    <tr>\n",
       "      <th>204507</th>\n",
       "      <td>852843</td>\n",
       "      <td>2019-12-15 22:48:38</td>\n",
       "      <td>4018105808392773675</td>\n",
       "      <td>fraud_Schoen, Nienow and Bauch</td>\n",
       "      <td>personal_care</td>\n",
       "      <td>8.39</td>\n",
       "      <td>Katherine</td>\n",
       "      <td>Love</td>\n",
       "      <td>F</td>\n",
       "      <td>5884 Sandoval Square Apt. 371</td>\n",
       "      <td>Allenhurst</td>\n",
       "      <td>NJ</td>\n",
       "      <td>7711</td>\n",
       "      <td>40.2367</td>\n",
       "      <td>-74.0067</td>\n",
       "      <td>1533</td>\n",
       "      <td>Administrator, charities/voluntary organisations</td>\n",
       "      <td>1935-04-15</td>\n",
       "      <td>b94960d7da0779f7babd3433362e88e8</td>\n",
       "      <td>1355611718</td>\n",
       "      <td>40.391710</td>\n",
       "      <td>-74.390576</td>\n",
       "      <td>0</td>\n",
       "      <td>8884.0</td>\n",
       "    </tr>\n",
       "    <tr>\n",
       "      <th>20658</th>\n",
       "      <td>885106</td>\n",
       "      <td>2019-12-23 02:31:07</td>\n",
       "      <td>4599285557366057</td>\n",
       "      <td>fraud_Cummings Group</td>\n",
       "      <td>grocery_net</td>\n",
       "      <td>7.53</td>\n",
       "      <td>Mary</td>\n",
       "      <td>Williams</td>\n",
       "      <td>F</td>\n",
       "      <td>00315 Ashley Valleys</td>\n",
       "      <td>Burrton</td>\n",
       "      <td>KS</td>\n",
       "      <td>67020</td>\n",
       "      <td>38.0261</td>\n",
       "      <td>-97.6666</td>\n",
       "      <td>1689</td>\n",
       "      <td>Gaffer</td>\n",
       "      <td>1997-11-18</td>\n",
       "      <td>3a7b460939ea530727e08b250f01c9a3</td>\n",
       "      <td>1356229867</td>\n",
       "      <td>38.643842</td>\n",
       "      <td>-97.942915</td>\n",
       "      <td>0</td>\n",
       "      <td>67442.0</td>\n",
       "    </tr>\n",
       "    <tr>\n",
       "      <th>151499</th>\n",
       "      <td>1015947</td>\n",
       "      <td>2020-02-23 12:50:06</td>\n",
       "      <td>2224100459250597</td>\n",
       "      <td>fraud_Rippin-VonRueden</td>\n",
       "      <td>health_fitness</td>\n",
       "      <td>115.38</td>\n",
       "      <td>Sheri</td>\n",
       "      <td>Thomas</td>\n",
       "      <td>F</td>\n",
       "      <td>019 Kimberly Light Apt. 039</td>\n",
       "      <td>Kings Bay</td>\n",
       "      <td>GA</td>\n",
       "      <td>31547</td>\n",
       "      <td>30.7906</td>\n",
       "      <td>-81.5607</td>\n",
       "      <td>1293</td>\n",
       "      <td>Naval architect</td>\n",
       "      <td>1963-09-11</td>\n",
       "      <td>7764b4c7058683c3fc0348f357967493</td>\n",
       "      <td>1361623806</td>\n",
       "      <td>30.663144</td>\n",
       "      <td>-82.400812</td>\n",
       "      <td>0</td>\n",
       "      <td>31631.0</td>\n",
       "    </tr>\n",
       "  </tbody>\n",
       "</table>\n",
       "</div>"
      ],
      "text/plain": [
       "        Unnamed: 0 trans_date_trans_time               cc_num  \\\n",
       "75422       507646   2019-08-08 13:51:20  4810789809665942990   \n",
       "160249      376361   2019-06-22 23:12:24  4897067971111209737   \n",
       "204507      852843   2019-12-15 22:48:38  4018105808392773675   \n",
       "20658       885106   2019-12-23 02:31:07     4599285557366057   \n",
       "151499     1015947   2020-02-23 12:50:06     2224100459250597   \n",
       "\n",
       "                                 merchant        category     amt      first  \\\n",
       "75422   fraud_Bins, Balistreri and Beatty    shopping_pos    1.02      Julie   \n",
       "160249  fraud_Boehm, Predovic and Reinger        misc_pos    1.51      Randy   \n",
       "204507     fraud_Schoen, Nienow and Bauch   personal_care    8.39  Katherine   \n",
       "20658                fraud_Cummings Group     grocery_net    7.53       Mary   \n",
       "151499             fraud_Rippin-VonRueden  health_fitness  115.38      Sheri   \n",
       "\n",
       "            last gender                         street         city state  \\\n",
       "75422    Sanchez      F               916 Charles Road  Bowersville    OH   \n",
       "160249      Wood      M      542 Howe Mission Apt. 092  Port Richey    FL   \n",
       "204507      Love      F  5884 Sandoval Square Apt. 371   Allenhurst    NJ   \n",
       "20658   Williams      F           00315 Ashley Valleys      Burrton    KS   \n",
       "151499    Thomas      F    019 Kimberly Light Apt. 039    Kings Bay    GA   \n",
       "\n",
       "          zip      lat     long  city_pop  \\\n",
       "75422   45307  39.5756 -83.7153       338   \n",
       "160249  34668  28.3011 -82.6927     42619   \n",
       "204507   7711  40.2367 -74.0067      1533   \n",
       "20658   67020  38.0261 -97.6666      1689   \n",
       "151499  31547  30.7906 -81.5607      1293   \n",
       "\n",
       "                                                     job         dob  \\\n",
       "75422                                  Quantity surveyor  1988-07-28   \n",
       "160249                   Environmental education officer  1975-10-07   \n",
       "204507  Administrator, charities/voluntary organisations  1935-04-15   \n",
       "20658                                             Gaffer  1997-11-18   \n",
       "151499                                   Naval architect  1963-09-11   \n",
       "\n",
       "                               trans_num   unix_time  merch_lat  merch_long  \\\n",
       "75422   676a2aec6536ab8996ecf20007fb6017  1344433880  39.474400  -84.455184   \n",
       "160249  caf0f7e62a03be1ca6a3dc26fe3c001a  1340406744  28.313178  -82.783479   \n",
       "204507  b94960d7da0779f7babd3433362e88e8  1355611718  40.391710  -74.390576   \n",
       "20658   3a7b460939ea530727e08b250f01c9a3  1356229867  38.643842  -97.942915   \n",
       "151499  7764b4c7058683c3fc0348f357967493  1361623806  30.663144  -82.400812   \n",
       "\n",
       "        is_fraud  merch_zipcode  \n",
       "75422          0        45067.0  \n",
       "160249         0        34668.0  \n",
       "204507         0         8884.0  \n",
       "20658          0        67442.0  \n",
       "151499         0        31631.0  "
      ]
     },
     "execution_count": 5,
     "metadata": {},
     "output_type": "execute_result"
    }
   ],
   "source": [
    "# mid of the df like df.tail() etc\n",
    "df.sample(5)"
   ]
  },
  {
   "cell_type": "code",
   "execution_count": 6,
   "metadata": {},
   "outputs": [
    {
     "name": "stdout",
     "output_type": "stream",
     "text": [
      "<class 'pandas.core.frame.DataFrame'>\n",
      "Index: 1080560 entries, 0 to 216111\n",
      "Data columns (total 24 columns):\n",
      " #   Column                 Non-Null Count    Dtype  \n",
      "---  ------                 --------------    -----  \n",
      " 0   Unnamed: 0             1080560 non-null  int64  \n",
      " 1   trans_date_trans_time  1080560 non-null  object \n",
      " 2   cc_num                 1080560 non-null  int64  \n",
      " 3   merchant               1080560 non-null  object \n",
      " 4   category               1080560 non-null  object \n",
      " 5   amt                    1080560 non-null  float64\n",
      " 6   first                  1080560 non-null  object \n",
      " 7   last                   1080560 non-null  object \n",
      " 8   gender                 1080560 non-null  object \n",
      " 9   street                 1080560 non-null  object \n",
      " 10  city                   1080560 non-null  object \n",
      " 11  state                  1080560 non-null  object \n",
      " 12  zip                    1080560 non-null  int64  \n",
      " 13  lat                    1080560 non-null  float64\n",
      " 14  long                   1080560 non-null  float64\n",
      " 15  city_pop               1080560 non-null  int64  \n",
      " 16  job                    1080560 non-null  object \n",
      " 17  dob                    1080560 non-null  object \n",
      " 18  trans_num              1080560 non-null  object \n",
      " 19  unix_time              1080560 non-null  int64  \n",
      " 20  merch_lat              1080560 non-null  float64\n",
      " 21  merch_long             1080560 non-null  float64\n",
      " 22  is_fraud               1080560 non-null  int64  \n",
      " 23  merch_zipcode          917292 non-null   float64\n",
      "dtypes: float64(6), int64(6), object(12)\n",
      "memory usage: 206.1+ MB\n"
     ]
    }
   ],
   "source": [
    "df.info()"
   ]
  },
  {
   "cell_type": "code",
   "execution_count": 7,
   "metadata": {},
   "outputs": [
    {
     "data": {
      "text/plain": [
       "Index(['Unnamed: 0', 'trans_date_trans_time', 'cc_num', 'merchant', 'category',\n",
       "       'amt', 'first', 'last', 'gender', 'street', 'city', 'state', 'zip',\n",
       "       'lat', 'long', 'city_pop', 'job', 'dob', 'trans_num', 'unix_time',\n",
       "       'merch_lat', 'merch_long', 'is_fraud', 'merch_zipcode'],\n",
       "      dtype='object')"
      ]
     },
     "execution_count": 7,
     "metadata": {},
     "output_type": "execute_result"
    }
   ],
   "source": [
    "df.columns"
   ]
  },
  {
   "cell_type": "code",
   "execution_count": 8,
   "metadata": {},
   "outputs": [],
   "source": [
    "# removing the unwanted column 'Unnamed: 0'\n",
    "df.drop('Unnamed: 0', axis=1, inplace=True)"
   ]
  },
  {
   "cell_type": "code",
   "execution_count": 9,
   "metadata": {},
   "outputs": [
    {
     "data": {
      "text/plain": [
       "(1080560, 23)"
      ]
     },
     "execution_count": 9,
     "metadata": {},
     "output_type": "execute_result"
    }
   ],
   "source": [
    "df.shape"
   ]
  },
  {
   "cell_type": "code",
   "execution_count": 10,
   "metadata": {},
   "outputs": [
    {
     "data": {
      "text/plain": [
       "object     12\n",
       "float64     6\n",
       "int64       5\n",
       "Name: count, dtype: int64"
      ]
     },
     "execution_count": 10,
     "metadata": {},
     "output_type": "execute_result"
    }
   ],
   "source": [
    "# counting the number of object and int64 data types in dataset\n",
    "df.dtypes.value_counts()\n"
   ]
  },
  {
   "cell_type": "code",
   "execution_count": 11,
   "metadata": {},
   "outputs": [
    {
     "data": {
      "text/plain": [
       "trans_date_trans_time    1062107\n",
       "cc_num                       967\n",
       "merchant                     693\n",
       "category                      14\n",
       "amt                        49256\n",
       "first                        349\n",
       "last                         479\n",
       "gender                         2\n",
       "street                       967\n",
       "city                         880\n",
       "state                         51\n",
       "zip                          954\n",
       "lat                          952\n",
       "long                         953\n",
       "city_pop                     866\n",
       "job                          493\n",
       "dob                          952\n",
       "trans_num                1080560\n",
       "unix_time                1062139\n",
       "merch_lat                1046446\n",
       "merch_long               1065948\n",
       "is_fraud                       2\n",
       "merch_zipcode              28250\n",
       "dtype: int64"
      ]
     },
     "execution_count": 11,
     "metadata": {},
     "output_type": "execute_result"
    }
   ],
   "source": [
    "df.nunique()"
   ]
  },
  {
   "cell_type": "code",
   "execution_count": 12,
   "metadata": {},
   "outputs": [
    {
     "data": {
      "text/plain": [
       "(1080560, 23)"
      ]
     },
     "execution_count": 12,
     "metadata": {},
     "output_type": "execute_result"
    }
   ],
   "source": [
    "df.shape"
   ]
  },
  {
   "cell_type": "code",
   "execution_count": 13,
   "metadata": {},
   "outputs": [
    {
     "data": {
      "text/plain": [
       "trans_date_trans_time     0.000000\n",
       "cc_num                    0.000000\n",
       "merchant                  0.000000\n",
       "category                  0.000000\n",
       "amt                       0.000000\n",
       "first                     0.000000\n",
       "last                      0.000000\n",
       "gender                    0.000000\n",
       "street                    0.000000\n",
       "city                      0.000000\n",
       "state                     0.000000\n",
       "zip                       0.000000\n",
       "lat                       0.000000\n",
       "long                      0.000000\n",
       "city_pop                  0.000000\n",
       "job                       0.000000\n",
       "dob                       0.000000\n",
       "trans_num                 0.000000\n",
       "unix_time                 0.000000\n",
       "merch_lat                 0.000000\n",
       "merch_long                0.000000\n",
       "is_fraud                  0.000000\n",
       "merch_zipcode            15.109573\n",
       "dtype: float64"
      ]
     },
     "execution_count": 13,
     "metadata": {},
     "output_type": "execute_result"
    }
   ],
   "source": [
    "# checking the missing values\n",
    "df.isnull().sum()/len(df)*100"
   ]
  },
  {
   "cell_type": "markdown",
   "metadata": {},
   "source": [
    "As merch_zipcode can not be replaced with mean median mode, so we will drop the missing values"
   ]
  },
  {
   "cell_type": "code",
   "execution_count": 14,
   "metadata": {},
   "outputs": [],
   "source": [
    "# removing the missing values of merch_zipcode\n",
    "df = df.dropna(subset=['merch_zipcode'])\n"
   ]
  },
  {
   "cell_type": "code",
   "execution_count": 15,
   "metadata": {},
   "outputs": [
    {
     "data": {
      "text/plain": [
       "trans_date_trans_time    0.0\n",
       "cc_num                   0.0\n",
       "merchant                 0.0\n",
       "category                 0.0\n",
       "amt                      0.0\n",
       "first                    0.0\n",
       "last                     0.0\n",
       "gender                   0.0\n",
       "street                   0.0\n",
       "city                     0.0\n",
       "state                    0.0\n",
       "zip                      0.0\n",
       "lat                      0.0\n",
       "long                     0.0\n",
       "city_pop                 0.0\n",
       "job                      0.0\n",
       "dob                      0.0\n",
       "trans_num                0.0\n",
       "unix_time                0.0\n",
       "merch_lat                0.0\n",
       "merch_long               0.0\n",
       "is_fraud                 0.0\n",
       "merch_zipcode            0.0\n",
       "dtype: float64"
      ]
     },
     "execution_count": 15,
     "metadata": {},
     "output_type": "execute_result"
    }
   ],
   "source": [
    "# checking the missing values again\n",
    "df.isnull().sum()/len(df)*100"
   ]
  },
  {
   "cell_type": "markdown",
   "metadata": {},
   "source": [
    "Checking the shape of dataset after removing the missing values"
   ]
  },
  {
   "cell_type": "code",
   "execution_count": 16,
   "metadata": {},
   "outputs": [
    {
     "data": {
      "text/plain": [
       "(917292, 23)"
      ]
     },
     "execution_count": 16,
     "metadata": {},
     "output_type": "execute_result"
    }
   ],
   "source": [
    "df.shape"
   ]
  },
  {
   "cell_type": "markdown",
   "metadata": {},
   "source": [
    "Checking for Duplicates"
   ]
  },
  {
   "cell_type": "code",
   "execution_count": 17,
   "metadata": {},
   "outputs": [
    {
     "data": {
      "text/plain": [
       "0"
      ]
     },
     "execution_count": 17,
     "metadata": {},
     "output_type": "execute_result"
    }
   ],
   "source": [
    "# Checking for Duplicates\n",
    "df.duplicated().sum()"
   ]
  },
  {
   "cell_type": "markdown",
   "metadata": {},
   "source": [
    "It means there are no duplicates in the Dataset"
   ]
  },
  {
   "cell_type": "code",
   "execution_count": 18,
   "metadata": {},
   "outputs": [],
   "source": [
    "# df.hist(figsize=(20, 20))"
   ]
  },
  {
   "cell_type": "markdown",
   "metadata": {},
   "source": [
    "<div style=\"background-color:#D0E6F3; padding: 12px; border-radius: 10px; box-shadow: 0 2px 4px 0 rgba(0, 0, 0, 0.1); border:2px solid #66C2A5; margin-top: 12px;\">\n",
    "    <h1 style=\"font-size:28px; font-family:Georgia, serif; color:#000000; text-align: center; text-shadow: 2px 2px 4px rgba(0, 0, 0, 0.2);\">\n",
    "        Feature Engineering\n",
    "    </h1>\n",
    "</div>"
   ]
  },
  {
   "cell_type": "markdown",
   "metadata": {},
   "source": [
    "### 1.0 Feature extraction"
   ]
  },
  {
   "cell_type": "markdown",
   "metadata": {},
   "source": [
    "DATE COLUMN"
   ]
  },
  {
   "cell_type": "code",
   "execution_count": 19,
   "metadata": {},
   "outputs": [],
   "source": [
    "# first converting the date column to datetime format\n",
    "df['trans_date_trans_time'] = pd.to_datetime(df['trans_date_trans_time'], format='%Y-%m-%d %H:%M:%S')"
   ]
  },
  {
   "cell_type": "code",
   "execution_count": 20,
   "metadata": {},
   "outputs": [],
   "source": [
    "# extracting the year, month, day, hour, and minute from the trans_date_trans_time column\n",
    "df['Year'] = df['trans_date_trans_time'].dt.year\n",
    "df['month'] = df['trans_date_trans_time'].dt.month\n",
    "df['day'] = df['trans_date_trans_time'].dt.day\n",
    "\n",
    "# now dromping the date column\n",
    "df = df.drop('trans_date_trans_time', axis=1)"
   ]
  },
  {
   "cell_type": "markdown",
   "metadata": {},
   "source": [
    "DOB COLUMN"
   ]
  },
  {
   "cell_type": "code",
   "execution_count": 21,
   "metadata": {},
   "outputs": [],
   "source": [
    "import pandas as pd\n",
    "from datetime import datetime\n",
    "\n",
    "# Calculate age from DOB\n",
    "df['age'] = (datetime.now() - pd.to_datetime(df['dob'], errors='coerce')).dt.days // 365\n",
    "\n",
    "# Define bins and labels\n",
    "bins = [0, 18, 25, 35, 45, 55, 65, 101]\n",
    "labels = [\n",
    "    'Young Children',              # 0 to 17\n",
    "    'Young Adult',        # 18 to 24\n",
    "    'Adult',              # 25 to 34\n",
    "    'Middle-Aged',        # 35 to 44\n",
    "    'Older Adult',        # 45 to 54\n",
    "    'Senior',             # 55 to 64\n",
    "    'Elderly'             # 65 and above\n",
    "]\n",
    "\n",
    "# Apply pd.cut to bin the age\n",
    "df['age'] = pd.cut(df['age'], bins=bins, labels=labels, right=False)"
   ]
  },
  {
   "cell_type": "code",
   "execution_count": 22,
   "metadata": {},
   "outputs": [
    {
     "data": {
      "text/plain": [
       "'Young Adult'"
      ]
     },
     "execution_count": 22,
     "metadata": {},
     "output_type": "execute_result"
    }
   ],
   "source": [
    "df.age.min()"
   ]
  },
  {
   "cell_type": "code",
   "execution_count": 23,
   "metadata": {},
   "outputs": [
    {
     "data": {
      "text/plain": [
       "'Elderly'"
      ]
     },
     "execution_count": 23,
     "metadata": {},
     "output_type": "execute_result"
    }
   ],
   "source": [
    "df.age.max()"
   ]
  },
  {
   "cell_type": "code",
   "execution_count": 24,
   "metadata": {},
   "outputs": [
    {
     "data": {
      "text/plain": [
       "<Axes: xlabel='age'>"
      ]
     },
     "execution_count": 24,
     "metadata": {},
     "output_type": "execute_result"
    },
    {
     "data": {
      "image/png": "[encoded data removed]",
      "text/plain": [
       "<Figure size 640x480 with 1 Axes>"
      ]
     },
     "metadata": {},
     "output_type": "display_data"
    }
   ],
   "source": [
    "df.age.value_counts().plot(kind='bar')"
   ]
  },
  {
   "cell_type": "code",
   "execution_count": 25,
   "metadata": {},
   "outputs": [
    {
     "data": {
      "text/plain": [
       "0"
      ]
     },
     "execution_count": 25,
     "metadata": {},
     "output_type": "execute_result"
    }
   ],
   "source": [
    "df.age.isnull().sum()"
   ]
  },
  {
   "cell_type": "markdown",
   "metadata": {},
   "source": [
    "now droping the date of birth column"
   ]
  },
  {
   "cell_type": "code",
   "execution_count": 26,
   "metadata": {},
   "outputs": [],
   "source": [
    "df.drop('dob', axis=1, inplace=True)"
   ]
  },
  {
   "cell_type": "code",
   "execution_count": 27,
   "metadata": {},
   "outputs": [
    {
     "name": "stdout",
     "output_type": "stream",
     "text": [
      "<class 'pandas.core.frame.DataFrame'>\n",
      "Index: 917292 entries, 0 to 216111\n",
      "Data columns (total 25 columns):\n",
      " #   Column         Non-Null Count   Dtype   \n",
      "---  ------         --------------   -----   \n",
      " 0   cc_num         917292 non-null  int64   \n",
      " 1   merchant       917292 non-null  object  \n",
      " 2   category       917292 non-null  object  \n",
      " 3   amt            917292 non-null  float64 \n",
      " 4   first          917292 non-null  object  \n",
      " 5   last           917292 non-null  object  \n",
      " 6   gender         917292 non-null  object  \n",
      " 7   street         917292 non-null  object  \n",
      " 8   city           917292 non-null  object  \n",
      " 9   state          917292 non-null  object  \n",
      " 10  zip            917292 non-null  int64   \n",
      " 11  lat            917292 non-null  float64 \n",
      " 12  long           917292 non-null  float64 \n",
      " 13  city_pop       917292 non-null  int64   \n",
      " 14  job            917292 non-null  object  \n",
      " 15  trans_num      917292 non-null  object  \n",
      " 16  unix_time      917292 non-null  int64   \n",
      " 17  merch_lat      917292 non-null  float64 \n",
      " 18  merch_long     917292 non-null  float64 \n",
      " 19  is_fraud       917292 non-null  int64   \n",
      " 20  merch_zipcode  917292 non-null  float64 \n",
      " 21  Year           917292 non-null  int32   \n",
      " 22  month          917292 non-null  int32   \n",
      " 23  day            917292 non-null  int32   \n",
      " 24  age            917292 non-null  category\n",
      "dtypes: category(1), float64(6), int32(3), int64(5), object(10)\n",
      "memory usage: 165.3+ MB\n"
     ]
    }
   ],
   "source": [
    "df.info()"
   ]
  },
  {
   "cell_type": "markdown",
   "metadata": {},
   "source": [
    "### 2.0 Feature Selection:"
   ]
  },
  {
   "cell_type": "code",
   "execution_count": 28,
   "metadata": {},
   "outputs": [
    {
     "data": {
      "text/plain": [
       "25"
      ]
     },
     "execution_count": 28,
     "metadata": {},
     "output_type": "execute_result"
    }
   ],
   "source": [
    "df.columns.nunique()"
   ]
  },
  {
   "cell_type": "markdown",
   "metadata": {},
   "source": [
    "So I have now to do the feature selection for the credit card fraud detection dataset, as there are `25` columns here in the dataset, i will apply `feature selection` for both the categorical columns and the numeric columns and then select 5 from categorical columns and top 5 from numeric columns."
   ]
  },
  {
   "cell_type": "code",
   "execution_count": 29,
   "metadata": {},
   "outputs": [
    {
     "data": {
      "text/plain": [
       "object      10\n",
       "float64      6\n",
       "int64        5\n",
       "int32        3\n",
       "category     1\n",
       "Name: count, dtype: int64"
      ]
     },
     "execution_count": 29,
     "metadata": {},
     "output_type": "execute_result"
    }
   ],
   "source": [
    "df.dtypes.value_counts()"
   ]
  },
  {
   "cell_type": "markdown",
   "metadata": {},
   "source": [
    "I will make 2 dataframes one for categories and other for numeric data, to make feature selection easy"
   ]
  },
  {
   "cell_type": "code",
   "execution_count": 30,
   "metadata": {},
   "outputs": [],
   "source": [
    "# making a dataset which include only object data types with is_fraud column included in it\n",
    "cat = df.select_dtypes(include=['object', 'category'])\n",
    "cat['is_fraud'] = df['is_fraud']"
   ]
  },
  {
   "cell_type": "code",
   "execution_count": 31,
   "metadata": {},
   "outputs": [],
   "source": [
    "num = df.select_dtypes(exclude=['object', 'category'])"
   ]
  },
  {
   "cell_type": "markdown",
   "metadata": {},
   "source": [
    "Before proceding forward, we have to Normalize the Data"
   ]
  },
  {
   "cell_type": "code",
   "execution_count": 32,
   "metadata": {},
   "outputs": [
    {
     "data": {
      "text/html": [
       "<div>\n",
       "<style scoped>\n",
       "    .dataframe tbody tr th:only-of-type {\n",
       "        vertical-align: middle;\n",
       "    }\n",
       "\n",
       "    .dataframe tbody tr th {\n",
       "        vertical-align: top;\n",
       "    }\n",
       "\n",
       "    .dataframe thead th {\n",
       "        text-align: right;\n",
       "    }\n",
       "</style>\n",
       "<table border=\"1\" class=\"dataframe\">\n",
       "  <thead>\n",
       "    <tr style=\"text-align: right;\">\n",
       "      <th></th>\n",
       "      <th>cc_num</th>\n",
       "      <th>amt</th>\n",
       "      <th>zip</th>\n",
       "      <th>lat</th>\n",
       "      <th>long</th>\n",
       "      <th>city_pop</th>\n",
       "      <th>unix_time</th>\n",
       "      <th>merch_lat</th>\n",
       "      <th>merch_long</th>\n",
       "      <th>is_fraud</th>\n",
       "      <th>merch_zipcode</th>\n",
       "      <th>Year</th>\n",
       "      <th>month</th>\n",
       "      <th>day</th>\n",
       "    </tr>\n",
       "  </thead>\n",
       "  <tbody>\n",
       "    <tr>\n",
       "      <th>0</th>\n",
       "      <td>2703186189652095</td>\n",
       "      <td>4.97</td>\n",
       "      <td>28654</td>\n",
       "      <td>36.0788</td>\n",
       "      <td>-81.1781</td>\n",
       "      <td>3495</td>\n",
       "      <td>1325376018</td>\n",
       "      <td>36.011293</td>\n",
       "      <td>-82.048315</td>\n",
       "      <td>0</td>\n",
       "      <td>28705.0</td>\n",
       "      <td>2019</td>\n",
       "      <td>1</td>\n",
       "      <td>1</td>\n",
       "    </tr>\n",
       "    <tr>\n",
       "      <th>2</th>\n",
       "      <td>38859492057661</td>\n",
       "      <td>220.11</td>\n",
       "      <td>83252</td>\n",
       "      <td>42.1808</td>\n",
       "      <td>-112.2620</td>\n",
       "      <td>4154</td>\n",
       "      <td>1325376051</td>\n",
       "      <td>43.150704</td>\n",
       "      <td>-112.154481</td>\n",
       "      <td>0</td>\n",
       "      <td>83236.0</td>\n",
       "      <td>2019</td>\n",
       "      <td>1</td>\n",
       "      <td>1</td>\n",
       "    </tr>\n",
       "    <tr>\n",
       "      <th>4</th>\n",
       "      <td>375534208663984</td>\n",
       "      <td>41.96</td>\n",
       "      <td>24433</td>\n",
       "      <td>38.4207</td>\n",
       "      <td>-79.4629</td>\n",
       "      <td>99</td>\n",
       "      <td>1325376186</td>\n",
       "      <td>38.674999</td>\n",
       "      <td>-78.632459</td>\n",
       "      <td>0</td>\n",
       "      <td>22844.0</td>\n",
       "      <td>2019</td>\n",
       "      <td>1</td>\n",
       "      <td>1</td>\n",
       "    </tr>\n",
       "    <tr>\n",
       "      <th>5</th>\n",
       "      <td>4767265376804500</td>\n",
       "      <td>94.63</td>\n",
       "      <td>18917</td>\n",
       "      <td>40.3750</td>\n",
       "      <td>-75.2045</td>\n",
       "      <td>2158</td>\n",
       "      <td>1325376248</td>\n",
       "      <td>40.653382</td>\n",
       "      <td>-76.152667</td>\n",
       "      <td>0</td>\n",
       "      <td>17972.0</td>\n",
       "      <td>2019</td>\n",
       "      <td>1</td>\n",
       "      <td>1</td>\n",
       "    </tr>\n",
       "    <tr>\n",
       "      <th>7</th>\n",
       "      <td>6011360759745864</td>\n",
       "      <td>71.65</td>\n",
       "      <td>22824</td>\n",
       "      <td>38.8432</td>\n",
       "      <td>-78.6003</td>\n",
       "      <td>6018</td>\n",
       "      <td>1325376308</td>\n",
       "      <td>38.948089</td>\n",
       "      <td>-78.540296</td>\n",
       "      <td>0</td>\n",
       "      <td>22644.0</td>\n",
       "      <td>2019</td>\n",
       "      <td>1</td>\n",
       "      <td>1</td>\n",
       "    </tr>\n",
       "  </tbody>\n",
       "</table>\n",
       "</div>"
      ],
      "text/plain": [
       "             cc_num     amt    zip      lat      long  city_pop   unix_time  \\\n",
       "0  2703186189652095    4.97  28654  36.0788  -81.1781      3495  1325376018   \n",
       "2    38859492057661  220.11  83252  42.1808 -112.2620      4154  1325376051   \n",
       "4   375534208663984   41.96  24433  38.4207  -79.4629        99  1325376186   \n",
       "5  4767265376804500   94.63  18917  40.3750  -75.2045      2158  1325376248   \n",
       "7  6011360759745864   71.65  22824  38.8432  -78.6003      6018  1325376308   \n",
       "\n",
       "   merch_lat  merch_long  is_fraud  merch_zipcode  Year  month  day  \n",
       "0  36.011293  -82.048315         0        28705.0  2019      1    1  \n",
       "2  43.150704 -112.154481         0        83236.0  2019      1    1  \n",
       "4  38.674999  -78.632459         0        22844.0  2019      1    1  \n",
       "5  40.653382  -76.152667         0        17972.0  2019      1    1  \n",
       "7  38.948089  -78.540296         0        22644.0  2019      1    1  "
      ]
     },
     "execution_count": 32,
     "metadata": {},
     "output_type": "execute_result"
    }
   ],
   "source": [
    "num.head()"
   ]
  },
  {
   "cell_type": "code",
   "execution_count": 33,
   "metadata": {},
   "outputs": [
    {
     "name": "stdout",
     "output_type": "stream",
     "text": [
      "     Feature          Score\n",
      "9  trans_num  422446.696656\n",
      "1   category     906.187967\n",
      "2      first     815.387392\n",
      "5     street     128.193842\n",
      "0   merchant      70.616549\n",
      "3       last      65.806407\n",
      "4     gender      22.654473\n",
      "8        job      21.374159\n",
      "7      state      17.304771\n",
      "6       city      15.291703\n"
     ]
    }
   ],
   "source": [
    "from sklearn.preprocessing import LabelEncoder\n",
    "import pandas as pd\n",
    "\n",
    "# Assuming 'cat' is your DataFrame\n",
    "X = cat.drop('is_fraud', axis=1)\n",
    "y = cat['is_fraud']\n",
    "\n",
    "# Apply Label Encoding to categorical columns\n",
    "le = LabelEncoder()\n",
    "for col in X.select_dtypes(include=['object','category']).columns:\n",
    "    X[col] = le.fit_transform(X[col])\n",
    "\n",
    "# Now X contains the encoded categorical features\n",
    "# Apply SelectKBest using the Chi-Square test\n",
    "from sklearn.feature_selection import SelectKBest, chi2\n",
    "\n",
    "bestfeatures = SelectKBest(score_func=chi2, k='all')\n",
    "fit = bestfeatures.fit(X, y)\n",
    "\n",
    "# Making a DataFrame of the scores\n",
    "dfscores = pd.DataFrame(fit.scores_)\n",
    "dfcolumns = pd.DataFrame(X.columns)\n",
    "\n",
    "# Concatenate the scores and column names for readability\n",
    "feature_scores = pd.concat([dfcolumns, dfscores], axis=1)\n",
    "feature_scores.columns = ['Feature', 'Score']  # Naming the columns\n",
    "print(feature_scores.nlargest(10, 'Score'))"
   ]
  },
  {
   "cell_type": "markdown",
   "metadata": {},
   "source": [
    "Top 5 features to select"
   ]
  },
  {
   "cell_type": "code",
   "execution_count": 34,
   "metadata": {},
   "outputs": [
    {
     "data": {
      "text/plain": [
       "array(['trans_num', 'category', 'first', 'street', 'merchant'],\n",
       "      dtype=object)"
      ]
     },
     "execution_count": 34,
     "metadata": {},
     "output_type": "execute_result"
    }
   ],
   "source": [
    "top_features = feature_scores.nlargest(5, 'Score')['Feature'].values\n",
    "top_features"
   ]
  },
  {
   "cell_type": "code",
   "execution_count": 35,
   "metadata": {},
   "outputs": [
    {
     "data": {
      "text/plain": [
       "(917292, 12)"
      ]
     },
     "execution_count": 35,
     "metadata": {},
     "output_type": "execute_result"
    }
   ],
   "source": [
    "cat.shape"
   ]
  },
  {
   "cell_type": "markdown",
   "metadata": {},
   "source": [
    "Now I will filter out the numeric columns for finding the top 5 best features for training our model."
   ]
  },
  {
   "cell_type": "code",
   "execution_count": 36,
   "metadata": {},
   "outputs": [
    {
     "name": "stdout",
     "output_type": "stream",
     "text": [
      "          Feature         Score\n",
      "1             amt  45921.191560\n",
      "11          month    180.791909\n",
      "10           Year     35.201484\n",
      "12            day     33.717660\n",
      "6       unix_time     31.121387\n",
      "9   merch_zipcode      5.795172\n",
      "8      merch_long      5.609877\n",
      "4            long      5.469249\n",
      "3             lat      3.367793\n",
      "7       merch_lat      3.176610\n"
     ]
    }
   ],
   "source": [
    "# now using the feature selection for numerical data types\n",
    "from sklearn.feature_selection import SelectKBest, f_classif\n",
    "\n",
    "X = num.drop('is_fraud', axis=1)\n",
    "y = num['is_fraud']\n",
    "\n",
    "# Apply SelectKBest using the ANOVA F-value test\n",
    "bestfeatures = SelectKBest(score_func=f_classif, k='all')  # SelectKBest will select the best 'k' features\n",
    "fit = bestfeatures.fit(X, y)\n",
    "\n",
    "# Making a DataFrame of the scores\n",
    "dfscores = pd.DataFrame(fit.scores_)\n",
    "dfcolumns = pd.DataFrame(X.columns)\n",
    "\n",
    "# Concatenate the scores and column names for readability\n",
    "feature_scores = pd.concat([dfcolumns, dfscores], axis=1)\n",
    "feature_scores.columns = ['Feature', 'Score']  # Naming the columns\n",
    "print(feature_scores.nlargest(10, 'Score'))\n",
    "\n"
   ]
  },
  {
   "cell_type": "code",
   "execution_count": 37,
   "metadata": {},
   "outputs": [
    {
     "data": {
      "text/plain": [
       "array(['amt', 'month', 'Year', 'day', 'unix_time'], dtype=object)"
      ]
     },
     "execution_count": 37,
     "metadata": {},
     "output_type": "execute_result"
    }
   ],
   "source": [
    "top_features = feature_scores.nlargest(5, 'Score')['Feature'].values\n",
    "top_features"
   ]
  },
  {
   "cell_type": "markdown",
   "metadata": {},
   "source": [
    "Now I will try an alternative method for the selection of best numeric columns for my model training."
   ]
  },
  {
   "cell_type": "code",
   "execution_count": 38,
   "metadata": {},
   "outputs": [
    {
     "name": "stdout",
     "output_type": "stream",
     "text": [
      "Top 5 features based on correlation with the target variable:\n",
      "      amt  month  Year  day   unix_time\n",
      "0    4.97      1  2019    1  1325376018\n",
      "2  220.11      1  2019    1  1325376051\n",
      "4   41.96      1  2019    1  1325376186\n",
      "5   94.63      1  2019    1  1325376248\n",
      "7   71.65      1  2019    1  1325376308\n"
     ]
    }
   ],
   "source": [
    "import pandas as pd\n",
    "\n",
    "# Calculate the correlation of each feature with the target variable\n",
    "correlation = num.corr()\n",
    "\n",
    "# Extract correlations with the target column\n",
    "target_correlation = correlation['is_fraud'].drop('is_fraud')\n",
    "\n",
    "# Get the top 5 features with the highest absolute correlation values\n",
    "top_features = target_correlation.abs().sort_values(ascending=False).head(5).index\n",
    "\n",
    "# Display the results\n",
    "print(\"Top 5 features based on correlation with the target variable:\")\n",
    "print(num[top_features].head())\n"
   ]
  },
  {
   "cell_type": "code",
   "execution_count": 39,
   "metadata": {},
   "outputs": [
    {
     "data": {
      "text/plain": [
       "Index(['amt', 'month', 'Year', 'day', 'unix_time'], dtype='object')"
      ]
     },
     "execution_count": 39,
     "metadata": {},
     "output_type": "execute_result"
    }
   ],
   "source": [
    "top_features"
   ]
  },
  {
   "cell_type": "markdown",
   "metadata": {},
   "source": [
    "By using the anova test and the correlation , it is clear that the following models the top 5 numeric features for model training\n",
    "`'amt', 'month', 'Year', 'day', 'unix_time'`"
   ]
  },
  {
   "cell_type": "code",
   "execution_count": 40,
   "metadata": {},
   "outputs": [],
   "source": [
    "# now making a data frame have the following features 'amt', 'month', 'Year', 'day', 'unix_time','trans_num', 'category', 'first', 'street', 'merchant' from df\n",
    "df = df[['amt', 'month', 'Year', 'day', 'unix_time','trans_num', 'category', 'first', 'street', 'merchant','is_fraud']]\n"
   ]
  },
  {
   "cell_type": "code",
   "execution_count": 41,
   "metadata": {},
   "outputs": [
    {
     "data": {
      "text/html": [
       "<div>\n",
       "<style scoped>\n",
       "    .dataframe tbody tr th:only-of-type {\n",
       "        vertical-align: middle;\n",
       "    }\n",
       "\n",
       "    .dataframe tbody tr th {\n",
       "        vertical-align: top;\n",
       "    }\n",
       "\n",
       "    .dataframe thead th {\n",
       "        text-align: right;\n",
       "    }\n",
       "</style>\n",
       "<table border=\"1\" class=\"dataframe\">\n",
       "  <thead>\n",
       "    <tr style=\"text-align: right;\">\n",
       "      <th></th>\n",
       "      <th>amt</th>\n",
       "      <th>month</th>\n",
       "      <th>Year</th>\n",
       "      <th>day</th>\n",
       "      <th>unix_time</th>\n",
       "      <th>trans_num</th>\n",
       "      <th>category</th>\n",
       "      <th>first</th>\n",
       "      <th>street</th>\n",
       "      <th>merchant</th>\n",
       "      <th>is_fraud</th>\n",
       "    </tr>\n",
       "  </thead>\n",
       "  <tbody>\n",
       "    <tr>\n",
       "      <th>209132</th>\n",
       "      <td>71.88</td>\n",
       "      <td>4</td>\n",
       "      <td>2019</td>\n",
       "      <td>16</td>\n",
       "      <td>1334600566</td>\n",
       "      <td>267d5c2d393f4a676043609c533392e4</td>\n",
       "      <td>kids_pets</td>\n",
       "      <td>Stephanie</td>\n",
       "      <td>44089 Carrie Crossing Suite 954</td>\n",
       "      <td>fraud_Bednar PLC</td>\n",
       "      <td>0</td>\n",
       "    </tr>\n",
       "    <tr>\n",
       "      <th>166703</th>\n",
       "      <td>5.80</td>\n",
       "      <td>6</td>\n",
       "      <td>2019</td>\n",
       "      <td>24</td>\n",
       "      <td>1340555638</td>\n",
       "      <td>c9946a4991b098d7302716dc94e0e2ed</td>\n",
       "      <td>shopping_net</td>\n",
       "      <td>Kenneth</td>\n",
       "      <td>8614 Reed Glen</td>\n",
       "      <td>fraud_Schmidt and Sons</td>\n",
       "      <td>0</td>\n",
       "    </tr>\n",
       "    <tr>\n",
       "      <th>22238</th>\n",
       "      <td>175.25</td>\n",
       "      <td>1</td>\n",
       "      <td>2019</td>\n",
       "      <td>14</td>\n",
       "      <td>1326523312</td>\n",
       "      <td>25f5d16edc97c11c8054890de8cbaef1</td>\n",
       "      <td>grocery_pos</td>\n",
       "      <td>Bill</td>\n",
       "      <td>4725 Hurst Curve Apt. 634</td>\n",
       "      <td>fraud_Schoen, Kuphal and Nitzsche</td>\n",
       "      <td>0</td>\n",
       "    </tr>\n",
       "    <tr>\n",
       "      <th>115457</th>\n",
       "      <td>9.14</td>\n",
       "      <td>2</td>\n",
       "      <td>2020</td>\n",
       "      <td>2</td>\n",
       "      <td>1359798375</td>\n",
       "      <td>6bc86d951afd168ebbd79da54731ef7e</td>\n",
       "      <td>shopping_net</td>\n",
       "      <td>Melody</td>\n",
       "      <td>0362 Anderson Wall</td>\n",
       "      <td>fraud_Stanton, Jakubowski and Baumbach</td>\n",
       "      <td>0</td>\n",
       "    </tr>\n",
       "    <tr>\n",
       "      <th>153192</th>\n",
       "      <td>74.97</td>\n",
       "      <td>2</td>\n",
       "      <td>2020</td>\n",
       "      <td>24</td>\n",
       "      <td>1361678685</td>\n",
       "      <td>e17e673eccee4c1913c65e4aaabc4568</td>\n",
       "      <td>gas_transport</td>\n",
       "      <td>Tyler</td>\n",
       "      <td>408 Bradley Rest</td>\n",
       "      <td>fraud_Zieme, Bode and Dooley</td>\n",
       "      <td>0</td>\n",
       "    </tr>\n",
       "    <tr>\n",
       "      <th>170983</th>\n",
       "      <td>104.61</td>\n",
       "      <td>3</td>\n",
       "      <td>2019</td>\n",
       "      <td>31</td>\n",
       "      <td>1333181239</td>\n",
       "      <td>4c13bf6abcbe45c0f011d0a5b5575900</td>\n",
       "      <td>grocery_pos</td>\n",
       "      <td>Ashley</td>\n",
       "      <td>4038 Smith Avenue</td>\n",
       "      <td>fraud_Goodwin-Nitzsche</td>\n",
       "      <td>0</td>\n",
       "    </tr>\n",
       "    <tr>\n",
       "      <th>14968</th>\n",
       "      <td>9.36</td>\n",
       "      <td>10</td>\n",
       "      <td>2019</td>\n",
       "      <td>9</td>\n",
       "      <td>1349810835</td>\n",
       "      <td>cfba8fe8a0c02fbe5c7ba7119444fbf5</td>\n",
       "      <td>travel</td>\n",
       "      <td>Robert</td>\n",
       "      <td>92021 Miranda Meadows</td>\n",
       "      <td>fraud_Ebert-Daugherty</td>\n",
       "      <td>0</td>\n",
       "    </tr>\n",
       "    <tr>\n",
       "      <th>37099</th>\n",
       "      <td>17.56</td>\n",
       "      <td>10</td>\n",
       "      <td>2019</td>\n",
       "      <td>19</td>\n",
       "      <td>1350675372</td>\n",
       "      <td>b343354ff74ef394171c1c7f4477148d</td>\n",
       "      <td>personal_care</td>\n",
       "      <td>Susan</td>\n",
       "      <td>2193 Osborne Run Apt. 789</td>\n",
       "      <td>fraud_Homenick LLC</td>\n",
       "      <td>0</td>\n",
       "    </tr>\n",
       "    <tr>\n",
       "      <th>139469</th>\n",
       "      <td>13.98</td>\n",
       "      <td>12</td>\n",
       "      <td>2019</td>\n",
       "      <td>1</td>\n",
       "      <td>1354381680</td>\n",
       "      <td>393f123fcb928201ff2be4e97235c1ee</td>\n",
       "      <td>food_dining</td>\n",
       "      <td>Melissa</td>\n",
       "      <td>5069 Scott Pass Apt. 654</td>\n",
       "      <td>fraud_Haag-Blanda</td>\n",
       "      <td>0</td>\n",
       "    </tr>\n",
       "    <tr>\n",
       "      <th>93375</th>\n",
       "      <td>66.40</td>\n",
       "      <td>8</td>\n",
       "      <td>2019</td>\n",
       "      <td>14</td>\n",
       "      <td>1344960156</td>\n",
       "      <td>d8b823e416705eb515b1118628b4ea90</td>\n",
       "      <td>home</td>\n",
       "      <td>Wayne</td>\n",
       "      <td>172 Leonard Island</td>\n",
       "      <td>fraud_O'Reilly, Mohr and Purdy</td>\n",
       "      <td>0</td>\n",
       "    </tr>\n",
       "  </tbody>\n",
       "</table>\n",
       "</div>"
      ],
      "text/plain": [
       "           amt  month  Year  day   unix_time  \\\n",
       "209132   71.88      4  2019   16  1334600566   \n",
       "166703    5.80      6  2019   24  1340555638   \n",
       "22238   175.25      1  2019   14  1326523312   \n",
       "115457    9.14      2  2020    2  1359798375   \n",
       "153192   74.97      2  2020   24  1361678685   \n",
       "170983  104.61      3  2019   31  1333181239   \n",
       "14968     9.36     10  2019    9  1349810835   \n",
       "37099    17.56     10  2019   19  1350675372   \n",
       "139469   13.98     12  2019    1  1354381680   \n",
       "93375    66.40      8  2019   14  1344960156   \n",
       "\n",
       "                               trans_num       category      first  \\\n",
       "209132  267d5c2d393f4a676043609c533392e4      kids_pets  Stephanie   \n",
       "166703  c9946a4991b098d7302716dc94e0e2ed   shopping_net    Kenneth   \n",
       "22238   25f5d16edc97c11c8054890de8cbaef1    grocery_pos       Bill   \n",
       "115457  6bc86d951afd168ebbd79da54731ef7e   shopping_net     Melody   \n",
       "153192  e17e673eccee4c1913c65e4aaabc4568  gas_transport      Tyler   \n",
       "170983  4c13bf6abcbe45c0f011d0a5b5575900    grocery_pos     Ashley   \n",
       "14968   cfba8fe8a0c02fbe5c7ba7119444fbf5         travel     Robert   \n",
       "37099   b343354ff74ef394171c1c7f4477148d  personal_care      Susan   \n",
       "139469  393f123fcb928201ff2be4e97235c1ee    food_dining    Melissa   \n",
       "93375   d8b823e416705eb515b1118628b4ea90           home      Wayne   \n",
       "\n",
       "                                 street  \\\n",
       "209132  44089 Carrie Crossing Suite 954   \n",
       "166703                   8614 Reed Glen   \n",
       "22238         4725 Hurst Curve Apt. 634   \n",
       "115457               0362 Anderson Wall   \n",
       "153192                 408 Bradley Rest   \n",
       "170983                4038 Smith Avenue   \n",
       "14968             92021 Miranda Meadows   \n",
       "37099         2193 Osborne Run Apt. 789   \n",
       "139469         5069 Scott Pass Apt. 654   \n",
       "93375                172 Leonard Island   \n",
       "\n",
       "                                      merchant  is_fraud  \n",
       "209132                        fraud_Bednar PLC         0  \n",
       "166703                  fraud_Schmidt and Sons         0  \n",
       "22238        fraud_Schoen, Kuphal and Nitzsche         0  \n",
       "115457  fraud_Stanton, Jakubowski and Baumbach         0  \n",
       "153192            fraud_Zieme, Bode and Dooley         0  \n",
       "170983                  fraud_Goodwin-Nitzsche         0  \n",
       "14968                    fraud_Ebert-Daugherty         0  \n",
       "37099                       fraud_Homenick LLC         0  \n",
       "139469                       fraud_Haag-Blanda         0  \n",
       "93375           fraud_O'Reilly, Mohr and Purdy         0  "
      ]
     },
     "execution_count": 41,
     "metadata": {},
     "output_type": "execute_result"
    }
   ],
   "source": [
    "df.sample(10)"
   ]
  },
  {
   "cell_type": "code",
   "execution_count": 42,
   "metadata": {},
   "outputs": [
    {
     "data": {
      "text/plain": [
       "(917292, 11)"
      ]
     },
     "execution_count": 42,
     "metadata": {},
     "output_type": "execute_result"
    }
   ],
   "source": [
    "df.shape"
   ]
  },
  {
   "cell_type": "markdown",
   "metadata": {},
   "source": [
    "<div style=\"background-color:#D0E6F3; padding: 12px; border-radius: 10px; box-shadow: 0 2px 4px 0 rgba(0, 0, 0, 0.1); border:2px solid #66C2A5; margin-top: 12px;\">\n",
    "    <h1 style=\"font-size:28px; font-family:Georgia, serif; color:#000000; text-align: center; text-shadow: 2px 2px 4px rgba(0, 0, 0, 0.2);\">\n",
    "        Training Model Though Pipeline\n",
    "    </h1>\n",
    "</div>"
   ]
  },
  {
   "cell_type": "code",
   "execution_count": 43,
   "metadata": {},
   "outputs": [
    {
     "data": {
      "text/plain": [
       "amt          False\n",
       "month         True\n",
       "Year          True\n",
       "day          False\n",
       "unix_time    False\n",
       "trans_num    False\n",
       "category     False\n",
       "first        False\n",
       "street       False\n",
       "merchant     False\n",
       "is_fraud      True\n",
       "dtype: bool"
      ]
     },
     "execution_count": 43,
     "metadata": {},
     "output_type": "execute_result"
    }
   ],
   "source": [
    "df.nunique()<13"
   ]
  },
  {
   "cell_type": "code",
   "execution_count": 47,
   "metadata": {},
   "outputs": [
    {
     "name": "stdout",
     "output_type": "stream",
     "text": [
      "Accuracy: 0.9971437759935462\n"
     ]
    }
   ],
   "source": [
    "X = df.drop('is_fraud', axis=1)\n",
    "y = df['is_fraud']\n",
    "\n",
    "# applying label encoding to the categorical data types\n",
    "le = LabelEncoder()\n",
    "for col in X.select_dtypes(include=['object','category']).columns:\n",
    "    X[col] = le.fit_transform(X[col])\n",
    "\n",
    "# Split the data into train and test sets\n",
    "X_train, X_test, y_train, y_test = train_test_split(X, y, test_size=0.2, random_state=42)\n",
    "\n",
    "# Define column transformers\n",
    "numeric_features = ['amt', 'month', 'Year', 'day', 'unix_time']\n",
    "categorical_features = ['trans_num', 'category', 'first', 'street', 'merchant']\n",
    "\n",
    "# Create a pipeline with preprocessor and RandomForestClassifier\n",
    "pipeline = Pipeline(steps=[\n",
    "    ('classifier', RandomForestClassifier(random_state=42))\n",
    "])\n",
    "\n",
    "# Fit the pipeline on the training data\n",
    "pipeline.fit(X_train, y_train)\n",
    "\n",
    "# Make predictions on the test data\n",
    "y_pred = pipeline.predict(X_test)\n",
    "\n",
    "# Calculate accuracy score\n",
    "accuracy = accuracy_score(y_test, y_pred)\n",
    "print(\"Accuracy:\", accuracy)"
   ]
  }
 ],
 "metadata": {
  "kernelspec": {
   "display_name": "machine_learning",
   "language": "python",
   "name": "python3"
  },
  "language_info": {
   "codemirror_mode": {
    "name": "ipython",
    "version": 3
   },
   "file_extension": ".py",
   "mimetype": "text/x-python",
   "name": "python",
   "nbconvert_exporter": "python",
   "pygments_lexer": "ipython3",
   "version": "3.11.9"
  }
 },
 "nbformat": 4,
 "nbformat_minor": 2
}
