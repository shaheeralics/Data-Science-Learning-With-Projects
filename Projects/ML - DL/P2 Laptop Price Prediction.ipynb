{
 "cells": [
  {
   "cell_type": "markdown",
   "metadata": {},
   "source": [
    "<div style=\"background-color:#E6F9E6; padding: 20px; border-radius: 10px; box-shadow: 0 2px 4px 0 rgba(0, 0, 0, 0.1); border:2px solid #66C2A5; margin-top: 20px;\">\n",
    "    <h1 style=\"font-size:24px; font-family:Georgia, serif; color:#4A90E2; text-align: center; text-shadow: 2px 2px 4px rgba(0, 0, 0, 0.2);\">\n",
    "        Laptop Sales Price Prediction 2024 Dataset\n",
    "    </h1>\n",
    "    <h2 style=\"font-size:20px; font-family:Georgia, serif; color:#66C2A5;\">File Descriptions</h2>\n",
    "    <p style=\"font-size:16px; font-family:Georgia, serif; line-height: 1.5em; text-indent: 20px; color:#333;\">\n",
    "        <strong>laptop_sales_price_prediction.csv:</strong> CSV file containing the cleaned dataset.\n",
    "    </p>\n",
    "    <h2 style=\"font-size:20px; font-family:Georgia, serif; color:#66C2A5;\">Column Descriptions</h2>\n",
    "    <ul style=\"font-size:16px; font-family:Georgia, serif; color:#333;\">\n",
    "        <li><strong>Name:</strong> Name of the laptop model.</li>\n",
    "        \n",
    "    \n",
    "        \n",
    "</div>\n"
   ]
  },
  {
   "cell_type": "code",
   "execution_count": null,
   "metadata": {},
   "outputs": [],
   "source": []
  }
 ],
 "metadata": {
  "language_info": {
   "name": "python"
  }
 },
 "nbformat": 4,
 "nbformat_minor": 2
}
