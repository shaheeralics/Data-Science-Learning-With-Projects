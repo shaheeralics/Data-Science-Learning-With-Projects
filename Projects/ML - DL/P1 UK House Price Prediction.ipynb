{
 "cells": [
  {
   "cell_type": "markdown",
   "metadata": {},
   "source": [
    "---\n",
    "\n",
    "## **About Author:**\n",
    "\n",
    "---\n",
    "\n",
    "[<img src=\"https://media.licdn.com/dms/image/v2/D4D03AQEsEJ_gVNnU3w/profile-displayphoto-shrink_200_200/profile-displayphoto-shrink_200_200/0/1720678393429?e=2147483647&v=beta&t=RALfVAKvT6TmP2BBpil_CGzZK5L5ykNUou5yModXTVw\" width=\"20%\">](https://shaheer.kesug.com)\n",
    "\n",
    "**Mr. ShaheerAli**  \n",
    "*Data Scientist / ML Engineer*\\\n",
    "BS Computer Science\n",
    "\n",
    "<a href=\"https://www.youtube.com/channel/UCUTphw52izMNv9W6AOIFGJA\">\n",
    "  <img width=\"50\" height=\"50\" src=\"https://img.icons8.com/color/48/youtube-play.png\" alt=\"youtube-play\"/>\n",
    "</a>\n",
    "<a href=\"https://twitter.com/__shaheerali190\">\n",
    "  <img width=\"50\" height=\"50\" src=\"https://img.icons8.com/dotty/80/x.png\" alt=\"x\"/>\n",
    "</a>\n",
    "<a href=\"https://www.linkedin.com/in/shaheer-ali-2761aa303/\">\n",
    "  <img width=\"50\" height=\"50\" src=\"https://img.icons8.com/color/48/linkedin.png\" alt=\"linkedin\"/>\n",
    "</a>\n",
    "<a href=\"https://github.com/shaheeralics\">\n",
    "  <img width=\"50\" height=\"50\" src=\"https://img.icons8.com/ios-glyphs/50/github.png\" alt=\"github\"/>\n",
    "</a>\n",
    "<a href=\"https://www.kaggle.com/shaheerali197\">\n",
    "  <img width=\"50\" height=\"50\" src=\"https://img.icons8.com/clouds/100/kaggle.png\" alt=\"kaggle\"/>\n",
    "</a>\n",
    "\n",
    "[Portfolio Site]('https://shaheer.kesug.com')\n",
    "\n",
    "---"
   ]
  },
  {
   "cell_type": "code",
   "execution_count": null,
   "metadata": {},
   "outputs": [],
   "source": []
  }
 ],
 "metadata": {
  "language_info": {
   "name": "python"
  }
 },
 "nbformat": 4,
 "nbformat_minor": 2
}
