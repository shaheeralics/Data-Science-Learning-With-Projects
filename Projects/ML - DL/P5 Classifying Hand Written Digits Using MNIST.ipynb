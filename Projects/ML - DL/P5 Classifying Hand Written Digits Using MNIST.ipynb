{
 "cells": [
  {
   "cell_type": "markdown",
   "metadata": {},
   "source": [
    "<div style=\"background-color:#FAF3F3; padding: 20px; border-radius: 10px; box-shadow: 0 2px 4px 0 rgba(0, 0, 0, 0.1); border:2px solid #E57373; margin-top: 20px;\">\n",
    "    <h1 style=\"font-size:24px; font-family:Georgia, serif; color:#D32F2F; text-align: center; text-shadow: 2px 2px 4px rgba(0, 0, 0, 0.2);\">\n",
    "        Classifying Hand Written Digits Using MNIST Dataset\n",
    "    </h1>\n",
    "</div>\n"
   ]
  },
  {
   "cell_type": "markdown",
   "metadata": {},
   "source": [
    "<div style=\"background-color:#E6F9E6; padding: 20px; border-radius: 10px; box-shadow: 0 2px 4px 0 rgba(0, 0, 0, 0.1); border:2px solid #66C2A5; margin-top: 20px;\">\n",
    "    <h1 style=\"font-size:24px; font-family:Georgia, serif; color:#4A90E2; text-align: center; text-shadow: 2px 2px 4px rgba(0, 0, 0, 0.2);\">\n",
    "        About Author\n",
    "    </h1>\n",
    "    <div style=\"text-align:center;\">\n",
    "        <a href=\"https://www.sak.kesug.com\">\n",
    "            <img src=\"https://media.licdn.com/dms/image/v2/D4D03AQEsEJ_gVNnU3w/profile-displayphoto-shrink_200_200/profile-displayphoto-shrink_200_200/0/1720678393429?e=2147483647&v=beta&t=RALfVAKvT6TmP2BBpil_CGzZK5L5ykNUou5yModXTVw\" style=\"width: 20%; border-radius: 50%;\" alt=\"Shaheer Ali\">\n",
    "        </a>\n",
    "    </div>\n",
    "    <h2 style=\"font-size:20px; font-family:Georgia, serif; color:#333; text-align:center;\">Mr. Shaheer Ali</h2>\n",
    "    <p style=\"font-size:16px; font-family:Georgia, serif; line-height: 1.5em; text-align:center; color:#333;\">\n",
    "        <em>Data Scientist / ML Engineer</em><br>\n",
    "        BS Computer Science\n",
    "    </p>\n",
    "    <div style=\"text-align:center; margin-top: 10px;\">\n",
    "        <a href=\"https://www.youtube.com/channel/UCUTphw52izMNv9W6AOIFGJA\">\n",
    "            <img width=\"50\" height=\"50\" src=\"https://img.icons8.com/color/48/youtube-play.png\" alt=\"youtube-play\">\n",
    "        </a>\n",
    "        <a href=\"https://twitter.com/__shaheerali190\">\n",
    "            <img width=\"50\" height=\"50\" src=\"https://img.icons8.com/dotty/80/x.png\" alt=\"x\">\n",
    "        </a>\n",
    "        <a href=\"https://www.linkedin.com/in/shaheer-ali-2761aa303/\">\n",
    "            <img width=\"50\" height=\"50\" src=\"https://img.icons8.com/color/48/linkedin.png\" alt=\"linkedin\">\n",
    "        </a>\n",
    "        <a href=\"https://github.com/shaheeralics\">\n",
    "            <img width=\"50\" height=\"50\" src=\"https://img.icons8.com/ios-glyphs/50/github.png\" alt=\"github\">\n",
    "        </a>\n",
    "        <a href=\"https://www.kaggle.com/shaheerali197\">\n",
    "            <img width=\"50\" height=\"50\" src=\"https://img.icons8.com/clouds/100/kaggle.png\" alt=\"kaggle\">\n",
    "        </a>\n",
    "    </div>\n",
    "    <div style=\"text-align:center; margin-top: 20px;\">\n",
    "        <a href=\"https://www.sak.kesug.com\" style=\"font-size:18px; font-family:Georgia, serif; color:#4A90E2; text-decoration:none; border:2px solid #4A90E2; padding: 5px 15px; border-radius: 5px;\">\n",
    "            Portfolio Site\n",
    "        </a>\n",
    "    </div>\n",
    "</div>\n"
   ]
  },
  {
   "cell_type": "markdown",
   "metadata": {},
   "source": [
    "<div style=\"background-color:#E6F9E6; padding: 20px; border-radius: 10px; box-shadow: 0 2px 4px 0 rgba(0, 0, 0, 0.1); border:2px solid #66C2A5; margin-top: 20px;\">\n",
    "    <h1 style=\"font-size:24px; font-family:Georgia, serif; color:#4A90E2; text-align: center; text-shadow: 2px 2px 4px rgba(0, 0, 0, 0.2);\">\n",
    "        Tabel Of Contents:\n",
    "    </h1>\n",
    "    <h2 style=\"font-size:20px; font-family:Georgia, serif; color:#333;\">1. Introduction</h2>\n",
    "    <h2 style=\"font-size:20px; font-family:Georgia, serif; color:#333;\">2. Data preparation</h2>\n",
    "    <ul style=\"font-size:16px; font-family:Georgia, serif; line-height: 1.5em; color:#333;\">\n",
    "        <li>2.0 Importing Libraries</li>\n",
    "        <li>2.1 Load data</li>\n",
    "        <li>2.2 Normalization</li>\n",
    "        <li>2.3 Reshape</li>\n",
    "        <li>2.4 Label encoding</li>\n",
    "        <li>2.5 Split training and validation set</li>\n",
    "    </ul>\n",
    "    <h2 style=\"font-size:20px; font-family:Georgia, serif; color:#333;\">3. Convolution Neural Network</h2>\n",
    "    <ul style=\"font-size:16px; font-family:Georgia, serif; line-height: 1.5em; color:#333;\">\n",
    "        <li>3.1 Define the model</li>\n",
    "        <li>3.2 Data augmentation</li>\n",
    "        <li>3.3 Model training</li>\n",
    "    </ul>\n",
    "    <h2 style=\"font-size:20px; font-family:Georgia, serif; color:#333;\">4. Evaluate the model</h2>\n",
    "    <ul style=\"font-size:16px; font-family:Georgia, serif; line-height: 1.5em; color:#333;\">\n",
    "        <li>4.1 Training and validation curves</li>\n",
    "        <li>4.2 Confusion matrix</li>\n",
    "    </ul>\n",
    "    <h2 style=\"font-size:20px; font-family:Georgia, serif; color:#333;\">5. Prediction and Submission</h2>\n",
    "    <ul style=\"font-size:16px; font-family:Georgia, serif; line-height: 1.5em; color:#333;\">\n",
    "        <li>5.1 Prediction validation results</li>\n",
    "        <li>5.2 Submission</li>\n",
    "    </ul>\n",
    "    <h2 style=\"font-size:20px; font-family:Georgia, serif; color:#333;\">6. References</h2>\n",
    "    <h2 style=\"font-size:20px; font-family:Georgia, serif; color:#333;\">7. Sklearn Solution</h2>\n",
    "</div>\n"
   ]
  },
  {
   "cell_type": "markdown",
   "metadata": {},
   "source": [
    "<div style=\"background-color:#E6F9E6; padding: 20px; border-radius: 10px; box-shadow: 0 2px 4px 0 rgba(0, 0, 0, 0.1); border:2px solid #66C2A5; margin-top: 20px;\">\n",
    "    <h1 style=\"font-size:24px; font-family:Georgia, serif; color:#4A90E2; text-shadow: 2px 2px 4px rgba(0, 0, 0, 0.2);\">\n",
    "        1. Introduction\n",
    "    </h1>\n",
    "    <p style=\"font-size:16px; font-family:Georgia, serif; line-height: 1.5em; color:#333;\">\n",
    "        The MNIST dataset is a collection of 70,000 grayscale images of handwritten digits, ranging from 0 to 9. It has been widely used for training and testing in image classification tasks. Each image is 28x28 pixels in size and labeled with the corresponding digit, making it an ideal dataset for beginners to learn about image classification and neural networks. In this notebook, I will classify handwritten digits in the MNIST dataset through Convolutional Neural Network (CNN) using Keras to accurately classify these handwritten digits based on their patterns.\n",
    "    </p>\n",
    "</div>\n"
   ]
  },
  {
   "cell_type": "markdown",
   "metadata": {},
   "source": [
    "<div style=\"background-color:#D0E6F3; padding: 12px; border-radius: 10px; box-shadow: 0 2px 4px 0 rgba(0, 0, 0, 0.1); border:2px solid #66C2A5; margin-top: 12px;\">\n",
    "    <h2 style=\"font-size:28px; font-family:Georgia, serif; color:#000000; text-align: center; text-shadow: 2px 2px 4px rgba(0, 0, 0, 0.2);\">\n",
    "        2.0 Importing Libraires\n",
    "    </h2>\n",
    "</div>"
   ]
  },
  {
   "cell_type": "code",
   "execution_count": null,
   "metadata": {},
   "outputs": [],
   "source": [
    "pip install pandas numpy matplotlib seaborn scikit-learn tensorflow keras"
   ]
  },
  {
   "cell_type": "code",
   "execution_count": null,
   "metadata": {},
   "outputs": [],
   "source": [
    "import pandas as pd\n",
    "import numpy as np\n",
    "\n",
    "import matplotlib.pyplot as plt\n",
    "import seaborn as sns\n",
    "\n",
    "from sklearn.model_selection import train_test_split\n",
    "from sklearn.metrics import confusion_matrix\n",
    "\n",
    "import keras\n",
    "from keras.models import Sequential\n",
    "from keras.layers import Conv2D, Lambda, MaxPooling2D # convolution layers\n",
    "from keras.layers import Dense, Dropout, Flatten # core layers\n",
    "from keras.layers.normalization import BatchNormalization\n",
    "\n",
    "from keras.preprocessing.image import ImageDataGenerator\n",
    "\n",
    "from keras.utils.np_utils import to_categorical\n",
    "\n",
    "#from keras.datasets import mnist"
   ]
  },
  {
   "cell_type": "code",
   "execution_count": null,
   "metadata": {},
   "outputs": [],
   "source": [
    "import os\n",
    "print(os.listdir('../input'))"
   ]
  },
  {
   "cell_type": "markdown",
   "metadata": {},
   "source": [
    "<div style=\"background-color:#D0E6F3; padding: 12px; border-radius: 10px; box-shadow: 0 2px 4px 0 rgba(0, 0, 0, 0.1); border:2px solid #66C2A5; margin-top: 12px;\">\n",
    "    <h2 style=\"font-size:28px; font-family:Georgia, serif; color:#000000; text-align: center; text-shadow: 2px 2px 4px rgba(0, 0, 0, 0.2);\">\n",
    "        2.1 Loading Data\n",
    "    </h2>\n",
    "</div>"
   ]
  },
  {
   "cell_type": "code",
   "execution_count": null,
   "metadata": {},
   "outputs": [],
   "source": [
    "# importing the mnist datset in from the zip file which have two files 1 is test and other is train both are in csv format\n",
    "train = pd.read_csv('../../../datasets/Projects/P5 mnist hand written digits.zip')"
   ]
  }
 ],
 "metadata": {
  "kernelspec": {
   "display_name": "deep_learning",
   "language": "python",
   "name": "python3"
  },
  "language_info": {
   "codemirror_mode": {
    "name": "ipython",
    "version": 3
   },
   "file_extension": ".py",
   "mimetype": "text/x-python",
   "name": "python",
   "nbconvert_exporter": "python",
   "pygments_lexer": "ipython3",
   "version": "3.11.10"
  }
 },
 "nbformat": 4,
 "nbformat_minor": 2
}
