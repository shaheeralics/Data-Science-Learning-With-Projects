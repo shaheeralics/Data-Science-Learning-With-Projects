{
 "cells": [
  {
   "cell_type": "markdown",
   "metadata": {},
   "source": [
    "<div style=\"background-color:#FAF3F3; padding: 20px; border-radius: 10px; box-shadow: 0 2px 4px 0 rgba(0, 0, 0, 0.1); border:2px solid #E57373; margin-top: 20px;\">\n",
    "    <h1 style=\"font-size:24px; font-family:Georgia, serif; color:#D32F2F; text-align: center; text-shadow: 2px 2px 4px rgba(0, 0, 0, 0.2);\">\n",
    "        Classifying Hand Written Digits Using MNIST Dataset\n",
    "    </h1>\n",
    "</div>\n"
   ]
  },
  {
   "cell_type": "markdown",
   "metadata": {},
   "source": [
    "<div style=\"background-color:#E6F9E6; padding: 20px; border-radius: 10px; box-shadow: 0 2px 4px 0 rgba(0, 0, 0, 0.1); border:2px solid #66C2A5; margin-top: 20px;\">\n",
    "    <h1 style=\"font-size:24px; font-family:Georgia, serif; color:#4A90E2; text-align: center; text-shadow: 2px 2px 4px rgba(0, 0, 0, 0.2);\">\n",
    "        Tabel Of Contents:\n",
    "    </h1>\n",
    "    <h2 style=\"font-size:20px; font-family:Georgia, serif; color:#333;\">1. Introduction</h2>\n",
    "    <h2 style=\"font-size:20px; font-family:Georgia, serif; color:#333;\">2. Data preparation</h2>\n",
    "    <ul style=\"font-size:16px; font-family:Georgia, serif; line-height: 1.5em; color:#333;\">\n",
    "        <li>2.1 Load data</li>\n",
    "        <li>2.2 Normalization</li>\n",
    "        <li>2.3 Reshape</li>\n",
    "        <li>2.4 Label encoding</li>\n",
    "        <li>2.5 Split training and validation set</li>\n",
    "    </ul>\n",
    "    <h2 style=\"font-size:20px; font-family:Georgia, serif; color:#333;\">3. Convolution Neural Network</h2>\n",
    "    <ul style=\"font-size:16px; font-family:Georgia, serif; line-height: 1.5em; color:#333;\">\n",
    "        <li>3.1 Define the model</li>\n",
    "        <li>3.2 Data augmentation</li>\n",
    "        <li>3.3 Model training</li>\n",
    "    </ul>\n",
    "    <h2 style=\"font-size:20px; font-family:Georgia, serif; color:#333;\">4. Evaluate the model</h2>\n",
    "    <ul style=\"font-size:16px; font-family:Georgia, serif; line-height: 1.5em; color:#333;\">\n",
    "        <li>4.1 Training and validation curves</li>\n",
    "        <li>4.2 Confusion matrix</li>\n",
    "    </ul>\n",
    "    <h2 style=\"font-size:20px; font-family:Georgia, serif; color:#333;\">5. Prediction and Submission</h2>\n",
    "    <ul style=\"font-size:16px; font-family:Georgia, serif; line-height: 1.5em; color:#333;\">\n",
    "        <li>5.1 Prediction validation results</li>\n",
    "        <li>5.2 Submission</li>\n",
    "    </ul>\n",
    "    <h2 style=\"font-size:20px; font-family:Georgia, serif; color:#333;\">6. References</h2>\n",
    "    <h2 style=\"font-size:20px; font-family:Georgia, serif; color:#333;\">7. Sklearn Solution</h2>\n",
    "</div>\n"
   ]
  },
  {
   "cell_type": "markdown",
   "metadata": {},
   "source": [
    "<div style=\"background-color:#E6F9E6; padding: 20px; border-radius: 10px; box-shadow: 0 2px 4px 0 rgba(0, 0, 0, 0.1); border:2px solid #66C2A5; margin-top: 20px;\">\n",
    "    <h1 style=\"font-size:24px; font-family:Georgia, serif; color:#4A90E2; text-shadow: 2px 2px 4px rgba(0, 0, 0, 0.2);\">\n",
    "        1. Introduction\n",
    "    </h1>\n",
    "    <p style=\"font-size:16px; font-family:Georgia, serif; line-height: 1.5em; color:#333;\">\n",
    "        The MNIST dataset is a collection of 70,000 grayscale images of handwritten digits, ranging from 0 to 9. It has been widely used for training and testing in image classification tasks. Each image is 28x28 pixels in size and labeled with the corresponding digit, making it an ideal dataset for beginners to learn about image classification and neural networks. In this notebook, I will classify handwritten digits in the MNIST dataset through Convolutional Neural Network (CNN) using Keras to accurately classify these handwritten digits based on their patterns.\n",
    "    </p>\n",
    "</div>\n"
   ]
  },
  {
   "cell_type": "code",
   "execution_count": null,
   "metadata": {},
   "outputs": [],
   "source": []
  }
 ],
 "metadata": {
  "kernelspec": {
   "display_name": "machine_learning",
   "language": "python",
   "name": "python3"
  },
  "language_info": {
   "codemirror_mode": {
    "name": "ipython",
    "version": 3
   },
   "file_extension": ".py",
   "mimetype": "text/x-python",
   "name": "python",
   "nbconvert_exporter": "python",
   "pygments_lexer": "ipython3",
   "version": "3.11.9"
  }
 },
 "nbformat": 4,
 "nbformat_minor": 2
}
