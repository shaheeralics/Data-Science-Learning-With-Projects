{
 "cells": [
  {
   "cell_type": "markdown",
   "metadata": {},
   "source": [
    "## Netflix Movies and TV Shows\n",
    "### About this Dataset:\n",
    " Netflix is one of the most popular media and video streaming platforms. They have over 8000 movies or tv shows available on their platform, as of mid-2021, they have over 200M Subscribers globally. This tabular dataset consists of listings of all the movies and tv shows available on Netflix, along with details such as - cast, directors, ratings, release year, duration, etc.\n",
    "\n",
    "### Featured Notebooks: \n",
    "Click Here to View Featured Notebooks\n",
    "Milestone: Oct 18th, 2021: Most Upvoted Dataset on Kaggle by an Individual Contributor\n",
    "\n",
    "### Interesting Task Ideas\n",
    "Understanding what content is available in different countries\n",
    "Identifying similar content by matching text-based features\n",
    "Network analysis of Actors / Directors and find interesting insights\n",
    "Does Netflix has more focus on TV Shows than movies in recent years.\n",
    "\n",
    "#### Dataset Link:\n",
    "https://www.kaggle.com/datasets/shivamb/netflix-shows/data"
   ]
  },
  {
   "cell_type": "code",
   "execution_count": null,
   "metadata": {},
   "outputs": [],
   "source": []
  }
 ],
 "metadata": {
  "language_info": {
   "name": "python"
  }
 },
 "nbformat": 4,
 "nbformat_minor": 2
}
