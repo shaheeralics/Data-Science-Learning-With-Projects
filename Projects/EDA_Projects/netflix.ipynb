{
 "cells": [
  {
   "cell_type": "markdown",
   "metadata": {},
   "source": [
    "## Netflix Movies and TV Shows\n",
    "### About this Dataset:\n",
    " Netflix is one of the most popular media and video streaming platforms. They have over 8000 movies or tv shows available on their platform, as of mid-2021, they have over 200M Subscribers globally. This tabular dataset consists of listings of all the movies and tv shows available on Netflix, along with details such as - cast, directors, ratings, release year, duration, etc.\n",
    "\n",
    "### Featured Notebooks: \n",
    "Click Here to View Featured Notebooks\n",
    "Milestone: Oct 18th, 2021: Most Upvoted Dataset on Kaggle by an Individual Contributor\n",
    "\n",
    "### Interesting Task Ideas\n",
    "Understanding what content is available in different countries\n",
    "Identifying similar content by matching text-based features\n",
    "Network analysis of Actors / Directors and find interesting insights\n",
    "Does Netflix has more focus on TV Shows than movies in recent years.\n",
    "\n",
    "#### Dataset Link:\n",
    "https://www.kaggle.com/datasets/shivamb/netflix-shows/data"
   ]
  },
  {
   "cell_type": "markdown",
   "metadata": {},
   "source": [
    "### **Importing Libraries**:"
   ]
  },
  {
   "cell_type": "code",
   "execution_count": 2,
   "metadata": {},
   "outputs": [],
   "source": [
    "import pandas as pd\n",
    "import numpy as np\n",
    "import seaborn as sns\n",
    "import matplotlib.pyplot as plt"
   ]
  },
  {
   "cell_type": "markdown",
   "metadata": {},
   "source": [
    "### **Importing Dataset:**\n"
   ]
  },
  {
   "cell_type": "code",
   "execution_count": 4,
   "metadata": {},
   "outputs": [],
   "source": [
    "# Load the data\n",
    "df = pd.read_csv('../../datasets/netflix_titles.csv')"
   ]
  },
  {
   "cell_type": "markdown",
   "metadata": {},
   "source": [
    "### **Step 1: EDA:**"
   ]
  },
  {
   "cell_type": "code",
   "execution_count": 5,
   "metadata": {},
   "outputs": [],
   "source": [
    "# the eda can have the following steps:\n",
    "# 1. Data Cleaning\n",
    "# 2. Data Preprocessing\n",
    "# 3. Data Visualization\n",
    "# 4. Data Analysis\n",
    "\n",
    "# 1. Data Cleaning has the following steps:\n",
    "# 1.1. Check for missing values\n",
    "# 1.2. Check for duplicate values\n",
    "# 1.3. Check for outliers\n",
    "# 1.4. Check for data consistency\n",
    "# 1.5. Check for data integrity\n",
    "# 1.6. Check for data accuracy\n",
    "# 1.7. Check for data validity\n",
    "# 1.8. Check for data uniformity\n",
    "# 1.9. Check for data relevancy\n",
    "# 1.10. Check for data consistency\n",
    "# 1.11. Check for data completeness\n",
    "# 1.12. Check for data correctness\n",
    "\n",
    "# 2. Data Preprocessing has the following steps:\n",
    "# 2.1. Data Transformation\n",
    "# 2.2. Data Reduction\n",
    "# 2.3. Data Normalization\n",
    "# 2.4. Data Discretization\n",
    "# 2.5. Data Aggregation\n",
    "# 2.6. Data Sampling\n",
    "# 2.7. Data Cleaning\n",
    "# 2.8. Data Integration\n",
    "\n",
    "# 3. Data Visualization has the following steps:\n",
    "# 3.1. Univariate Analysis\n",
    "# 3.2. Bivariate Analysis\n",
    "# 3.3. Multivariate Analysis\n",
    "# 3.4. Data Exploration\n",
    "# 3.5. Data Interpretation\n",
    "# 3.6. Data Representation\n",
    "# 3.7. Data Visualization\n",
    "# data visualization can be done using the following libraries:\n",
    "# 3.7.1. Matplotlib\n",
    "# 3.7.2. Seaborn\n",
    "# 3.7.3. Plotly and so on \n",
    "# data visualization can be done using the following types:\n",
    "# 3.7.4. Line Chart\n",
    "# 3.7.5. Bar Chart\n",
    "# 3.7.6. Pie Chart\n",
    "# 3.7.7. Scatter Plot\n",
    "# 3.7.8. Box Plot\n",
    "# 3.7.9. Histogram\n",
    "# 3.7.10. Heatmap\n",
    "# 3.7.11. Violin Plot\n",
    "# 3.7.12. Pair Plot\n",
    "# 3.7.13. Joint Plot\n",
    "# 3.7.14. Count Plot\n",
    "# 3.7.15. Facet Grid\n",
    "# 3.7.16. Swarm Plot\n",
    "# 3.7.17. Density Plot\n",
    "# 3.7.18. Regression Plot\n",
    "# 3.7.19. Categorical Plot\n",
    "# 3.7.20. Relational Plot\n",
    "# 3.7.21. Distribution Plot\n",
    "# 3.7.22. Matrix Plot\n",
    "# 3.7.23. Time Series Plot\n",
    "# 3.7.24. Network Plot\n",
    "# 3.7.25. Geographical Plot\n",
    "# 3.7.26. 3D Plot\n",
    "# 3.7.27. Interactive Plot\n",
    "# 3.7.28. Static Plot\n",
    "# 3.7.29. Dynamic Plot\n",
    "# 3.7.30. Real-time Plot\n",
    "# 3.7.31. Static Plot\n",
    "# 3.7.32. Dynamic Plot\n",
    "# 3.7.33. Real-time Plot\n",
    "# 3.7.34. Static Plot\n",
    "# 3.7.35. Dynamic Plot\n",
    "# 3.7.36. Real-time Plot\n",
    "# 3.7.37. Static Plot\n",
    "# 3.8. Data Reporting\n",
    "# 3.9. Data Communication\n",
    "# 3.10. Data Presentation\n",
    "\n",
    "\n"
   ]
  },
  {
   "cell_type": "code",
   "execution_count": null,
   "metadata": {},
   "outputs": [],
   "source": []
  }
 ],
 "metadata": {
  "kernelspec": {
   "display_name": "Python 3",
   "language": "python",
   "name": "python3"
  },
  "language_info": {
   "codemirror_mode": {
    "name": "ipython",
    "version": 3
   },
   "file_extension": ".py",
   "mimetype": "text/x-python",
   "name": "python",
   "nbconvert_exporter": "python",
   "pygments_lexer": "ipython3",
   "version": "3.10.13"
  }
 },
 "nbformat": 4,
 "nbformat_minor": 2
}
