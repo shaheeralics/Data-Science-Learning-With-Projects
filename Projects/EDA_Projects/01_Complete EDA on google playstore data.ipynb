{
 "cells": [
  {
   "cell_type": "markdown",
   "metadata": {},
   "source": [
    "# 1.0 `About Dataset`\n",
    "Context\n",
    "While many public datasets (on Kaggle and the like) provide Apple App Store data, there are not many counterpart datasets available for Google Play Store apps anywhere on the web. On digging deeper, I found out that iTunes App Store page deploys a nicely indexed appendix-like structure to allow for simple and easy web scraping. On the other hand, Google Play Store uses sophisticated modern-day techniques (like dynamic page load) using JQuery making scraping more challenging.\n",
    "\n",
    "### 1.1 Content\n",
    "Each app (row) has values for catergory, rating, size, and more.\n",
    "\n",
    "### 1.2 Acknowledgements\n",
    "This information is scraped from the Google Play Store. This app information would not be available without it.\n",
    "\n",
    "### 1.3 Inspiration\n",
    "The Play Store apps data has enormous potential to drive app-making businesses to success. Actionable insights can be drawn for developers to work on and capture the Android market!\n",
    "\n",
    "### 1.4 Dataset link:\n",
    "> The Data Set was downloaded from Kaggle, from the following [link](https://www.kaggle.com/datasets/lava18/google-play-store-apps/)"
   ]
  },
  {
   "cell_type": "markdown",
   "metadata": {},
   "source": [
    "# 2.0 `Import Libraries:`"
   ]
  },
  {
   "cell_type": "code",
   "execution_count": 2,
   "metadata": {},
   "outputs": [],
   "source": [
    "# import libraries\n",
    "import pandas as pd\n",
    "import numpy as np\n",
    "import seaborn as sns\n",
    "import matplotlib.pyplot as plt"
   ]
  },
  {
   "cell_type": "markdown",
   "metadata": {},
   "source": [
    "# 3.0 `Exploring Data:`"
   ]
  },
  {
   "cell_type": "code",
   "execution_count": 3,
   "metadata": {},
   "outputs": [],
   "source": [
    "# load data\n",
    "df = pd.read_csv('../../datasets/googleplaystore.csv')"
   ]
  },
  {
   "cell_type": "code",
   "execution_count": 4,
   "metadata": {},
   "outputs": [
    {
     "data": {
      "text/html": [
       "<div>\n",
       "<style scoped>\n",
       "    .dataframe tbody tr th:only-of-type {\n",
       "        vertical-align: middle;\n",
       "    }\n",
       "\n",
       "    .dataframe tbody tr th {\n",
       "        vertical-align: top;\n",
       "    }\n",
       "\n",
       "    .dataframe thead th {\n",
       "        text-align: right;\n",
       "    }\n",
       "</style>\n",
       "<table border=\"1\" class=\"dataframe\">\n",
       "  <thead>\n",
       "    <tr style=\"text-align: right;\">\n",
       "      <th></th>\n",
       "      <th>App</th>\n",
       "      <th>Category</th>\n",
       "      <th>Rating</th>\n",
       "      <th>Reviews</th>\n",
       "      <th>Size</th>\n",
       "      <th>Installs</th>\n",
       "      <th>Type</th>\n",
       "      <th>Price</th>\n",
       "      <th>Content Rating</th>\n",
       "      <th>Genres</th>\n",
       "      <th>Last Updated</th>\n",
       "      <th>Current Ver</th>\n",
       "      <th>Android Ver</th>\n",
       "    </tr>\n",
       "  </thead>\n",
       "  <tbody>\n",
       "    <tr>\n",
       "      <th>0</th>\n",
       "      <td>Photo Editor &amp; Candy Camera &amp; Grid &amp; ScrapBook</td>\n",
       "      <td>ART_AND_DESIGN</td>\n",
       "      <td>4.1</td>\n",
       "      <td>159</td>\n",
       "      <td>19M</td>\n",
       "      <td>10,000+</td>\n",
       "      <td>Free</td>\n",
       "      <td>0</td>\n",
       "      <td>Everyone</td>\n",
       "      <td>Art &amp; Design</td>\n",
       "      <td>January 7, 2018</td>\n",
       "      <td>1.0.0</td>\n",
       "      <td>4.0.3 and up</td>\n",
       "    </tr>\n",
       "    <tr>\n",
       "      <th>1</th>\n",
       "      <td>Coloring book moana</td>\n",
       "      <td>ART_AND_DESIGN</td>\n",
       "      <td>3.9</td>\n",
       "      <td>967</td>\n",
       "      <td>14M</td>\n",
       "      <td>500,000+</td>\n",
       "      <td>Free</td>\n",
       "      <td>0</td>\n",
       "      <td>Everyone</td>\n",
       "      <td>Art &amp; Design;Pretend Play</td>\n",
       "      <td>January 15, 2018</td>\n",
       "      <td>2.0.0</td>\n",
       "      <td>4.0.3 and up</td>\n",
       "    </tr>\n",
       "    <tr>\n",
       "      <th>2</th>\n",
       "      <td>U Launcher Lite – FREE Live Cool Themes, Hide ...</td>\n",
       "      <td>ART_AND_DESIGN</td>\n",
       "      <td>4.7</td>\n",
       "      <td>87510</td>\n",
       "      <td>8.7M</td>\n",
       "      <td>5,000,000+</td>\n",
       "      <td>Free</td>\n",
       "      <td>0</td>\n",
       "      <td>Everyone</td>\n",
       "      <td>Art &amp; Design</td>\n",
       "      <td>August 1, 2018</td>\n",
       "      <td>1.2.4</td>\n",
       "      <td>4.0.3 and up</td>\n",
       "    </tr>\n",
       "    <tr>\n",
       "      <th>3</th>\n",
       "      <td>Sketch - Draw &amp; Paint</td>\n",
       "      <td>ART_AND_DESIGN</td>\n",
       "      <td>4.5</td>\n",
       "      <td>215644</td>\n",
       "      <td>25M</td>\n",
       "      <td>50,000,000+</td>\n",
       "      <td>Free</td>\n",
       "      <td>0</td>\n",
       "      <td>Teen</td>\n",
       "      <td>Art &amp; Design</td>\n",
       "      <td>June 8, 2018</td>\n",
       "      <td>Varies with device</td>\n",
       "      <td>4.2 and up</td>\n",
       "    </tr>\n",
       "    <tr>\n",
       "      <th>4</th>\n",
       "      <td>Pixel Draw - Number Art Coloring Book</td>\n",
       "      <td>ART_AND_DESIGN</td>\n",
       "      <td>4.3</td>\n",
       "      <td>967</td>\n",
       "      <td>2.8M</td>\n",
       "      <td>100,000+</td>\n",
       "      <td>Free</td>\n",
       "      <td>0</td>\n",
       "      <td>Everyone</td>\n",
       "      <td>Art &amp; Design;Creativity</td>\n",
       "      <td>June 20, 2018</td>\n",
       "      <td>1.1</td>\n",
       "      <td>4.4 and up</td>\n",
       "    </tr>\n",
       "  </tbody>\n",
       "</table>\n",
       "</div>"
      ],
      "text/plain": [
       "                                                 App        Category  Rating  \\\n",
       "0     Photo Editor & Candy Camera & Grid & ScrapBook  ART_AND_DESIGN     4.1   \n",
       "1                                Coloring book moana  ART_AND_DESIGN     3.9   \n",
       "2  U Launcher Lite – FREE Live Cool Themes, Hide ...  ART_AND_DESIGN     4.7   \n",
       "3                              Sketch - Draw & Paint  ART_AND_DESIGN     4.5   \n",
       "4              Pixel Draw - Number Art Coloring Book  ART_AND_DESIGN     4.3   \n",
       "\n",
       "   Reviews  Size     Installs  Type Price Content Rating  \\\n",
       "0      159   19M      10,000+  Free     0       Everyone   \n",
       "1      967   14M     500,000+  Free     0       Everyone   \n",
       "2    87510  8.7M   5,000,000+  Free     0       Everyone   \n",
       "3   215644   25M  50,000,000+  Free     0           Teen   \n",
       "4      967  2.8M     100,000+  Free     0       Everyone   \n",
       "\n",
       "                      Genres      Last Updated         Current Ver  \\\n",
       "0               Art & Design   January 7, 2018               1.0.0   \n",
       "1  Art & Design;Pretend Play  January 15, 2018               2.0.0   \n",
       "2               Art & Design    August 1, 2018               1.2.4   \n",
       "3               Art & Design      June 8, 2018  Varies with device   \n",
       "4    Art & Design;Creativity     June 20, 2018                 1.1   \n",
       "\n",
       "    Android Ver  \n",
       "0  4.0.3 and up  \n",
       "1  4.0.3 and up  \n",
       "2  4.0.3 and up  \n",
       "3    4.2 and up  \n",
       "4    4.4 and up  "
      ]
     },
     "execution_count": 4,
     "metadata": {},
     "output_type": "execute_result"
    }
   ],
   "source": [
    "df.head()"
   ]
  },
  {
   "cell_type": "code",
   "execution_count": 5,
   "metadata": {},
   "outputs": [
    {
     "data": {
      "text/html": [
       "<div>\n",
       "<style scoped>\n",
       "    .dataframe tbody tr th:only-of-type {\n",
       "        vertical-align: middle;\n",
       "    }\n",
       "\n",
       "    .dataframe tbody tr th {\n",
       "        vertical-align: top;\n",
       "    }\n",
       "\n",
       "    .dataframe thead th {\n",
       "        text-align: right;\n",
       "    }\n",
       "</style>\n",
       "<table border=\"1\" class=\"dataframe\">\n",
       "  <thead>\n",
       "    <tr style=\"text-align: right;\">\n",
       "      <th></th>\n",
       "      <th>App</th>\n",
       "      <th>Category</th>\n",
       "      <th>Rating</th>\n",
       "      <th>Reviews</th>\n",
       "      <th>Size</th>\n",
       "      <th>Installs</th>\n",
       "      <th>Type</th>\n",
       "      <th>Price</th>\n",
       "      <th>Content Rating</th>\n",
       "      <th>Genres</th>\n",
       "      <th>Last Updated</th>\n",
       "      <th>Current Ver</th>\n",
       "      <th>Android Ver</th>\n",
       "    </tr>\n",
       "  </thead>\n",
       "  <tbody>\n",
       "    <tr>\n",
       "      <th>10836</th>\n",
       "      <td>Sya9a Maroc - FR</td>\n",
       "      <td>FAMILY</td>\n",
       "      <td>4.5</td>\n",
       "      <td>38</td>\n",
       "      <td>53M</td>\n",
       "      <td>5,000+</td>\n",
       "      <td>Free</td>\n",
       "      <td>0</td>\n",
       "      <td>Everyone</td>\n",
       "      <td>Education</td>\n",
       "      <td>July 25, 2017</td>\n",
       "      <td>1.48</td>\n",
       "      <td>4.1 and up</td>\n",
       "    </tr>\n",
       "    <tr>\n",
       "      <th>10837</th>\n",
       "      <td>Fr. Mike Schmitz Audio Teachings</td>\n",
       "      <td>FAMILY</td>\n",
       "      <td>5.0</td>\n",
       "      <td>4</td>\n",
       "      <td>3.6M</td>\n",
       "      <td>100+</td>\n",
       "      <td>Free</td>\n",
       "      <td>0</td>\n",
       "      <td>Everyone</td>\n",
       "      <td>Education</td>\n",
       "      <td>July 6, 2018</td>\n",
       "      <td>1.0</td>\n",
       "      <td>4.1 and up</td>\n",
       "    </tr>\n",
       "    <tr>\n",
       "      <th>10838</th>\n",
       "      <td>Parkinson Exercices FR</td>\n",
       "      <td>MEDICAL</td>\n",
       "      <td>NaN</td>\n",
       "      <td>3</td>\n",
       "      <td>9.5M</td>\n",
       "      <td>1,000+</td>\n",
       "      <td>Free</td>\n",
       "      <td>0</td>\n",
       "      <td>Everyone</td>\n",
       "      <td>Medical</td>\n",
       "      <td>January 20, 2017</td>\n",
       "      <td>1.0</td>\n",
       "      <td>2.2 and up</td>\n",
       "    </tr>\n",
       "    <tr>\n",
       "      <th>10839</th>\n",
       "      <td>The SCP Foundation DB fr nn5n</td>\n",
       "      <td>BOOKS_AND_REFERENCE</td>\n",
       "      <td>4.5</td>\n",
       "      <td>114</td>\n",
       "      <td>Varies with device</td>\n",
       "      <td>1,000+</td>\n",
       "      <td>Free</td>\n",
       "      <td>0</td>\n",
       "      <td>Mature 17+</td>\n",
       "      <td>Books &amp; Reference</td>\n",
       "      <td>January 19, 2015</td>\n",
       "      <td>Varies with device</td>\n",
       "      <td>Varies with device</td>\n",
       "    </tr>\n",
       "    <tr>\n",
       "      <th>10840</th>\n",
       "      <td>iHoroscope - 2018 Daily Horoscope &amp; Astrology</td>\n",
       "      <td>LIFESTYLE</td>\n",
       "      <td>4.5</td>\n",
       "      <td>398307</td>\n",
       "      <td>19M</td>\n",
       "      <td>10,000,000+</td>\n",
       "      <td>Free</td>\n",
       "      <td>0</td>\n",
       "      <td>Everyone</td>\n",
       "      <td>Lifestyle</td>\n",
       "      <td>July 25, 2018</td>\n",
       "      <td>Varies with device</td>\n",
       "      <td>Varies with device</td>\n",
       "    </tr>\n",
       "  </tbody>\n",
       "</table>\n",
       "</div>"
      ],
      "text/plain": [
       "                                                 App             Category  \\\n",
       "10836                               Sya9a Maroc - FR               FAMILY   \n",
       "10837               Fr. Mike Schmitz Audio Teachings               FAMILY   \n",
       "10838                         Parkinson Exercices FR              MEDICAL   \n",
       "10839                  The SCP Foundation DB fr nn5n  BOOKS_AND_REFERENCE   \n",
       "10840  iHoroscope - 2018 Daily Horoscope & Astrology            LIFESTYLE   \n",
       "\n",
       "       Rating  Reviews                Size     Installs  Type Price  \\\n",
       "10836     4.5       38                 53M       5,000+  Free     0   \n",
       "10837     5.0        4                3.6M         100+  Free     0   \n",
       "10838     NaN        3                9.5M       1,000+  Free     0   \n",
       "10839     4.5      114  Varies with device       1,000+  Free     0   \n",
       "10840     4.5   398307                 19M  10,000,000+  Free     0   \n",
       "\n",
       "      Content Rating             Genres      Last Updated         Current Ver  \\\n",
       "10836       Everyone          Education     July 25, 2017                1.48   \n",
       "10837       Everyone          Education      July 6, 2018                 1.0   \n",
       "10838       Everyone            Medical  January 20, 2017                 1.0   \n",
       "10839     Mature 17+  Books & Reference  January 19, 2015  Varies with device   \n",
       "10840       Everyone          Lifestyle     July 25, 2018  Varies with device   \n",
       "\n",
       "              Android Ver  \n",
       "10836          4.1 and up  \n",
       "10837          4.1 and up  \n",
       "10838          2.2 and up  \n",
       "10839  Varies with device  \n",
       "10840  Varies with device  "
      ]
     },
     "execution_count": 5,
     "metadata": {},
     "output_type": "execute_result"
    }
   ],
   "source": [
    "df.tail()"
   ]
  },
  {
   "cell_type": "code",
   "execution_count": 6,
   "metadata": {},
   "outputs": [
    {
     "data": {
      "text/plain": [
       "Index(['App', 'Category', 'Rating', 'Reviews', 'Size', 'Installs', 'Type',\n",
       "       'Price', 'Content Rating', 'Genres', 'Last Updated', 'Current Ver',\n",
       "       'Android Ver'],\n",
       "      dtype='object')"
      ]
     },
     "execution_count": 6,
     "metadata": {},
     "output_type": "execute_result"
    }
   ],
   "source": [
    "df.columns"
   ]
  },
  {
   "cell_type": "code",
   "execution_count": 7,
   "metadata": {},
   "outputs": [
    {
     "name": "stdout",
     "output_type": "stream",
     "text": [
      "<class 'pandas.core.frame.DataFrame'>\n",
      "RangeIndex: 10841 entries, 0 to 10840\n",
      "Data columns (total 13 columns):\n",
      " #   Column          Non-Null Count  Dtype  \n",
      "---  ------          --------------  -----  \n",
      " 0   App             10841 non-null  object \n",
      " 1   Category        10840 non-null  object \n",
      " 2   Rating          9367 non-null   float64\n",
      " 3   Reviews         10841 non-null  int64  \n",
      " 4   Size            10841 non-null  object \n",
      " 5   Installs        10841 non-null  object \n",
      " 6   Type            10840 non-null  object \n",
      " 7   Price           10841 non-null  object \n",
      " 8   Content Rating  10841 non-null  object \n",
      " 9   Genres          10840 non-null  object \n",
      " 10  Last Updated    10841 non-null  object \n",
      " 11  Current Ver     10833 non-null  object \n",
      " 12  Android Ver     10839 non-null  object \n",
      "dtypes: float64(1), int64(1), object(11)\n",
      "memory usage: 1.1+ MB\n"
     ]
    }
   ],
   "source": [
    "df.info()"
   ]
  },
  {
   "cell_type": "code",
   "execution_count": 8,
   "metadata": {},
   "outputs": [
    {
     "data": {
      "text/html": [
       "<div>\n",
       "<style scoped>\n",
       "    .dataframe tbody tr th:only-of-type {\n",
       "        vertical-align: middle;\n",
       "    }\n",
       "\n",
       "    .dataframe tbody tr th {\n",
       "        vertical-align: top;\n",
       "    }\n",
       "\n",
       "    .dataframe thead th {\n",
       "        text-align: right;\n",
       "    }\n",
       "</style>\n",
       "<table border=\"1\" class=\"dataframe\">\n",
       "  <thead>\n",
       "    <tr style=\"text-align: right;\">\n",
       "      <th></th>\n",
       "      <th>Rating</th>\n",
       "      <th>Reviews</th>\n",
       "    </tr>\n",
       "  </thead>\n",
       "  <tbody>\n",
       "    <tr>\n",
       "      <th>count</th>\n",
       "      <td>9367.000000</td>\n",
       "      <td>1.084100e+04</td>\n",
       "    </tr>\n",
       "    <tr>\n",
       "      <th>mean</th>\n",
       "      <td>4.191513</td>\n",
       "      <td>4.441119e+05</td>\n",
       "    </tr>\n",
       "    <tr>\n",
       "      <th>std</th>\n",
       "      <td>0.515735</td>\n",
       "      <td>2.927629e+06</td>\n",
       "    </tr>\n",
       "    <tr>\n",
       "      <th>min</th>\n",
       "      <td>1.000000</td>\n",
       "      <td>0.000000e+00</td>\n",
       "    </tr>\n",
       "    <tr>\n",
       "      <th>25%</th>\n",
       "      <td>4.000000</td>\n",
       "      <td>3.800000e+01</td>\n",
       "    </tr>\n",
       "    <tr>\n",
       "      <th>50%</th>\n",
       "      <td>4.300000</td>\n",
       "      <td>2.094000e+03</td>\n",
       "    </tr>\n",
       "    <tr>\n",
       "      <th>75%</th>\n",
       "      <td>4.500000</td>\n",
       "      <td>5.476800e+04</td>\n",
       "    </tr>\n",
       "    <tr>\n",
       "      <th>max</th>\n",
       "      <td>5.000000</td>\n",
       "      <td>7.815831e+07</td>\n",
       "    </tr>\n",
       "  </tbody>\n",
       "</table>\n",
       "</div>"
      ],
      "text/plain": [
       "            Rating       Reviews\n",
       "count  9367.000000  1.084100e+04\n",
       "mean      4.191513  4.441119e+05\n",
       "std       0.515735  2.927629e+06\n",
       "min       1.000000  0.000000e+00\n",
       "25%       4.000000  3.800000e+01\n",
       "50%       4.300000  2.094000e+03\n",
       "75%       4.500000  5.476800e+04\n",
       "max       5.000000  7.815831e+07"
      ]
     },
     "execution_count": 8,
     "metadata": {},
     "output_type": "execute_result"
    }
   ],
   "source": [
    "df.describe()"
   ]
  },
  {
   "cell_type": "markdown",
   "metadata": {},
   "source": [
    "## 3.11 `Observations:`"
   ]
  },
  {
   "cell_type": "code",
   "execution_count": 9,
   "metadata": {},
   "outputs": [],
   "source": [
    "# showing all rows\n",
    "pd.set_option('display.max_rows', None)"
   ]
  },
  {
   "cell_type": "code",
   "execution_count": 10,
   "metadata": {},
   "outputs": [
    {
     "data": {
      "text/plain": [
       "App               9660\n",
       "Category            33\n",
       "Rating              39\n",
       "Reviews           6001\n",
       "Size               461\n",
       "Installs            21\n",
       "Type                 2\n",
       "Price               92\n",
       "Content Rating       6\n",
       "Genres             119\n",
       "Last Updated      1377\n",
       "Current Ver       2831\n",
       "Android Ver         33\n",
       "dtype: int64"
      ]
     },
     "execution_count": 10,
     "metadata": {},
     "output_type": "execute_result"
    }
   ],
   "source": [
    "# showing unique values in each column with df.head()\n",
    "df.columns.to_series().apply(lambda x: df[x].nunique())"
   ]
  },
  {
   "cell_type": "markdown",
   "metadata": {},
   "source": [
    "` Following are some anomalies in the data`\n",
    "1. Rating has a maximum value of 19\n",
    "2. Size has 'Varies with device',and  it should be numeric\n",
    "3. Installs has '+' and ',', it should be numeric\n",
    "4. Type has 'Free' and 'Paid'\n",
    "5. Price has '$' and 'Everyone', it should be numeric\n",
    "6. Content Rating has 'Adults only 18+' and 'Unrated'\n",
    "7. Genres has ';'"
   ]
  },
  {
   "cell_type": "markdown",
   "metadata": {},
   "source": [
    "# 4.0 `Exploring and Dealing with Columns:`"
   ]
  },
  {
   "cell_type": "markdown",
   "metadata": {},
   "source": [
    "`What things to explore in every column of the dataset:`\n",
    "1. Missing Values\n",
    "2. DataType\n",
    "3. Unique Values\n",
    "4. Duplicates\n",
    "5. Outliers\n",
    "6. Distribution of data\n",
    "7. Relationship between columns\n",
    "8. Number of Apps in each Column(value_counts)"
   ]
  },
  {
   "cell_type": "markdown",
   "metadata": {},
   "source": [
    "## 4.1 `App`:\n",
    "### 4.1.1 `Exploring:`"
   ]
  },
  {
   "cell_type": "code",
   "execution_count": 11,
   "metadata": {},
   "outputs": [
    {
     "data": {
      "text/plain": [
       "0"
      ]
     },
     "execution_count": 11,
     "metadata": {},
     "output_type": "execute_result"
    }
   ],
   "source": [
    "df.App.isnull().sum()"
   ]
  },
  {
   "cell_type": "code",
   "execution_count": 12,
   "metadata": {},
   "outputs": [
    {
     "data": {
      "text/plain": [
       "9660"
      ]
     },
     "execution_count": 12,
     "metadata": {},
     "output_type": "execute_result"
    }
   ],
   "source": [
    "df.App.nunique()"
   ]
  },
  {
   "cell_type": "code",
   "execution_count": 13,
   "metadata": {},
   "outputs": [
    {
     "data": {
      "text/plain": [
       "483"
      ]
     },
     "execution_count": 13,
     "metadata": {},
     "output_type": "execute_result"
    }
   ],
   "source": [
    "# check for duplicates\n",
    "df.duplicated().sum()"
   ]
  },
  {
   "cell_type": "code",
   "execution_count": 14,
   "metadata": {},
   "outputs": [
    {
     "name": "stdout",
     "output_type": "stream",
     "text": [
      "<class 'pandas.core.series.Series'>\n",
      "RangeIndex: 10841 entries, 0 to 10840\n",
      "Series name: App\n",
      "Non-Null Count  Dtype \n",
      "--------------  ----- \n",
      "10841 non-null  object\n",
      "dtypes: object(1)\n",
      "memory usage: 84.8+ KB\n"
     ]
    }
   ],
   "source": [
    "# DataType\n",
    "df['App'].info()"
   ]
  },
  {
   "cell_type": "code",
   "execution_count": 15,
   "metadata": {},
   "outputs": [
    {
     "data": {
      "text/plain": [
       "10841"
      ]
     },
     "execution_count": 15,
     "metadata": {},
     "output_type": "execute_result"
    }
   ],
   "source": [
    "df['App'].value_counts().sum()"
   ]
  },
  {
   "cell_type": "code",
   "execution_count": 16,
   "metadata": {},
   "outputs": [
    {
     "data": {
      "text/html": [
       "<div>\n",
       "<style scoped>\n",
       "    .dataframe tbody tr th:only-of-type {\n",
       "        vertical-align: middle;\n",
       "    }\n",
       "\n",
       "    .dataframe tbody tr th {\n",
       "        vertical-align: top;\n",
       "    }\n",
       "\n",
       "    .dataframe thead th {\n",
       "        text-align: right;\n",
       "    }\n",
       "</style>\n",
       "<table border=\"1\" class=\"dataframe\">\n",
       "  <thead>\n",
       "    <tr style=\"text-align: right;\">\n",
       "      <th></th>\n",
       "      <th>App</th>\n",
       "      <th>Category</th>\n",
       "      <th>Rating</th>\n",
       "      <th>Reviews</th>\n",
       "      <th>Size</th>\n",
       "      <th>Installs</th>\n",
       "      <th>Type</th>\n",
       "      <th>Price</th>\n",
       "      <th>Content Rating</th>\n",
       "      <th>Genres</th>\n",
       "      <th>Last Updated</th>\n",
       "      <th>Current Ver</th>\n",
       "      <th>Android Ver</th>\n",
       "    </tr>\n",
       "  </thead>\n",
       "  <tbody>\n",
       "    <tr>\n",
       "      <th>1</th>\n",
       "      <td>Coloring book moana</td>\n",
       "      <td>ART_AND_DESIGN</td>\n",
       "      <td>3.9</td>\n",
       "      <td>967</td>\n",
       "      <td>14M</td>\n",
       "      <td>500,000+</td>\n",
       "      <td>Free</td>\n",
       "      <td>0</td>\n",
       "      <td>Everyone</td>\n",
       "      <td>Art &amp; Design;Pretend Play</td>\n",
       "      <td>January 15, 2018</td>\n",
       "      <td>2.0.0</td>\n",
       "      <td>4.0.3 and up</td>\n",
       "    </tr>\n",
       "    <tr>\n",
       "      <th>23</th>\n",
       "      <td>Mcqueen Coloring pages</td>\n",
       "      <td>ART_AND_DESIGN</td>\n",
       "      <td>NaN</td>\n",
       "      <td>61</td>\n",
       "      <td>7.0M</td>\n",
       "      <td>100,000+</td>\n",
       "      <td>Free</td>\n",
       "      <td>0</td>\n",
       "      <td>Everyone</td>\n",
       "      <td>Art &amp; Design;Action &amp; Adventure</td>\n",
       "      <td>March 7, 2018</td>\n",
       "      <td>1.0.0</td>\n",
       "      <td>4.1 and up</td>\n",
       "    </tr>\n",
       "    <tr>\n",
       "      <th>36</th>\n",
       "      <td>UNICORN - Color By Number &amp; Pixel Art Coloring</td>\n",
       "      <td>ART_AND_DESIGN</td>\n",
       "      <td>4.7</td>\n",
       "      <td>8145</td>\n",
       "      <td>24M</td>\n",
       "      <td>500,000+</td>\n",
       "      <td>Free</td>\n",
       "      <td>0</td>\n",
       "      <td>Everyone</td>\n",
       "      <td>Art &amp; Design;Creativity</td>\n",
       "      <td>August 2, 2018</td>\n",
       "      <td>1.0.9</td>\n",
       "      <td>4.4 and up</td>\n",
       "    </tr>\n",
       "    <tr>\n",
       "      <th>42</th>\n",
       "      <td>Textgram - write on photos</td>\n",
       "      <td>ART_AND_DESIGN</td>\n",
       "      <td>4.4</td>\n",
       "      <td>295221</td>\n",
       "      <td>Varies with device</td>\n",
       "      <td>10,000,000+</td>\n",
       "      <td>Free</td>\n",
       "      <td>0</td>\n",
       "      <td>Everyone</td>\n",
       "      <td>Art &amp; Design</td>\n",
       "      <td>July 30, 2018</td>\n",
       "      <td>Varies with device</td>\n",
       "      <td>Varies with device</td>\n",
       "    </tr>\n",
       "    <tr>\n",
       "      <th>139</th>\n",
       "      <td>Wattpad 📖 Free Books</td>\n",
       "      <td>BOOKS_AND_REFERENCE</td>\n",
       "      <td>4.6</td>\n",
       "      <td>2914724</td>\n",
       "      <td>Varies with device</td>\n",
       "      <td>100,000,000+</td>\n",
       "      <td>Free</td>\n",
       "      <td>0</td>\n",
       "      <td>Teen</td>\n",
       "      <td>Books &amp; Reference</td>\n",
       "      <td>August 1, 2018</td>\n",
       "      <td>Varies with device</td>\n",
       "      <td>Varies with device</td>\n",
       "    </tr>\n",
       "  </tbody>\n",
       "</table>\n",
       "</div>"
      ],
      "text/plain": [
       "                                                App             Category  \\\n",
       "1                               Coloring book moana       ART_AND_DESIGN   \n",
       "23                           Mcqueen Coloring pages       ART_AND_DESIGN   \n",
       "36   UNICORN - Color By Number & Pixel Art Coloring       ART_AND_DESIGN   \n",
       "42                       Textgram - write on photos       ART_AND_DESIGN   \n",
       "139                            Wattpad 📖 Free Books  BOOKS_AND_REFERENCE   \n",
       "\n",
       "     Rating  Reviews                Size      Installs  Type Price  \\\n",
       "1       3.9      967                 14M      500,000+  Free     0   \n",
       "23      NaN       61                7.0M      100,000+  Free     0   \n",
       "36      4.7     8145                 24M      500,000+  Free     0   \n",
       "42      4.4   295221  Varies with device   10,000,000+  Free     0   \n",
       "139     4.6  2914724  Varies with device  100,000,000+  Free     0   \n",
       "\n",
       "    Content Rating                           Genres      Last Updated  \\\n",
       "1         Everyone        Art & Design;Pretend Play  January 15, 2018   \n",
       "23        Everyone  Art & Design;Action & Adventure     March 7, 2018   \n",
       "36        Everyone          Art & Design;Creativity    August 2, 2018   \n",
       "42        Everyone                     Art & Design     July 30, 2018   \n",
       "139           Teen                Books & Reference    August 1, 2018   \n",
       "\n",
       "            Current Ver         Android Ver  \n",
       "1                 2.0.0        4.0.3 and up  \n",
       "23                1.0.0          4.1 and up  \n",
       "36                1.0.9          4.4 and up  \n",
       "42   Varies with device  Varies with device  \n",
       "139  Varies with device  Varies with device  "
      ]
     },
     "execution_count": 16,
     "metadata": {},
     "output_type": "execute_result"
    }
   ],
   "source": [
    "df[df.duplicated(keep=False, subset='App')].head()"
   ]
  },
  {
   "cell_type": "code",
   "execution_count": 17,
   "metadata": {},
   "outputs": [
    {
     "data": {
      "text/html": [
       "<div>\n",
       "<style scoped>\n",
       "    .dataframe tbody tr th:only-of-type {\n",
       "        vertical-align: middle;\n",
       "    }\n",
       "\n",
       "    .dataframe tbody tr th {\n",
       "        vertical-align: top;\n",
       "    }\n",
       "\n",
       "    .dataframe thead th {\n",
       "        text-align: right;\n",
       "    }\n",
       "</style>\n",
       "<table border=\"1\" class=\"dataframe\">\n",
       "  <thead>\n",
       "    <tr style=\"text-align: right;\">\n",
       "      <th></th>\n",
       "      <th>App</th>\n",
       "      <th>Category</th>\n",
       "      <th>Rating</th>\n",
       "      <th>Reviews</th>\n",
       "      <th>Size</th>\n",
       "      <th>Installs</th>\n",
       "      <th>Type</th>\n",
       "      <th>Price</th>\n",
       "      <th>Content Rating</th>\n",
       "      <th>Genres</th>\n",
       "      <th>Last Updated</th>\n",
       "      <th>Current Ver</th>\n",
       "      <th>Android Ver</th>\n",
       "    </tr>\n",
       "  </thead>\n",
       "  <tbody>\n",
       "    <tr>\n",
       "      <th>10715</th>\n",
       "      <td>FarmersOnly Dating</td>\n",
       "      <td>DATING</td>\n",
       "      <td>3.0</td>\n",
       "      <td>1145</td>\n",
       "      <td>1.4M</td>\n",
       "      <td>100,000+</td>\n",
       "      <td>Free</td>\n",
       "      <td>0</td>\n",
       "      <td>Mature 17+</td>\n",
       "      <td>Dating</td>\n",
       "      <td>February 25, 2016</td>\n",
       "      <td>2.2</td>\n",
       "      <td>4.0 and up</td>\n",
       "    </tr>\n",
       "    <tr>\n",
       "      <th>10720</th>\n",
       "      <td>Firefox Focus: The privacy browser</td>\n",
       "      <td>COMMUNICATION</td>\n",
       "      <td>4.4</td>\n",
       "      <td>36981</td>\n",
       "      <td>4.0M</td>\n",
       "      <td>1,000,000+</td>\n",
       "      <td>Free</td>\n",
       "      <td>0</td>\n",
       "      <td>Everyone</td>\n",
       "      <td>Communication</td>\n",
       "      <td>July 6, 2018</td>\n",
       "      <td>5.2</td>\n",
       "      <td>5.0 and up</td>\n",
       "    </tr>\n",
       "    <tr>\n",
       "      <th>10730</th>\n",
       "      <td>FP Notebook</td>\n",
       "      <td>MEDICAL</td>\n",
       "      <td>4.5</td>\n",
       "      <td>410</td>\n",
       "      <td>60M</td>\n",
       "      <td>50,000+</td>\n",
       "      <td>Free</td>\n",
       "      <td>0</td>\n",
       "      <td>Everyone</td>\n",
       "      <td>Medical</td>\n",
       "      <td>March 24, 2018</td>\n",
       "      <td>2.1.0.372</td>\n",
       "      <td>4.4 and up</td>\n",
       "    </tr>\n",
       "    <tr>\n",
       "      <th>10753</th>\n",
       "      <td>Slickdeals: Coupons &amp; Shopping</td>\n",
       "      <td>SHOPPING</td>\n",
       "      <td>4.5</td>\n",
       "      <td>33599</td>\n",
       "      <td>12M</td>\n",
       "      <td>1,000,000+</td>\n",
       "      <td>Free</td>\n",
       "      <td>0</td>\n",
       "      <td>Everyone</td>\n",
       "      <td>Shopping</td>\n",
       "      <td>July 30, 2018</td>\n",
       "      <td>3.9</td>\n",
       "      <td>4.4 and up</td>\n",
       "    </tr>\n",
       "    <tr>\n",
       "      <th>10768</th>\n",
       "      <td>AAFP</td>\n",
       "      <td>MEDICAL</td>\n",
       "      <td>3.8</td>\n",
       "      <td>63</td>\n",
       "      <td>24M</td>\n",
       "      <td>10,000+</td>\n",
       "      <td>Free</td>\n",
       "      <td>0</td>\n",
       "      <td>Everyone</td>\n",
       "      <td>Medical</td>\n",
       "      <td>June 22, 2018</td>\n",
       "      <td>2.3.1</td>\n",
       "      <td>5.0 and up</td>\n",
       "    </tr>\n",
       "  </tbody>\n",
       "</table>\n",
       "</div>"
      ],
      "text/plain": [
       "                                      App       Category  Rating  Reviews  \\\n",
       "10715                  FarmersOnly Dating         DATING     3.0     1145   \n",
       "10720  Firefox Focus: The privacy browser  COMMUNICATION     4.4    36981   \n",
       "10730                         FP Notebook        MEDICAL     4.5      410   \n",
       "10753      Slickdeals: Coupons & Shopping       SHOPPING     4.5    33599   \n",
       "10768                                AAFP        MEDICAL     3.8       63   \n",
       "\n",
       "       Size    Installs  Type Price Content Rating         Genres  \\\n",
       "10715  1.4M    100,000+  Free     0     Mature 17+         Dating   \n",
       "10720  4.0M  1,000,000+  Free     0       Everyone  Communication   \n",
       "10730   60M     50,000+  Free     0       Everyone        Medical   \n",
       "10753   12M  1,000,000+  Free     0       Everyone       Shopping   \n",
       "10768   24M     10,000+  Free     0       Everyone        Medical   \n",
       "\n",
       "            Last Updated Current Ver Android Ver  \n",
       "10715  February 25, 2016         2.2  4.0 and up  \n",
       "10720       July 6, 2018         5.2  5.0 and up  \n",
       "10730     March 24, 2018   2.1.0.372  4.4 and up  \n",
       "10753      July 30, 2018         3.9  4.4 and up  \n",
       "10768      June 22, 2018       2.3.1  5.0 and up  "
      ]
     },
     "execution_count": 17,
     "metadata": {},
     "output_type": "execute_result"
    }
   ],
   "source": [
    "df[df.duplicated(keep=False, subset='App')].tail()"
   ]
  },
  {
   "cell_type": "markdown",
   "metadata": {},
   "source": [
    "### 4.1.2 `Observations:`"
   ]
  },
  {
   "cell_type": "markdown",
   "metadata": {},
   "source": [
    "My observations about app column are:\n",
    " 1. There are 483 duplicates which are incorrect , it means that there are no duplicates in the App Column:\n",
    " 2. There is no missing value\n",
    " 2. There are 9660 unique values\n",
    " 3. The data type is object\n"
   ]
  },
  {
   "cell_type": "markdown",
   "metadata": {},
   "source": [
    "## 4.2 `Category`:\n",
    "### 4.2.1 `Exploring:`"
   ]
  },
  {
   "cell_type": "code",
   "execution_count": 18,
   "metadata": {},
   "outputs": [
    {
     "data": {
      "text/html": [
       "<div>\n",
       "<style scoped>\n",
       "    .dataframe tbody tr th:only-of-type {\n",
       "        vertical-align: middle;\n",
       "    }\n",
       "\n",
       "    .dataframe tbody tr th {\n",
       "        vertical-align: top;\n",
       "    }\n",
       "\n",
       "    .dataframe thead th {\n",
       "        text-align: right;\n",
       "    }\n",
       "</style>\n",
       "<table border=\"1\" class=\"dataframe\">\n",
       "  <thead>\n",
       "    <tr style=\"text-align: right;\">\n",
       "      <th></th>\n",
       "      <th>App</th>\n",
       "      <th>Category</th>\n",
       "      <th>Rating</th>\n",
       "      <th>Reviews</th>\n",
       "      <th>Size</th>\n",
       "      <th>Installs</th>\n",
       "      <th>Type</th>\n",
       "      <th>Price</th>\n",
       "      <th>Content Rating</th>\n",
       "      <th>Genres</th>\n",
       "      <th>Last Updated</th>\n",
       "      <th>Current Ver</th>\n",
       "      <th>Android Ver</th>\n",
       "    </tr>\n",
       "  </thead>\n",
       "  <tbody>\n",
       "    <tr>\n",
       "      <th>0</th>\n",
       "      <td>Photo Editor &amp; Candy Camera &amp; Grid &amp; ScrapBook</td>\n",
       "      <td>ART_AND_DESIGN</td>\n",
       "      <td>4.1</td>\n",
       "      <td>159</td>\n",
       "      <td>19M</td>\n",
       "      <td>10,000+</td>\n",
       "      <td>Free</td>\n",
       "      <td>0</td>\n",
       "      <td>Everyone</td>\n",
       "      <td>Art &amp; Design</td>\n",
       "      <td>January 7, 2018</td>\n",
       "      <td>1.0.0</td>\n",
       "      <td>4.0.3 and up</td>\n",
       "    </tr>\n",
       "  </tbody>\n",
       "</table>\n",
       "</div>"
      ],
      "text/plain": [
       "                                              App        Category  Rating  \\\n",
       "0  Photo Editor & Candy Camera & Grid & ScrapBook  ART_AND_DESIGN     4.1   \n",
       "\n",
       "   Reviews Size Installs  Type Price Content Rating        Genres  \\\n",
       "0      159  19M  10,000+  Free     0       Everyone  Art & Design   \n",
       "\n",
       "      Last Updated Current Ver   Android Ver  \n",
       "0  January 7, 2018       1.0.0  4.0.3 and up  "
      ]
     },
     "execution_count": 18,
     "metadata": {},
     "output_type": "execute_result"
    }
   ],
   "source": [
    "df.head(1)"
   ]
  },
  {
   "cell_type": "code",
   "execution_count": 19,
   "metadata": {},
   "outputs": [
    {
     "data": {
      "text/plain": [
       "Category\n",
       "FAMILY                 1972\n",
       "GAME                   1144\n",
       "TOOLS                   843\n",
       "MEDICAL                 463\n",
       "BUSINESS                460\n",
       "PRODUCTIVITY            424\n",
       "PERSONALIZATION         392\n",
       "COMMUNICATION           387\n",
       "SPORTS                  384\n",
       "LIFESTYLE               382\n",
       "FINANCE                 366\n",
       "HEALTH_AND_FITNESS      341\n",
       "PHOTOGRAPHY             335\n",
       "SOCIAL                  295\n",
       "NEWS_AND_MAGAZINES      283\n",
       "SHOPPING                260\n",
       "TRAVEL_AND_LOCAL        258\n",
       "DATING                  234\n",
       "BOOKS_AND_REFERENCE     231\n",
       "VIDEO_PLAYERS           175\n",
       "EDUCATION               156\n",
       "ENTERTAINMENT           149\n",
       "MAPS_AND_NAVIGATION     137\n",
       "FOOD_AND_DRINK          127\n",
       "HOUSE_AND_HOME           88\n",
       "AUTO_AND_VEHICLES        85\n",
       "LIBRARIES_AND_DEMO       85\n",
       "WEATHER                  82\n",
       "ART_AND_DESIGN           65\n",
       "EVENTS                   64\n",
       "PARENTING                60\n",
       "COMICS                   60\n",
       "BEAUTY                   53\n",
       "Name: count, dtype: int64"
      ]
     },
     "execution_count": 19,
     "metadata": {},
     "output_type": "execute_result"
    }
   ],
   "source": [
    "df['Category'].value_counts()"
   ]
  },
  {
   "cell_type": "code",
   "execution_count": 20,
   "metadata": {},
   "outputs": [
    {
     "data": {
      "text/plain": [
       "33"
      ]
     },
     "execution_count": 20,
     "metadata": {},
     "output_type": "execute_result"
    }
   ],
   "source": [
    "df.Category.nunique()"
   ]
  },
  {
   "cell_type": "code",
   "execution_count": 21,
   "metadata": {},
   "outputs": [
    {
     "data": {
      "text/plain": [
       "1"
      ]
     },
     "execution_count": 21,
     "metadata": {},
     "output_type": "execute_result"
    }
   ],
   "source": [
    "# Missing Values\n",
    "# Dealing With Missing Values Is Compulsory\n",
    "df['Category'].isnull().sum()"
   ]
  },
  {
   "cell_type": "code",
   "execution_count": 22,
   "metadata": {},
   "outputs": [
    {
     "data": {
      "text/plain": [
       "10807"
      ]
     },
     "execution_count": 22,
     "metadata": {},
     "output_type": "execute_result"
    }
   ],
   "source": [
    "df.Category.duplicated().sum()"
   ]
  },
  {
   "cell_type": "code",
   "execution_count": 23,
   "metadata": {},
   "outputs": [
    {
     "data": {
      "text/html": [
       "<div>\n",
       "<style scoped>\n",
       "    .dataframe tbody tr th:only-of-type {\n",
       "        vertical-align: middle;\n",
       "    }\n",
       "\n",
       "    .dataframe tbody tr th {\n",
       "        vertical-align: top;\n",
       "    }\n",
       "\n",
       "    .dataframe thead th {\n",
       "        text-align: right;\n",
       "    }\n",
       "</style>\n",
       "<table border=\"1\" class=\"dataframe\">\n",
       "  <thead>\n",
       "    <tr style=\"text-align: right;\">\n",
       "      <th></th>\n",
       "      <th>App</th>\n",
       "      <th>Category</th>\n",
       "      <th>Rating</th>\n",
       "      <th>Reviews</th>\n",
       "      <th>Size</th>\n",
       "      <th>Installs</th>\n",
       "      <th>Type</th>\n",
       "      <th>Price</th>\n",
       "      <th>Content Rating</th>\n",
       "      <th>Genres</th>\n",
       "      <th>Last Updated</th>\n",
       "      <th>Current Ver</th>\n",
       "      <th>Android Ver</th>\n",
       "    </tr>\n",
       "  </thead>\n",
       "  <tbody>\n",
       "    <tr>\n",
       "      <th>0</th>\n",
       "      <td>Photo Editor &amp; Candy Camera &amp; Grid &amp; ScrapBook</td>\n",
       "      <td>ART_AND_DESIGN</td>\n",
       "      <td>4.1</td>\n",
       "      <td>159</td>\n",
       "      <td>19M</td>\n",
       "      <td>10,000+</td>\n",
       "      <td>Free</td>\n",
       "      <td>0</td>\n",
       "      <td>Everyone</td>\n",
       "      <td>Art &amp; Design</td>\n",
       "      <td>January 7, 2018</td>\n",
       "      <td>1.0.0</td>\n",
       "      <td>4.0.3 and up</td>\n",
       "    </tr>\n",
       "    <tr>\n",
       "      <th>1</th>\n",
       "      <td>Coloring book moana</td>\n",
       "      <td>ART_AND_DESIGN</td>\n",
       "      <td>3.9</td>\n",
       "      <td>967</td>\n",
       "      <td>14M</td>\n",
       "      <td>500,000+</td>\n",
       "      <td>Free</td>\n",
       "      <td>0</td>\n",
       "      <td>Everyone</td>\n",
       "      <td>Art &amp; Design;Pretend Play</td>\n",
       "      <td>January 15, 2018</td>\n",
       "      <td>2.0.0</td>\n",
       "      <td>4.0.3 and up</td>\n",
       "    </tr>\n",
       "    <tr>\n",
       "      <th>2</th>\n",
       "      <td>U Launcher Lite – FREE Live Cool Themes, Hide ...</td>\n",
       "      <td>ART_AND_DESIGN</td>\n",
       "      <td>4.7</td>\n",
       "      <td>87510</td>\n",
       "      <td>8.7M</td>\n",
       "      <td>5,000,000+</td>\n",
       "      <td>Free</td>\n",
       "      <td>0</td>\n",
       "      <td>Everyone</td>\n",
       "      <td>Art &amp; Design</td>\n",
       "      <td>August 1, 2018</td>\n",
       "      <td>1.2.4</td>\n",
       "      <td>4.0.3 and up</td>\n",
       "    </tr>\n",
       "    <tr>\n",
       "      <th>3</th>\n",
       "      <td>Sketch - Draw &amp; Paint</td>\n",
       "      <td>ART_AND_DESIGN</td>\n",
       "      <td>4.5</td>\n",
       "      <td>215644</td>\n",
       "      <td>25M</td>\n",
       "      <td>50,000,000+</td>\n",
       "      <td>Free</td>\n",
       "      <td>0</td>\n",
       "      <td>Teen</td>\n",
       "      <td>Art &amp; Design</td>\n",
       "      <td>June 8, 2018</td>\n",
       "      <td>Varies with device</td>\n",
       "      <td>4.2 and up</td>\n",
       "    </tr>\n",
       "    <tr>\n",
       "      <th>4</th>\n",
       "      <td>Pixel Draw - Number Art Coloring Book</td>\n",
       "      <td>ART_AND_DESIGN</td>\n",
       "      <td>4.3</td>\n",
       "      <td>967</td>\n",
       "      <td>2.8M</td>\n",
       "      <td>100,000+</td>\n",
       "      <td>Free</td>\n",
       "      <td>0</td>\n",
       "      <td>Everyone</td>\n",
       "      <td>Art &amp; Design;Creativity</td>\n",
       "      <td>June 20, 2018</td>\n",
       "      <td>1.1</td>\n",
       "      <td>4.4 and up</td>\n",
       "    </tr>\n",
       "  </tbody>\n",
       "</table>\n",
       "</div>"
      ],
      "text/plain": [
       "                                                 App        Category  Rating  \\\n",
       "0     Photo Editor & Candy Camera & Grid & ScrapBook  ART_AND_DESIGN     4.1   \n",
       "1                                Coloring book moana  ART_AND_DESIGN     3.9   \n",
       "2  U Launcher Lite – FREE Live Cool Themes, Hide ...  ART_AND_DESIGN     4.7   \n",
       "3                              Sketch - Draw & Paint  ART_AND_DESIGN     4.5   \n",
       "4              Pixel Draw - Number Art Coloring Book  ART_AND_DESIGN     4.3   \n",
       "\n",
       "   Reviews  Size     Installs  Type Price Content Rating  \\\n",
       "0      159   19M      10,000+  Free     0       Everyone   \n",
       "1      967   14M     500,000+  Free     0       Everyone   \n",
       "2    87510  8.7M   5,000,000+  Free     0       Everyone   \n",
       "3   215644   25M  50,000,000+  Free     0           Teen   \n",
       "4      967  2.8M     100,000+  Free     0       Everyone   \n",
       "\n",
       "                      Genres      Last Updated         Current Ver  \\\n",
       "0               Art & Design   January 7, 2018               1.0.0   \n",
       "1  Art & Design;Pretend Play  January 15, 2018               2.0.0   \n",
       "2               Art & Design    August 1, 2018               1.2.4   \n",
       "3               Art & Design      June 8, 2018  Varies with device   \n",
       "4    Art & Design;Creativity     June 20, 2018                 1.1   \n",
       "\n",
       "    Android Ver  \n",
       "0  4.0.3 and up  \n",
       "1  4.0.3 and up  \n",
       "2  4.0.3 and up  \n",
       "3    4.2 and up  \n",
       "4    4.4 and up  "
      ]
     },
     "execution_count": 23,
     "metadata": {},
     "output_type": "execute_result"
    }
   ],
   "source": [
    "df[df.duplicated(subset='Category', keep=False)].head()"
   ]
  },
  {
   "cell_type": "code",
   "execution_count": 24,
   "metadata": {},
   "outputs": [
    {
     "data": {
      "text/html": [
       "<div>\n",
       "<style scoped>\n",
       "    .dataframe tbody tr th:only-of-type {\n",
       "        vertical-align: middle;\n",
       "    }\n",
       "\n",
       "    .dataframe tbody tr th {\n",
       "        vertical-align: top;\n",
       "    }\n",
       "\n",
       "    .dataframe thead th {\n",
       "        text-align: right;\n",
       "    }\n",
       "</style>\n",
       "<table border=\"1\" class=\"dataframe\">\n",
       "  <thead>\n",
       "    <tr style=\"text-align: right;\">\n",
       "      <th></th>\n",
       "      <th>App</th>\n",
       "      <th>Category</th>\n",
       "      <th>Rating</th>\n",
       "      <th>Reviews</th>\n",
       "      <th>Size</th>\n",
       "      <th>Installs</th>\n",
       "      <th>Type</th>\n",
       "      <th>Price</th>\n",
       "      <th>Content Rating</th>\n",
       "      <th>Genres</th>\n",
       "      <th>Last Updated</th>\n",
       "      <th>Current Ver</th>\n",
       "      <th>Android Ver</th>\n",
       "    </tr>\n",
       "  </thead>\n",
       "  <tbody>\n",
       "    <tr>\n",
       "      <th>10836</th>\n",
       "      <td>Sya9a Maroc - FR</td>\n",
       "      <td>FAMILY</td>\n",
       "      <td>4.5</td>\n",
       "      <td>38</td>\n",
       "      <td>53M</td>\n",
       "      <td>5,000+</td>\n",
       "      <td>Free</td>\n",
       "      <td>0</td>\n",
       "      <td>Everyone</td>\n",
       "      <td>Education</td>\n",
       "      <td>July 25, 2017</td>\n",
       "      <td>1.48</td>\n",
       "      <td>4.1 and up</td>\n",
       "    </tr>\n",
       "    <tr>\n",
       "      <th>10837</th>\n",
       "      <td>Fr. Mike Schmitz Audio Teachings</td>\n",
       "      <td>FAMILY</td>\n",
       "      <td>5.0</td>\n",
       "      <td>4</td>\n",
       "      <td>3.6M</td>\n",
       "      <td>100+</td>\n",
       "      <td>Free</td>\n",
       "      <td>0</td>\n",
       "      <td>Everyone</td>\n",
       "      <td>Education</td>\n",
       "      <td>July 6, 2018</td>\n",
       "      <td>1.0</td>\n",
       "      <td>4.1 and up</td>\n",
       "    </tr>\n",
       "    <tr>\n",
       "      <th>10838</th>\n",
       "      <td>Parkinson Exercices FR</td>\n",
       "      <td>MEDICAL</td>\n",
       "      <td>NaN</td>\n",
       "      <td>3</td>\n",
       "      <td>9.5M</td>\n",
       "      <td>1,000+</td>\n",
       "      <td>Free</td>\n",
       "      <td>0</td>\n",
       "      <td>Everyone</td>\n",
       "      <td>Medical</td>\n",
       "      <td>January 20, 2017</td>\n",
       "      <td>1.0</td>\n",
       "      <td>2.2 and up</td>\n",
       "    </tr>\n",
       "    <tr>\n",
       "      <th>10839</th>\n",
       "      <td>The SCP Foundation DB fr nn5n</td>\n",
       "      <td>BOOKS_AND_REFERENCE</td>\n",
       "      <td>4.5</td>\n",
       "      <td>114</td>\n",
       "      <td>Varies with device</td>\n",
       "      <td>1,000+</td>\n",
       "      <td>Free</td>\n",
       "      <td>0</td>\n",
       "      <td>Mature 17+</td>\n",
       "      <td>Books &amp; Reference</td>\n",
       "      <td>January 19, 2015</td>\n",
       "      <td>Varies with device</td>\n",
       "      <td>Varies with device</td>\n",
       "    </tr>\n",
       "    <tr>\n",
       "      <th>10840</th>\n",
       "      <td>iHoroscope - 2018 Daily Horoscope &amp; Astrology</td>\n",
       "      <td>LIFESTYLE</td>\n",
       "      <td>4.5</td>\n",
       "      <td>398307</td>\n",
       "      <td>19M</td>\n",
       "      <td>10,000,000+</td>\n",
       "      <td>Free</td>\n",
       "      <td>0</td>\n",
       "      <td>Everyone</td>\n",
       "      <td>Lifestyle</td>\n",
       "      <td>July 25, 2018</td>\n",
       "      <td>Varies with device</td>\n",
       "      <td>Varies with device</td>\n",
       "    </tr>\n",
       "  </tbody>\n",
       "</table>\n",
       "</div>"
      ],
      "text/plain": [
       "                                                 App             Category  \\\n",
       "10836                               Sya9a Maroc - FR               FAMILY   \n",
       "10837               Fr. Mike Schmitz Audio Teachings               FAMILY   \n",
       "10838                         Parkinson Exercices FR              MEDICAL   \n",
       "10839                  The SCP Foundation DB fr nn5n  BOOKS_AND_REFERENCE   \n",
       "10840  iHoroscope - 2018 Daily Horoscope & Astrology            LIFESTYLE   \n",
       "\n",
       "       Rating  Reviews                Size     Installs  Type Price  \\\n",
       "10836     4.5       38                 53M       5,000+  Free     0   \n",
       "10837     5.0        4                3.6M         100+  Free     0   \n",
       "10838     NaN        3                9.5M       1,000+  Free     0   \n",
       "10839     4.5      114  Varies with device       1,000+  Free     0   \n",
       "10840     4.5   398307                 19M  10,000,000+  Free     0   \n",
       "\n",
       "      Content Rating             Genres      Last Updated         Current Ver  \\\n",
       "10836       Everyone          Education     July 25, 2017                1.48   \n",
       "10837       Everyone          Education      July 6, 2018                 1.0   \n",
       "10838       Everyone            Medical  January 20, 2017                 1.0   \n",
       "10839     Mature 17+  Books & Reference  January 19, 2015  Varies with device   \n",
       "10840       Everyone          Lifestyle     July 25, 2018  Varies with device   \n",
       "\n",
       "              Android Ver  \n",
       "10836          4.1 and up  \n",
       "10837          4.1 and up  \n",
       "10838          2.2 and up  \n",
       "10839  Varies with device  \n",
       "10840  Varies with device  "
      ]
     },
     "execution_count": 24,
     "metadata": {},
     "output_type": "execute_result"
    }
   ],
   "source": [
    "df[df.duplicated(subset='Category', keep=False)].tail()"
   ]
  },
  {
   "cell_type": "markdown",
   "metadata": {},
   "source": [
    "### 4.2.2 `Observations:`"
   ]
  },
  {
   "cell_type": "markdown",
   "metadata": {},
   "source": [
    "Following are my Observations about the Category Column:\n",
    "1. Total categories in this dataset are 33\n",
    "2. Total number of missing value is 1\n",
    "3. There are no Duplicate rows, the duplicates it shows are not correct as many apps can have the same category, and there are no duplicate app in the dataset\n",
    "4. Top Categories based on number of Apps are the Following:\n",
    "- FAMILY     = 1972\n",
    "- GAME        = 1144\n",
    "- TOOLS        = 843\n",
    "- MEDICAL      = 463\n",
    "- BUSINESS     = 460"
   ]
  },
  {
   "cell_type": "markdown",
   "metadata": {},
   "source": [
    "## 4.3 `Rating`:\n",
    "### 4.3.1 `Exploring:`"
   ]
  },
  {
   "cell_type": "code",
   "execution_count": 25,
   "metadata": {},
   "outputs": [
    {
     "data": {
      "text/html": [
       "<div>\n",
       "<style scoped>\n",
       "    .dataframe tbody tr th:only-of-type {\n",
       "        vertical-align: middle;\n",
       "    }\n",
       "\n",
       "    .dataframe tbody tr th {\n",
       "        vertical-align: top;\n",
       "    }\n",
       "\n",
       "    .dataframe thead th {\n",
       "        text-align: right;\n",
       "    }\n",
       "</style>\n",
       "<table border=\"1\" class=\"dataframe\">\n",
       "  <thead>\n",
       "    <tr style=\"text-align: right;\">\n",
       "      <th></th>\n",
       "      <th>App</th>\n",
       "      <th>Category</th>\n",
       "      <th>Rating</th>\n",
       "      <th>Reviews</th>\n",
       "      <th>Size</th>\n",
       "      <th>Installs</th>\n",
       "      <th>Type</th>\n",
       "      <th>Price</th>\n",
       "      <th>Content Rating</th>\n",
       "      <th>Genres</th>\n",
       "      <th>Last Updated</th>\n",
       "      <th>Current Ver</th>\n",
       "      <th>Android Ver</th>\n",
       "    </tr>\n",
       "  </thead>\n",
       "  <tbody>\n",
       "    <tr>\n",
       "      <th>0</th>\n",
       "      <td>Photo Editor &amp; Candy Camera &amp; Grid &amp; ScrapBook</td>\n",
       "      <td>ART_AND_DESIGN</td>\n",
       "      <td>4.1</td>\n",
       "      <td>159</td>\n",
       "      <td>19M</td>\n",
       "      <td>10,000+</td>\n",
       "      <td>Free</td>\n",
       "      <td>0</td>\n",
       "      <td>Everyone</td>\n",
       "      <td>Art &amp; Design</td>\n",
       "      <td>January 7, 2018</td>\n",
       "      <td>1.0.0</td>\n",
       "      <td>4.0.3 and up</td>\n",
       "    </tr>\n",
       "    <tr>\n",
       "      <th>1</th>\n",
       "      <td>Coloring book moana</td>\n",
       "      <td>ART_AND_DESIGN</td>\n",
       "      <td>3.9</td>\n",
       "      <td>967</td>\n",
       "      <td>14M</td>\n",
       "      <td>500,000+</td>\n",
       "      <td>Free</td>\n",
       "      <td>0</td>\n",
       "      <td>Everyone</td>\n",
       "      <td>Art &amp; Design;Pretend Play</td>\n",
       "      <td>January 15, 2018</td>\n",
       "      <td>2.0.0</td>\n",
       "      <td>4.0.3 and up</td>\n",
       "    </tr>\n",
       "  </tbody>\n",
       "</table>\n",
       "</div>"
      ],
      "text/plain": [
       "                                              App        Category  Rating  \\\n",
       "0  Photo Editor & Candy Camera & Grid & ScrapBook  ART_AND_DESIGN     4.1   \n",
       "1                             Coloring book moana  ART_AND_DESIGN     3.9   \n",
       "\n",
       "   Reviews Size  Installs  Type Price Content Rating  \\\n",
       "0      159  19M   10,000+  Free     0       Everyone   \n",
       "1      967  14M  500,000+  Free     0       Everyone   \n",
       "\n",
       "                      Genres      Last Updated Current Ver   Android Ver  \n",
       "0               Art & Design   January 7, 2018       1.0.0  4.0.3 and up  \n",
       "1  Art & Design;Pretend Play  January 15, 2018       2.0.0  4.0.3 and up  "
      ]
     },
     "execution_count": 25,
     "metadata": {},
     "output_type": "execute_result"
    }
   ],
   "source": [
    "df.head(2)"
   ]
  },
  {
   "cell_type": "code",
   "execution_count": 26,
   "metadata": {},
   "outputs": [
    {
     "data": {
      "text/plain": [
       "1474"
      ]
     },
     "execution_count": 26,
     "metadata": {},
     "output_type": "execute_result"
    }
   ],
   "source": [
    "df.Rating.isnull().sum()"
   ]
  },
  {
   "cell_type": "code",
   "execution_count": 27,
   "metadata": {},
   "outputs": [
    {
     "data": {
      "text/plain": [
       "39"
      ]
     },
     "execution_count": 27,
     "metadata": {},
     "output_type": "execute_result"
    }
   ],
   "source": [
    "df['Rating'].nunique()"
   ]
  },
  {
   "cell_type": "code",
   "execution_count": 28,
   "metadata": {},
   "outputs": [
    {
     "data": {
      "text/plain": [
       "Rating\n",
       "4.4    1109\n",
       "4.3    1076\n",
       "4.5    1038\n",
       "4.2     952\n",
       "4.6     823\n",
       "4.1     708\n",
       "4.0     568\n",
       "4.7     499\n",
       "3.9     386\n",
       "3.8     303\n",
       "5.0     274\n",
       "3.7     239\n",
       "4.8     234\n",
       "3.6     174\n",
       "3.5     163\n",
       "3.4     128\n",
       "3.3     102\n",
       "4.9      87\n",
       "3.0      83\n",
       "3.1      69\n",
       "3.2      64\n",
       "2.9      45\n",
       "2.8      42\n",
       "2.7      25\n",
       "2.6      25\n",
       "2.5      21\n",
       "2.3      20\n",
       "2.4      19\n",
       "1.0      16\n",
       "1.9      14\n",
       "2.2      14\n",
       "2.0      12\n",
       "1.7       8\n",
       "1.8       8\n",
       "2.1       8\n",
       "1.6       4\n",
       "1.4       3\n",
       "1.5       3\n",
       "1.2       1\n",
       "Name: count, dtype: int64"
      ]
     },
     "execution_count": 28,
     "metadata": {},
     "output_type": "execute_result"
    }
   ],
   "source": [
    "df['Rating'].value_counts()"
   ]
  },
  {
   "cell_type": "code",
   "execution_count": 29,
   "metadata": {},
   "outputs": [
    {
     "data": {
      "text/plain": [
       "7368"
      ]
     },
     "execution_count": 29,
     "metadata": {},
     "output_type": "execute_result"
    }
   ],
   "source": [
    "# number of apps with rating 4 and above\n",
    "df[df['Rating'] >= 4].shape[0]"
   ]
  },
  {
   "cell_type": "code",
   "execution_count": 30,
   "metadata": {},
   "outputs": [
    {
     "data": {
      "text/plain": [
       "1930"
      ]
     },
     "execution_count": 30,
     "metadata": {},
     "output_type": "execute_result"
    }
   ],
   "source": [
    "df[(df['Rating'] < 4) & (df['Rating'] > 2)].shape[0]\n"
   ]
  },
  {
   "cell_type": "code",
   "execution_count": 31,
   "metadata": {},
   "outputs": [
    {
     "data": {
      "text/plain": [
       "69"
      ]
     },
     "execution_count": 31,
     "metadata": {},
     "output_type": "execute_result"
    }
   ],
   "source": [
    "# number of apps with rating 2 and below\n",
    "df[df['Rating']<=2].shape[0]"
   ]
  },
  {
   "cell_type": "markdown",
   "metadata": {},
   "source": [
    "### 4.3.2 `Observations:`"
   ]
  },
  {
   "cell_type": "markdown",
   "metadata": {},
   "source": [
    "I have done the following observations from the Rating Column:\n",
    "1. Rating have 1474 Missing Values\n",
    "2. Rating Column have 39 unique Values\n",
    "3. Apps with rating 4 and above are `7368`\n",
    "4. Apps with rating 2 to 4 are `1930`\n",
    "5. Apps with rating 2 and below are `69`"
   ]
  },
  {
   "cell_type": "markdown",
   "metadata": {},
   "source": [
    "## 4.4 `Reviews`:\n",
    "### 4.4.1 `Exploring:`      "
   ]
  },
  {
   "cell_type": "code",
   "execution_count": 32,
   "metadata": {},
   "outputs": [
    {
     "data": {
      "text/html": [
       "<div>\n",
       "<style scoped>\n",
       "    .dataframe tbody tr th:only-of-type {\n",
       "        vertical-align: middle;\n",
       "    }\n",
       "\n",
       "    .dataframe tbody tr th {\n",
       "        vertical-align: top;\n",
       "    }\n",
       "\n",
       "    .dataframe thead th {\n",
       "        text-align: right;\n",
       "    }\n",
       "</style>\n",
       "<table border=\"1\" class=\"dataframe\">\n",
       "  <thead>\n",
       "    <tr style=\"text-align: right;\">\n",
       "      <th></th>\n",
       "      <th>App</th>\n",
       "      <th>Category</th>\n",
       "      <th>Rating</th>\n",
       "      <th>Reviews</th>\n",
       "      <th>Size</th>\n",
       "      <th>Installs</th>\n",
       "      <th>Type</th>\n",
       "      <th>Price</th>\n",
       "      <th>Content Rating</th>\n",
       "      <th>Genres</th>\n",
       "      <th>Last Updated</th>\n",
       "      <th>Current Ver</th>\n",
       "      <th>Android Ver</th>\n",
       "    </tr>\n",
       "  </thead>\n",
       "  <tbody>\n",
       "    <tr>\n",
       "      <th>0</th>\n",
       "      <td>Photo Editor &amp; Candy Camera &amp; Grid &amp; ScrapBook</td>\n",
       "      <td>ART_AND_DESIGN</td>\n",
       "      <td>4.1</td>\n",
       "      <td>159</td>\n",
       "      <td>19M</td>\n",
       "      <td>10,000+</td>\n",
       "      <td>Free</td>\n",
       "      <td>0</td>\n",
       "      <td>Everyone</td>\n",
       "      <td>Art &amp; Design</td>\n",
       "      <td>January 7, 2018</td>\n",
       "      <td>1.0.0</td>\n",
       "      <td>4.0.3 and up</td>\n",
       "    </tr>\n",
       "    <tr>\n",
       "      <th>1</th>\n",
       "      <td>Coloring book moana</td>\n",
       "      <td>ART_AND_DESIGN</td>\n",
       "      <td>3.9</td>\n",
       "      <td>967</td>\n",
       "      <td>14M</td>\n",
       "      <td>500,000+</td>\n",
       "      <td>Free</td>\n",
       "      <td>0</td>\n",
       "      <td>Everyone</td>\n",
       "      <td>Art &amp; Design;Pretend Play</td>\n",
       "      <td>January 15, 2018</td>\n",
       "      <td>2.0.0</td>\n",
       "      <td>4.0.3 and up</td>\n",
       "    </tr>\n",
       "  </tbody>\n",
       "</table>\n",
       "</div>"
      ],
      "text/plain": [
       "                                              App        Category  Rating  \\\n",
       "0  Photo Editor & Candy Camera & Grid & ScrapBook  ART_AND_DESIGN     4.1   \n",
       "1                             Coloring book moana  ART_AND_DESIGN     3.9   \n",
       "\n",
       "   Reviews Size  Installs  Type Price Content Rating  \\\n",
       "0      159  19M   10,000+  Free     0       Everyone   \n",
       "1      967  14M  500,000+  Free     0       Everyone   \n",
       "\n",
       "                      Genres      Last Updated Current Ver   Android Ver  \n",
       "0               Art & Design   January 7, 2018       1.0.0  4.0.3 and up  \n",
       "1  Art & Design;Pretend Play  January 15, 2018       2.0.0  4.0.3 and up  "
      ]
     },
     "execution_count": 32,
     "metadata": {},
     "output_type": "execute_result"
    }
   ],
   "source": [
    "df.head(2)"
   ]
  },
  {
   "cell_type": "code",
   "execution_count": 33,
   "metadata": {},
   "outputs": [
    {
     "name": "stdout",
     "output_type": "stream",
     "text": [
      "<class 'pandas.core.series.Series'>\n",
      "RangeIndex: 10841 entries, 0 to 10840\n",
      "Series name: Reviews\n",
      "Non-Null Count  Dtype\n",
      "--------------  -----\n",
      "10841 non-null  int64\n",
      "dtypes: int64(1)\n",
      "memory usage: 84.8 KB\n"
     ]
    }
   ],
   "source": [
    "df['Reviews'].info()"
   ]
  },
  {
   "cell_type": "code",
   "execution_count": 34,
   "metadata": {},
   "outputs": [
    {
     "data": {
      "text/plain": [
       "0"
      ]
     },
     "execution_count": 34,
     "metadata": {},
     "output_type": "execute_result"
    }
   ],
   "source": [
    "df['Reviews'].isnull().sum()"
   ]
  },
  {
   "cell_type": "code",
   "execution_count": 35,
   "metadata": {},
   "outputs": [
    {
     "data": {
      "text/plain": [
       "6001"
      ]
     },
     "execution_count": 35,
     "metadata": {},
     "output_type": "execute_result"
    }
   ],
   "source": [
    "df['Reviews'].nunique()"
   ]
  },
  {
   "cell_type": "code",
   "execution_count": 38,
   "metadata": {},
   "outputs": [
    {
     "data": {
      "text/plain": [
       "704"
      ]
     },
     "execution_count": 38,
     "metadata": {},
     "output_type": "execute_result"
    }
   ],
   "source": [
    "df[df['Reviews']>1000000].shape[0]"
   ]
  },
  {
   "cell_type": "code",
   "execution_count": 39,
   "metadata": {},
   "outputs": [
    {
     "data": {
      "text/plain": [
       "2169"
      ]
     },
     "execution_count": 39,
     "metadata": {},
     "output_type": "execute_result"
    }
   ],
   "source": [
    "df[df['Reviews']>100000].shape[0]"
   ]
  },
  {
   "cell_type": "code",
   "execution_count": 36,
   "metadata": {},
   "outputs": [
    {
     "data": {
      "text/plain": [
       "4280"
      ]
     },
     "execution_count": 36,
     "metadata": {},
     "output_type": "execute_result"
    }
   ],
   "source": [
    "df[df['Reviews']>10000].shape[0]"
   ]
  },
  {
   "cell_type": "code",
   "execution_count": 42,
   "metadata": {},
   "outputs": [
    {
     "data": {
      "text/plain": [
       "4940"
      ]
     },
     "execution_count": 42,
     "metadata": {},
     "output_type": "execute_result"
    }
   ],
   "source": [
    "df[df['Reviews']<1000].shape[0]"
   ]
  },
  {
   "cell_type": "markdown",
   "metadata": {},
   "source": [
    "### 4.4.2 `Observations:`"
   ]
  },
  {
   "cell_type": "markdown",
   "metadata": {},
   "source": [
    "I have done the following observations on Reviews column:\n",
    "\n",
    "1. There are `no missing` values in the Reviews column.\n",
    "2. The Reviews column is of the `int` data type.\n",
    "3. There are` no duplicates `in the Reviews column.\n",
    "4. There are `704` apps with more than 1,000,000 reviews.\n",
    "5. There are `2169` apps with more than 100,000 reviews.\n",
    "6. There are `4280` apps with more than 10,000 reviews.\n",
    "7. There are `4940` apps with less than 1,000 reviews."
   ]
  },
  {
   "cell_type": "markdown",
   "metadata": {},
   "source": [
    "## 4.5 `Size`:\n",
    "### 4.5.1 `Exploring:`"
   ]
  },
  {
   "cell_type": "code",
   "execution_count": 44,
   "metadata": {},
   "outputs": [
    {
     "data": {
      "text/html": [
       "<div>\n",
       "<style scoped>\n",
       "    .dataframe tbody tr th:only-of-type {\n",
       "        vertical-align: middle;\n",
       "    }\n",
       "\n",
       "    .dataframe tbody tr th {\n",
       "        vertical-align: top;\n",
       "    }\n",
       "\n",
       "    .dataframe thead th {\n",
       "        text-align: right;\n",
       "    }\n",
       "</style>\n",
       "<table border=\"1\" class=\"dataframe\">\n",
       "  <thead>\n",
       "    <tr style=\"text-align: right;\">\n",
       "      <th></th>\n",
       "      <th>App</th>\n",
       "      <th>Category</th>\n",
       "      <th>Rating</th>\n",
       "      <th>Reviews</th>\n",
       "      <th>Size</th>\n",
       "      <th>Installs</th>\n",
       "      <th>Type</th>\n",
       "      <th>Price</th>\n",
       "      <th>Content Rating</th>\n",
       "      <th>Genres</th>\n",
       "      <th>Last Updated</th>\n",
       "      <th>Current Ver</th>\n",
       "      <th>Android Ver</th>\n",
       "    </tr>\n",
       "  </thead>\n",
       "  <tbody>\n",
       "    <tr>\n",
       "      <th>0</th>\n",
       "      <td>Photo Editor &amp; Candy Camera &amp; Grid &amp; ScrapBook</td>\n",
       "      <td>ART_AND_DESIGN</td>\n",
       "      <td>4.1</td>\n",
       "      <td>159</td>\n",
       "      <td>19M</td>\n",
       "      <td>10,000+</td>\n",
       "      <td>Free</td>\n",
       "      <td>0</td>\n",
       "      <td>Everyone</td>\n",
       "      <td>Art &amp; Design</td>\n",
       "      <td>January 7, 2018</td>\n",
       "      <td>1.0.0</td>\n",
       "      <td>4.0.3 and up</td>\n",
       "    </tr>\n",
       "    <tr>\n",
       "      <th>1</th>\n",
       "      <td>Coloring book moana</td>\n",
       "      <td>ART_AND_DESIGN</td>\n",
       "      <td>3.9</td>\n",
       "      <td>967</td>\n",
       "      <td>14M</td>\n",
       "      <td>500,000+</td>\n",
       "      <td>Free</td>\n",
       "      <td>0</td>\n",
       "      <td>Everyone</td>\n",
       "      <td>Art &amp; Design;Pretend Play</td>\n",
       "      <td>January 15, 2018</td>\n",
       "      <td>2.0.0</td>\n",
       "      <td>4.0.3 and up</td>\n",
       "    </tr>\n",
       "  </tbody>\n",
       "</table>\n",
       "</div>"
      ],
      "text/plain": [
       "                                              App        Category  Rating  \\\n",
       "0  Photo Editor & Candy Camera & Grid & ScrapBook  ART_AND_DESIGN     4.1   \n",
       "1                             Coloring book moana  ART_AND_DESIGN     3.9   \n",
       "\n",
       "   Reviews Size  Installs  Type Price Content Rating  \\\n",
       "0      159  19M   10,000+  Free     0       Everyone   \n",
       "1      967  14M  500,000+  Free     0       Everyone   \n",
       "\n",
       "                      Genres      Last Updated Current Ver   Android Ver  \n",
       "0               Art & Design   January 7, 2018       1.0.0  4.0.3 and up  \n",
       "1  Art & Design;Pretend Play  January 15, 2018       2.0.0  4.0.3 and up  "
      ]
     },
     "execution_count": 44,
     "metadata": {},
     "output_type": "execute_result"
    }
   ],
   "source": [
    "df.head(2)"
   ]
  },
  {
   "cell_type": "code",
   "execution_count": 45,
   "metadata": {},
   "outputs": [
    {
     "name": "stdout",
     "output_type": "stream",
     "text": [
      "<class 'pandas.core.series.Series'>\n",
      "RangeIndex: 10841 entries, 0 to 10840\n",
      "Series name: Size\n",
      "Non-Null Count  Dtype \n",
      "--------------  ----- \n",
      "10841 non-null  object\n",
      "dtypes: object(1)\n",
      "memory usage: 84.8+ KB\n"
     ]
    }
   ],
   "source": [
    "df['Size'].info()"
   ]
  },
  {
   "cell_type": "code",
   "execution_count": 46,
   "metadata": {},
   "outputs": [
    {
     "data": {
      "text/plain": [
       "0"
      ]
     },
     "execution_count": 46,
     "metadata": {},
     "output_type": "execute_result"
    }
   ],
   "source": [
    "df['Size'].isnull().sum()"
   ]
  },
  {
   "cell_type": "code",
   "execution_count": 51,
   "metadata": {},
   "outputs": [
    {
     "data": {
      "text/plain": [
       "array(['19M', '14M', '8.7M', '25M', '2.8M', '5.6M', '29M', '33M', '3.1M',\n",
       "       '28M', '12M', '20M', '21M', '37M', '2.7M', '5.5M', '17M', '39M',\n",
       "       '31M', '4.2M', '7.0M', '23M', '6.0M', '6.1M', '4.6M', '9.2M',\n",
       "       '5.2M', '11M', '24M', 'Varies with device', '9.4M', '15M', '10M',\n",
       "       '1.2M', '26M', '8.0M', '7.9M', '56M', '57M', '35M', '54M', '201k',\n",
       "       '3.6M', '5.7M', '8.6M', '2.4M', '27M', '2.5M', '16M', '3.4M',\n",
       "       '8.9M', '3.9M', '2.9M', '38M', '32M', '5.4M', '18M', '1.1M',\n",
       "       '2.2M', '4.5M', '9.8M', '52M', '9.0M', '6.7M', '30M', '2.6M',\n",
       "       '7.1M', '3.7M', '22M', '7.4M', '6.4M', '3.2M', '8.2M', '9.9M',\n",
       "       '4.9M', '9.5M', '5.0M', '5.9M', '13M', '73M', '6.8M', '3.5M',\n",
       "       '4.0M', '2.3M', '7.2M', '2.1M', '42M', '7.3M', '9.1M', '55M',\n",
       "       '23k', '6.5M', '1.5M', '7.5M', '51M', '41M', '48M', '8.5M', '46M',\n",
       "       '8.3M', '4.3M', '4.7M', '3.3M', '40M', '7.8M', '8.8M', '6.6M',\n",
       "       '5.1M', '61M', '66M', '79k', '8.4M', '118k', '44M', '695k', '1.6M',\n",
       "       '6.2M', '18k', '53M', '1.4M', '3.0M', '5.8M', '3.8M', '9.6M',\n",
       "       '45M', '63M', '49M', '77M', '4.4M', '4.8M', '70M', '6.9M', '9.3M',\n",
       "       '10.0M', '8.1M', '36M', '84M', '97M', '2.0M', '1.9M', '1.8M',\n",
       "       '5.3M', '47M', '556k', '526k', '76M', '7.6M', '59M', '9.7M', '78M',\n",
       "       '72M', '43M', '7.7M', '6.3M', '334k', '34M', '93M', '65M', '79M',\n",
       "       '100M', '58M', '50M', '68M', '64M', '67M', '60M', '94M', '232k',\n",
       "       '99M', '624k', '95M', '8.5k', '41k', '292k', '11k', '80M', '1.7M',\n",
       "       '74M', '62M', '69M', '75M', '98M', '85M', '82M', '96M', '87M',\n",
       "       '71M', '86M', '91M', '81M', '92M', '83M', '88M', '704k', '862k',\n",
       "       '899k', '378k', '266k', '375k', '1.3M', '975k', '980k', '4.1M',\n",
       "       '89M', '696k', '544k', '525k', '920k', '779k', '853k', '720k',\n",
       "       '713k', '772k', '318k', '58k', '241k', '196k', '857k', '51k',\n",
       "       '953k', '865k', '251k', '930k', '540k', '313k', '746k', '203k',\n",
       "       '26k', '314k', '239k', '371k', '220k', '730k', '756k', '91k',\n",
       "       '293k', '17k', '74k', '14k', '317k', '78k', '924k', '902k', '818k',\n",
       "       '81k', '939k', '169k', '45k', '475k', '965k', '90M', '545k', '61k',\n",
       "       '283k', '655k', '714k', '93k', '872k', '121k', '322k', '1.0M',\n",
       "       '976k', '172k', '238k', '549k', '206k', '954k', '444k', '717k',\n",
       "       '210k', '609k', '308k', '705k', '306k', '904k', '473k', '175k',\n",
       "       '350k', '383k', '454k', '421k', '70k', '812k', '442k', '842k',\n",
       "       '417k', '412k', '459k', '478k', '335k', '782k', '721k', '430k',\n",
       "       '429k', '192k', '200k', '460k', '728k', '496k', '816k', '414k',\n",
       "       '506k', '887k', '613k', '243k', '569k', '778k', '683k', '592k',\n",
       "       '319k', '186k', '840k', '647k', '191k', '373k', '437k', '598k',\n",
       "       '716k', '585k', '982k', '222k', '219k', '55k', '948k', '323k',\n",
       "       '691k', '511k', '951k', '963k', '25k', '554k', '351k', '27k',\n",
       "       '82k', '208k', '913k', '514k', '551k', '29k', '103k', '898k',\n",
       "       '743k', '116k', '153k', '209k', '353k', '499k', '173k', '597k',\n",
       "       '809k', '122k', '411k', '400k', '801k', '787k', '237k', '50k',\n",
       "       '643k', '986k', '97k', '516k', '837k', '780k', '961k', '269k',\n",
       "       '20k', '498k', '600k', '749k', '642k', '881k', '72k', '656k',\n",
       "       '601k', '221k', '228k', '108k', '940k', '176k', '33k', '663k',\n",
       "       '34k', '942k', '259k', '164k', '458k', '245k', '629k', '28k',\n",
       "       '288k', '775k', '785k', '636k', '916k', '994k', '309k', '485k',\n",
       "       '914k', '903k', '608k', '500k', '54k', '562k', '847k', '957k',\n",
       "       '688k', '811k', '270k', '48k', '329k', '523k', '921k', '874k',\n",
       "       '981k', '784k', '280k', '24k', '518k', '754k', '892k', '154k',\n",
       "       '860k', '364k', '387k', '626k', '161k', '879k', '39k', '970k',\n",
       "       '170k', '141k', '160k', '144k', '143k', '190k', '376k', '193k',\n",
       "       '246k', '73k', '658k', '992k', '253k', '420k', '404k', '470k',\n",
       "       '226k', '240k', '89k', '234k', '257k', '861k', '467k', '157k',\n",
       "       '44k', '676k', '67k', '552k', '885k', '1020k', '582k', '619k'],\n",
       "      dtype=object)"
      ]
     },
     "execution_count": 51,
     "metadata": {},
     "output_type": "execute_result"
    }
   ],
   "source": [
    "df['Size'].unique()"
   ]
  },
  {
   "cell_type": "code",
   "execution_count": 52,
   "metadata": {},
   "outputs": [
    {
     "data": {
      "text/plain": [
       "461"
      ]
     },
     "execution_count": 52,
     "metadata": {},
     "output_type": "execute_result"
    }
   ],
   "source": [
    "df['Size'].nunique()"
   ]
  },
  {
   "cell_type": "code",
   "execution_count": 53,
   "metadata": {},
   "outputs": [
    {
     "data": {
      "text/plain": [
       "Size\n",
       "Varies with device    1695\n",
       "11M                    198\n",
       "12M                    196\n",
       "14M                    194\n",
       "13M                    191\n",
       "15M                    184\n",
       "17M                    160\n",
       "19M                    154\n",
       "26M                    149\n",
       "16M                    149\n",
       "25M                    143\n",
       "20M                    139\n",
       "21M                    138\n",
       "10M                    136\n",
       "24M                    136\n",
       "18M                    133\n",
       "23M                    117\n",
       "22M                    114\n",
       "29M                    103\n",
       "27M                     97\n",
       "28M                     95\n",
       "30M                     84\n",
       "33M                     79\n",
       "3.3M                    77\n",
       "37M                     76\n",
       "35M                     72\n",
       "31M                     70\n",
       "2.9M                    69\n",
       "2.3M                    68\n",
       "2.5M                    68\n",
       "2.8M                    65\n",
       "3.4M                    65\n",
       "32M                     63\n",
       "34M                     63\n",
       "3.7M                    63\n",
       "3.9M                    62\n",
       "3.8M                    62\n",
       "40M                     62\n",
       "3.0M                    62\n",
       "4.0M                    61\n",
       "44M                     61\n",
       "36M                     60\n",
       "4.2M                    59\n",
       "48M                     59\n",
       "46M                     59\n",
       "5.0M                    58\n",
       "3.6M                    57\n",
       "3.1M                    56\n",
       "39M                     56\n",
       "3.2M                    55\n",
       "38M                     55\n",
       "4.3M                    54\n",
       "2.7M                    53\n",
       "4.1M                    52\n",
       "3.5M                    51\n",
       "2.0M                    51\n",
       "5.4M                    51\n",
       "1.8M                    50\n",
       "4.9M                    50\n",
       "2.6M                    50\n",
       "2.4M                    48\n",
       "41M                     48\n",
       "1.5M                    48\n",
       "5.7M                    48\n",
       "43M                     47\n",
       "4.6M                    46\n",
       "6.3M                    45\n",
       "2.2M                    45\n",
       "49M                     45\n",
       "50M                     44\n",
       "5.3M                    44\n",
       "53M                     43\n",
       "5.1M                    43\n",
       "4.4M                    42\n",
       "63M                     41\n",
       "1.2M                    41\n",
       "42M                     41\n",
       "45M                     40\n",
       "6.9M                    40\n",
       "1.7M                    40\n",
       "2.1M                    40\n",
       "4.5M                    40\n",
       "6.1M                    39\n",
       "8.7M                    39\n",
       "99M                     39\n",
       "1.6M                    39\n",
       "59M                     38\n",
       "1.4M                    37\n",
       "57M                     37\n",
       "47M                     37\n",
       "7.3M                    37\n",
       "5.9M                    37\n",
       "60M                     36\n",
       "8.5M                    36\n",
       "4.7M                    36\n",
       "5.2M                    35\n",
       "1.3M                    35\n",
       "5.8M                    35\n",
       "52M                     35\n",
       "6.0M                    34\n",
       "4.8M                    34\n",
       "6.5M                    34\n",
       "7.0M                    33\n",
       "5.5M                    33\n",
       "6.6M                    33\n",
       "51M                     33\n",
       "9.2M                    33\n",
       "7.9M                    33\n",
       "67M                     32\n",
       "62M                     32\n",
       "1.9M                    32\n",
       "1.1M                    32\n",
       "5.6M                    31\n",
       "56M                     31\n",
       "6.2M                    30\n",
       "55M                     30\n",
       "8.4M                    30\n",
       "8.3M                    30\n",
       "7.2M                    30\n",
       "9.8M                    30\n",
       "7.6M                    29\n",
       "9.1M                    29\n",
       "6.4M                    29\n",
       "54M                     29\n",
       "7.8M                    29\n",
       "8.2M                    28\n",
       "8.9M                    28\n",
       "7.4M                    28\n",
       "9.9M                    28\n",
       "9.5M                    28\n",
       "6.8M                    28\n",
       "7.5M                    28\n",
       "8.1M                    27\n",
       "9.0M                    27\n",
       "70M                     27\n",
       "8.8M                    27\n",
       "76M                     27\n",
       "96M                     26\n",
       "7.7M                    26\n",
       "7.1M                    26\n",
       "61M                     26\n",
       "58M                     26\n",
       "6.7M                    25\n",
       "8.6M                    25\n",
       "9.7M                    24\n",
       "9.4M                    24\n",
       "78M                     23\n",
       "8.0M                    23\n",
       "69M                     23\n",
       "91M                     22\n",
       "82M                     21\n",
       "97M                     20\n",
       "74M                     20\n",
       "72M                     19\n",
       "95M                     18\n",
       "68M                     18\n",
       "94M                     17\n",
       "85M                     17\n",
       "98M                     16\n",
       "93M                     16\n",
       "100M                    16\n",
       "66M                     16\n",
       "64M                     15\n",
       "92M                     15\n",
       "9.6M                    15\n",
       "73M                     15\n",
       "9.3M                    15\n",
       "83M                     15\n",
       "71M                     14\n",
       "88M                     14\n",
       "87M                     13\n",
       "75M                     13\n",
       "77M                     13\n",
       "80M                     13\n",
       "79M                     11\n",
       "81M                     11\n",
       "10.0M                   10\n",
       "65M                     10\n",
       "89M                      9\n",
       "84M                      9\n",
       "86M                      8\n",
       "1.0M                     7\n",
       "90M                      6\n",
       "266k                     3\n",
       "79k                      3\n",
       "118k                     3\n",
       "201k                     3\n",
       "375k                     3\n",
       "26k                      2\n",
       "323k                     2\n",
       "51k                      2\n",
       "364k                     2\n",
       "196k                     2\n",
       "192k                     2\n",
       "17k                      2\n",
       "592k                     2\n",
       "948k                     2\n",
       "335k                     2\n",
       "72k                      2\n",
       "656k                     2\n",
       "318k                     2\n",
       "228k                     2\n",
       "417k                     2\n",
       "842k                     2\n",
       "33k                      2\n",
       "70k                      2\n",
       "957k                     2\n",
       "473k                     2\n",
       "172k                     2\n",
       "206k                     2\n",
       "58k                      2\n",
       "141k                     2\n",
       "704k                     2\n",
       "18k                      2\n",
       "29k                      2\n",
       "334k                     2\n",
       "643k                     1\n",
       "34k                      1\n",
       "108k                     1\n",
       "940k                     1\n",
       "551k                     1\n",
       "176k                     1\n",
       "785k                     1\n",
       "103k                     1\n",
       "663k                     1\n",
       "942k                     1\n",
       "221k                     1\n",
       "259k                     1\n",
       "164k                     1\n",
       "898k                     1\n",
       "458k                     1\n",
       "245k                     1\n",
       "743k                     1\n",
       "629k                     1\n",
       "116k                     1\n",
       "28k                      1\n",
       "288k                     1\n",
       "153k                     1\n",
       "209k                     1\n",
       "601k                     1\n",
       "50k                      1\n",
       "269k                     1\n",
       "237k                     1\n",
       "787k                     1\n",
       "801k                     1\n",
       "986k                     1\n",
       "400k                     1\n",
       "97k                      1\n",
       "516k                     1\n",
       "837k                     1\n",
       "411k                     1\n",
       "780k                     1\n",
       "961k                     1\n",
       "20k                      1\n",
       "353k                     1\n",
       "122k                     1\n",
       "498k                     1\n",
       "600k                     1\n",
       "809k                     1\n",
       "749k                     1\n",
       "514k                     1\n",
       "642k                     1\n",
       "881k                     1\n",
       "597k                     1\n",
       "173k                     1\n",
       "499k                     1\n",
       "775k                     1\n",
       "67k                      1\n",
       "636k                     1\n",
       "470k                     1\n",
       "170k                     1\n",
       "160k                     1\n",
       "144k                     1\n",
       "143k                     1\n",
       "190k                     1\n",
       "376k                     1\n",
       "193k                     1\n",
       "246k                     1\n",
       "73k                      1\n",
       "658k                     1\n",
       "992k                     1\n",
       "253k                     1\n",
       "420k                     1\n",
       "404k                     1\n",
       "226k                     1\n",
       "916k                     1\n",
       "240k                     1\n",
       "89k                      1\n",
       "234k                     1\n",
       "257k                     1\n",
       "861k                     1\n",
       "467k                     1\n",
       "157k                     1\n",
       "44k                      1\n",
       "676k                     1\n",
       "208k                     1\n",
       "552k                     1\n",
       "885k                     1\n",
       "1020k                    1\n",
       "582k                     1\n",
       "970k                     1\n",
       "39k                      1\n",
       "879k                     1\n",
       "161k                     1\n",
       "994k                     1\n",
       "309k                     1\n",
       "485k                     1\n",
       "914k                     1\n",
       "903k                     1\n",
       "608k                     1\n",
       "500k                     1\n",
       "54k                      1\n",
       "562k                     1\n",
       "847k                     1\n",
       "688k                     1\n",
       "811k                     1\n",
       "270k                     1\n",
       "48k                      1\n",
       "329k                     1\n",
       "523k                     1\n",
       "921k                     1\n",
       "874k                     1\n",
       "981k                     1\n",
       "784k                     1\n",
       "280k                     1\n",
       "24k                      1\n",
       "518k                     1\n",
       "754k                     1\n",
       "892k                     1\n",
       "154k                     1\n",
       "860k                     1\n",
       "387k                     1\n",
       "626k                     1\n",
       "913k                     1\n",
       "371k                     1\n",
       "82k                      1\n",
       "924k                     1\n",
       "746k                     1\n",
       "203k                     1\n",
       "314k                     1\n",
       "239k                     1\n",
       "220k                     1\n",
       "730k                     1\n",
       "756k                     1\n",
       "91k                      1\n",
       "293k                     1\n",
       "74k                      1\n",
       "14k                      1\n",
       "317k                     1\n",
       "78k                      1\n",
       "902k                     1\n",
       "540k                     1\n",
       "818k                     1\n",
       "81k                      1\n",
       "939k                     1\n",
       "169k                     1\n",
       "45k                      1\n",
       "475k                     1\n",
       "965k                     1\n",
       "545k                     1\n",
       "61k                      1\n",
       "283k                     1\n",
       "655k                     1\n",
       "714k                     1\n",
       "93k                      1\n",
       "313k                     1\n",
       "930k                     1\n",
       "27k                      1\n",
       "975k                     1\n",
       "23k                      1\n",
       "695k                     1\n",
       "556k                     1\n",
       "526k                     1\n",
       "232k                     1\n",
       "624k                     1\n",
       "8.5k                     1\n",
       "41k                      1\n",
       "292k                     1\n",
       "11k                      1\n",
       "862k                     1\n",
       "899k                     1\n",
       "378k                     1\n",
       "980k                     1\n",
       "251k                     1\n",
       "696k                     1\n",
       "544k                     1\n",
       "525k                     1\n",
       "920k                     1\n",
       "779k                     1\n",
       "853k                     1\n",
       "720k                     1\n",
       "713k                     1\n",
       "772k                     1\n",
       "241k                     1\n",
       "857k                     1\n",
       "953k                     1\n",
       "865k                     1\n",
       "872k                     1\n",
       "121k                     1\n",
       "322k                     1\n",
       "437k                     1\n",
       "506k                     1\n",
       "887k                     1\n",
       "613k                     1\n",
       "243k                     1\n",
       "569k                     1\n",
       "778k                     1\n",
       "683k                     1\n",
       "319k                     1\n",
       "186k                     1\n",
       "840k                     1\n",
       "647k                     1\n",
       "191k                     1\n",
       "373k                     1\n",
       "598k                     1\n",
       "976k                     1\n",
       "716k                     1\n",
       "585k                     1\n",
       "982k                     1\n",
       "222k                     1\n",
       "219k                     1\n",
       "55k                      1\n",
       "691k                     1\n",
       "511k                     1\n",
       "951k                     1\n",
       "963k                     1\n",
       "25k                      1\n",
       "554k                     1\n",
       "351k                     1\n",
       "414k                     1\n",
       "816k                     1\n",
       "496k                     1\n",
       "728k                     1\n",
       "238k                     1\n",
       "549k                     1\n",
       "954k                     1\n",
       "444k                     1\n",
       "717k                     1\n",
       "210k                     1\n",
       "609k                     1\n",
       "308k                     1\n",
       "705k                     1\n",
       "306k                     1\n",
       "904k                     1\n",
       "175k                     1\n",
       "350k                     1\n",
       "383k                     1\n",
       "454k                     1\n",
       "421k                     1\n",
       "812k                     1\n",
       "442k                     1\n",
       "412k                     1\n",
       "459k                     1\n",
       "478k                     1\n",
       "782k                     1\n",
       "721k                     1\n",
       "430k                     1\n",
       "429k                     1\n",
       "200k                     1\n",
       "460k                     1\n",
       "619k                     1\n",
       "Name: count, dtype: int64"
      ]
     },
     "execution_count": 53,
     "metadata": {},
     "output_type": "execute_result"
    }
   ],
   "source": [
    "df.Size.value_counts()"
   ]
  },
  {
   "cell_type": "markdown",
   "metadata": {},
   "source": [
    "The Value Count will be shown accurately when converted k to MB, and it is converted to numeric data type by removing M , and k"
   ]
  },
  {
   "cell_type": "markdown",
   "metadata": {},
   "source": [
    "### 4.5.2 `Observations:`"
   ]
  },
  {
   "cell_type": "markdown",
   "metadata": {},
   "source": [
    "`I have done the following observation on the Size column:`\n",
    "1. The column has 461 unique values\n",
    "2. The column has 0 missing value\n",
    "3. The Column have an anomily that it should be numerical but it is object\n",
    "4. It have two type of values, one in MB and other in KB, we need to convert it to single unit\n",
    "5. Then we have to convert it to numeric by removing the 'k' and 'M' from the column\n",
    "6. The column has 1 unique value 'Varies with device' which is not a valid value"
   ]
  },
  {
   "cell_type": "markdown",
   "metadata": {},
   "source": [
    "## 4.6 `Installs`:\n",
    "### 4.6.1 `Exploring:`"
   ]
  },
  {
   "cell_type": "code",
   "execution_count": 55,
   "metadata": {},
   "outputs": [
    {
     "data": {
      "text/html": [
       "<div>\n",
       "<style scoped>\n",
       "    .dataframe tbody tr th:only-of-type {\n",
       "        vertical-align: middle;\n",
       "    }\n",
       "\n",
       "    .dataframe tbody tr th {\n",
       "        vertical-align: top;\n",
       "    }\n",
       "\n",
       "    .dataframe thead th {\n",
       "        text-align: right;\n",
       "    }\n",
       "</style>\n",
       "<table border=\"1\" class=\"dataframe\">\n",
       "  <thead>\n",
       "    <tr style=\"text-align: right;\">\n",
       "      <th></th>\n",
       "      <th>App</th>\n",
       "      <th>Category</th>\n",
       "      <th>Rating</th>\n",
       "      <th>Reviews</th>\n",
       "      <th>Size</th>\n",
       "      <th>Installs</th>\n",
       "      <th>Type</th>\n",
       "      <th>Price</th>\n",
       "      <th>Content Rating</th>\n",
       "      <th>Genres</th>\n",
       "      <th>Last Updated</th>\n",
       "      <th>Current Ver</th>\n",
       "      <th>Android Ver</th>\n",
       "    </tr>\n",
       "  </thead>\n",
       "  <tbody>\n",
       "    <tr>\n",
       "      <th>0</th>\n",
       "      <td>Photo Editor &amp; Candy Camera &amp; Grid &amp; ScrapBook</td>\n",
       "      <td>ART_AND_DESIGN</td>\n",
       "      <td>4.1</td>\n",
       "      <td>159</td>\n",
       "      <td>19M</td>\n",
       "      <td>10,000+</td>\n",
       "      <td>Free</td>\n",
       "      <td>0</td>\n",
       "      <td>Everyone</td>\n",
       "      <td>Art &amp; Design</td>\n",
       "      <td>January 7, 2018</td>\n",
       "      <td>1.0.0</td>\n",
       "      <td>4.0.3 and up</td>\n",
       "    </tr>\n",
       "    <tr>\n",
       "      <th>1</th>\n",
       "      <td>Coloring book moana</td>\n",
       "      <td>ART_AND_DESIGN</td>\n",
       "      <td>3.9</td>\n",
       "      <td>967</td>\n",
       "      <td>14M</td>\n",
       "      <td>500,000+</td>\n",
       "      <td>Free</td>\n",
       "      <td>0</td>\n",
       "      <td>Everyone</td>\n",
       "      <td>Art &amp; Design;Pretend Play</td>\n",
       "      <td>January 15, 2018</td>\n",
       "      <td>2.0.0</td>\n",
       "      <td>4.0.3 and up</td>\n",
       "    </tr>\n",
       "  </tbody>\n",
       "</table>\n",
       "</div>"
      ],
      "text/plain": [
       "                                              App        Category  Rating  \\\n",
       "0  Photo Editor & Candy Camera & Grid & ScrapBook  ART_AND_DESIGN     4.1   \n",
       "1                             Coloring book moana  ART_AND_DESIGN     3.9   \n",
       "\n",
       "   Reviews Size  Installs  Type Price Content Rating  \\\n",
       "0      159  19M   10,000+  Free     0       Everyone   \n",
       "1      967  14M  500,000+  Free     0       Everyone   \n",
       "\n",
       "                      Genres      Last Updated Current Ver   Android Ver  \n",
       "0               Art & Design   January 7, 2018       1.0.0  4.0.3 and up  \n",
       "1  Art & Design;Pretend Play  January 15, 2018       2.0.0  4.0.3 and up  "
      ]
     },
     "execution_count": 55,
     "metadata": {},
     "output_type": "execute_result"
    }
   ],
   "source": [
    "df.head(2)"
   ]
  },
  {
   "cell_type": "code",
   "execution_count": 56,
   "metadata": {},
   "outputs": [
    {
     "data": {
      "text/plain": [
       "0"
      ]
     },
     "execution_count": 56,
     "metadata": {},
     "output_type": "execute_result"
    }
   ],
   "source": [
    "df.Installs.isnull().sum()"
   ]
  },
  {
   "cell_type": "code",
   "execution_count": 57,
   "metadata": {},
   "outputs": [
    {
     "data": {
      "text/plain": [
       "21"
      ]
     },
     "execution_count": 57,
     "metadata": {},
     "output_type": "execute_result"
    }
   ],
   "source": [
    "df.Installs.nunique()"
   ]
  },
  {
   "cell_type": "code",
   "execution_count": 58,
   "metadata": {},
   "outputs": [
    {
     "data": {
      "text/plain": [
       "array(['10,000+', '500,000+', '5,000,000+', '50,000,000+', '100,000+',\n",
       "       '50,000+', '1,000,000+', '10,000,000+', '5,000+', '100,000,000+',\n",
       "       '1,000,000,000+', '1,000+', '500,000,000+', '50+', '100+', '500+',\n",
       "       '10+', '1+', '5+', '0+', '0'], dtype=object)"
      ]
     },
     "execution_count": 58,
     "metadata": {},
     "output_type": "execute_result"
    }
   ],
   "source": [
    "df.Installs.unique()"
   ]
  },
  {
   "cell_type": "code",
   "execution_count": 59,
   "metadata": {},
   "outputs": [
    {
     "data": {
      "text/plain": [
       "Installs\n",
       "1,000,000+        1579\n",
       "10,000,000+       1252\n",
       "100,000+          1169\n",
       "10,000+           1054\n",
       "1,000+             908\n",
       "5,000,000+         752\n",
       "100+               719\n",
       "500,000+           539\n",
       "50,000+            479\n",
       "5,000+             477\n",
       "100,000,000+       409\n",
       "10+                386\n",
       "500+               330\n",
       "50,000,000+        289\n",
       "50+                205\n",
       "5+                  82\n",
       "500,000,000+        72\n",
       "1+                  67\n",
       "1,000,000,000+      58\n",
       "0+                  14\n",
       "0                    1\n",
       "Name: count, dtype: int64"
      ]
     },
     "execution_count": 59,
     "metadata": {},
     "output_type": "execute_result"
    }
   ],
   "source": [
    "df.Installs.value_counts()"
   ]
  },
  {
   "cell_type": "markdown",
   "metadata": {},
   "source": [
    "### 4.6.2 `Observations:`"
   ]
  },
  {
   "cell_type": "markdown",
   "metadata": {},
   "source": [
    "`I have done the following observations from the Installs Column:`\n",
    "1. The Installs column is of object data type.\n",
    "2. The Installs column has no missing values.\n",
    "3. The Installs column has `21` unique values.\n",
    "4. The column have anomily of that it should be numeric but it is of object datatype, so we need to convert it to numeric.\n",
    "5. It have to extra things first one is ',' and the other is '+'.\n",
    "6. We need to remove these extra things and convert the column to numeric.\n",
    "7. The column have 21 unique values, so we need to convert it to numeric and then we can use it for analysis.\n"
   ]
  },
  {
   "cell_type": "markdown",
   "metadata": {},
   "source": [
    "## 4.7 `Type`:\n",
    "### 4.7.1 `Exploring:`"
   ]
  },
  {
   "cell_type": "code",
   "execution_count": null,
   "metadata": {},
   "outputs": [],
   "source": []
  },
  {
   "cell_type": "markdown",
   "metadata": {},
   "source": [
    "### 4.7.2 `Observations:`"
   ]
  },
  {
   "cell_type": "code",
   "execution_count": null,
   "metadata": {},
   "outputs": [],
   "source": []
  },
  {
   "cell_type": "markdown",
   "metadata": {},
   "source": [
    "## 4.8 `Price`:\n",
    "### 4.8.1 `Exploring:`"
   ]
  },
  {
   "cell_type": "code",
   "execution_count": null,
   "metadata": {},
   "outputs": [],
   "source": []
  },
  {
   "cell_type": "markdown",
   "metadata": {},
   "source": [
    "### 4.8.2 `Observations:`"
   ]
  },
  {
   "cell_type": "code",
   "execution_count": null,
   "metadata": {},
   "outputs": [],
   "source": []
  },
  {
   "cell_type": "markdown",
   "metadata": {},
   "source": [
    "## 4.9 `Content Rating`:\n",
    "### 4.9.1 `Exploring:`"
   ]
  },
  {
   "cell_type": "code",
   "execution_count": null,
   "metadata": {},
   "outputs": [],
   "source": []
  },
  {
   "cell_type": "markdown",
   "metadata": {},
   "source": [
    "### 4.9.2 `Observations:`"
   ]
  },
  {
   "cell_type": "code",
   "execution_count": null,
   "metadata": {},
   "outputs": [],
   "source": []
  },
  {
   "cell_type": "markdown",
   "metadata": {},
   "source": [
    "## 4.10 `Genres`:\n",
    "### 4.10.1 `Exploring:`"
   ]
  },
  {
   "cell_type": "code",
   "execution_count": null,
   "metadata": {},
   "outputs": [],
   "source": []
  },
  {
   "cell_type": "markdown",
   "metadata": {},
   "source": [
    "### 4.10.2 `Observations:`"
   ]
  },
  {
   "cell_type": "code",
   "execution_count": null,
   "metadata": {},
   "outputs": [],
   "source": []
  },
  {
   "cell_type": "markdown",
   "metadata": {},
   "source": [
    "## 4.11 `Last Updated`:\n",
    "### 4.11.1 `Exploring:`"
   ]
  },
  {
   "cell_type": "code",
   "execution_count": null,
   "metadata": {},
   "outputs": [],
   "source": []
  },
  {
   "cell_type": "markdown",
   "metadata": {},
   "source": [
    "### 4.11.2 `Observations:`"
   ]
  },
  {
   "cell_type": "code",
   "execution_count": null,
   "metadata": {},
   "outputs": [],
   "source": []
  },
  {
   "cell_type": "markdown",
   "metadata": {},
   "source": [
    "## 4.12 `Current Version`:\n",
    "### 4.12.1 `Exploring:`"
   ]
  },
  {
   "cell_type": "code",
   "execution_count": null,
   "metadata": {},
   "outputs": [],
   "source": []
  },
  {
   "cell_type": "markdown",
   "metadata": {},
   "source": [
    "### 4.12.2 `Observations:`"
   ]
  },
  {
   "cell_type": "code",
   "execution_count": null,
   "metadata": {},
   "outputs": [],
   "source": []
  },
  {
   "cell_type": "markdown",
   "metadata": {},
   "source": [
    "## 4.13 `Andriod Version`:\n",
    "### 4.13.1 `Exploring:`"
   ]
  },
  {
   "cell_type": "code",
   "execution_count": null,
   "metadata": {},
   "outputs": [],
   "source": []
  },
  {
   "cell_type": "markdown",
   "metadata": {},
   "source": [
    "### 4.13.2 `Observations:`"
   ]
  },
  {
   "cell_type": "code",
   "execution_count": null,
   "metadata": {},
   "outputs": [],
   "source": []
  }
 ],
 "metadata": {
  "kernelspec": {
   "display_name": "tf_env",
   "language": "python",
   "name": "python3"
  },
  "language_info": {
   "codemirror_mode": {
    "name": "ipython",
    "version": 3
   },
   "file_extension": ".py",
   "mimetype": "text/x-python",
   "name": "python",
   "nbconvert_exporter": "python",
   "pygments_lexer": "ipython3",
   "version": "3.10.13"
  }
 },
 "nbformat": 4,
 "nbformat_minor": 2
}
