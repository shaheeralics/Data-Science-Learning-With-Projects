{
 "cells": [
  {
   "cell_type": "markdown",
   "metadata": {},
   "source": [
    "### In this Folder I will do Projects on Different Experties of Data Science like:\n",
    "1. EDA\n",
    "2. EDA + Data Visualizaion\n",
    "3. EDA + Data Visualization + Statistical Tests\n",
    "4. EDA + Data Visualization + Statistical Tests + Machine Learning\n",
    "5. and so on with Deep learning, deployment and so on."
   ]
  },
  {
   "cell_type": "markdown",
   "metadata": {},
   "source": []
  }
 ],
 "metadata": {
  "language_info": {
   "name": "python"
  }
 },
 "nbformat": 4,
 "nbformat_minor": 2
}
