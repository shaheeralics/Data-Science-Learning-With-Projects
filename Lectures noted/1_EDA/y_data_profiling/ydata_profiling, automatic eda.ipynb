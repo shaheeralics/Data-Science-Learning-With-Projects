{
 "cells": [
  {
   "cell_type": "code",
   "execution_count": null,
   "metadata": {},
   "outputs": [],
   "source": [
    "pip install pandas\n",
    "pip install numpy"
   ]
  },
  {
   "cell_type": "code",
   "execution_count": null,
   "metadata": {},
   "outputs": [],
   "source": [
    "# !pip install pandas-profiling"
   ]
  },
  {
   "cell_type": "code",
   "execution_count": null,
   "metadata": {},
   "outputs": [],
   "source": [
    "pip install pyarrow"
   ]
  },
  {
   "cell_type": "code",
   "execution_count": 3,
   "metadata": {},
   "outputs": [],
   "source": [
    "\n",
    "import pandas as pd\n",
    "import numpy as np\n",
    "import seaborn as sns\n",
    "import ydata_profiling as yd"
   ]
  },
  {
   "cell_type": "code",
   "execution_count": 5,
   "metadata": {},
   "outputs": [],
   "source": [
    "# import dataset\n",
    "\n",
    "df=sns.load_dataset('titanic')"
   ]
  },
  {
   "cell_type": "code",
   "execution_count": 8,
   "metadata": {},
   "outputs": [
    {
     "name": "stderr",
     "output_type": "stream",
     "text": [
      "Summarize dataset:   0%|          | 0/5 [00:00<?, ?it/s]"
     ]
    },
    {
     "name": "stderr",
     "output_type": "stream",
     "text": [
      "Summarize dataset:  77%|███████▋  | 17/22 [00:00<00:00, 22.32it/s, Calculate auto correlation]   c:\\Users\\anony_khan\\miniconda3\\envs\\ydata_profiling\\Lib\\site-packages\\ydata_profiling\\model\\correlations.py:66: UserWarning: There was an attempt to calculate the auto correlation, but this failed.\n",
      "To hide this warning, disable the calculation\n",
      "(using `df.profile_report(correlations={\"auto\": {\"calculate\": False}})`\n",
      "If this is problematic for your use case, please report this as an issue:\n",
      "https://github.com/ydataai/ydata-profiling/issues\n",
      "(include the error message: 'could not convert string to float: 'no'')\n",
      "  warnings.warn(\n",
      "Summarize dataset:  88%|████████▊ | 36/41 [00:04<00:00,  6.10it/s, Missing diagram heatmap]   c:\\Users\\anony_khan\\miniconda3\\envs\\ydata_profiling\\Lib\\site-packages\\seaborn\\matrix.py:260: FutureWarning: Format strings passed to MaskedConstant are ignored, but in future may error or produce different behavior\n",
      "  annotation = (\"{:\" + self.fmt + \"}\").format(val)\n",
      "c:\\Users\\anony_khan\\miniconda3\\envs\\ydata_profiling\\Lib\\site-packages\\ydata_profiling\\model\\missing.py:78: UserWarning: There was an attempt to generate the Heatmap missing values diagrams, but this failed.\n",
      "To hide this warning, disable the calculation\n",
      "(using `df.profile_report(missing_diagrams={\"Heatmap\": False}`)\n",
      "If this is problematic for your use case, please report this as an issue:\n",
      "https://github.com/ydataai/ydata-profiling/issues\n",
      "(include the error message: 'could not convert string to float: '--'')\n",
      "  warnings.warn(\n",
      "Summarize dataset: 100%|██████████| 41/41 [00:04<00:00,  8.36it/s, Completed]               \n",
      "Generate report structure: 100%|██████████| 1/1 [00:04<00:00,  4.26s/it]\n",
      "Render HTML: 100%|██████████| 1/1 [00:01<00:00,  1.07s/it]\n",
      "Export report to file: 100%|██████████| 1/1 [00:00<00:00, 166.68it/s]\n"
     ]
    }
   ],
   "source": [
    "# to make use of the ydata_profiling library\n",
    "\n",
    "profile = yd.ProfileReport(df,title='Titanic Dataset Profiling Report', explorative=True)\n",
    "profile.to_file(\"titanic.html\")"
   ]
  },
  {
   "cell_type": "code",
   "execution_count": 10,
   "metadata": {},
   "outputs": [],
   "source": [
    "df = pd.read_csv('../data/sub-division_population_of_pakistan.csv')"
   ]
  },
  {
   "cell_type": "code",
   "execution_count": 11,
   "metadata": {},
   "outputs": [
    {
     "name": "stderr",
     "output_type": "stream",
     "text": [
      "Summarize dataset:  82%|████████▏ | 23/28 [00:00<00:00, 59.60it/s, Calculate auto correlation]                  c:\\Users\\anony_khan\\miniconda3\\envs\\ydata_profiling\\Lib\\site-packages\\ydata_profiling\\model\\correlations.py:66: UserWarning: There was an attempt to calculate the auto correlation, but this failed.\n",
      "To hide this warning, disable the calculation\n",
      "(using `df.profile_report(correlations={\"auto\": {\"calculate\": False}})`\n",
      "If this is problematic for your use case, please report this as an issue:\n",
      "https://github.com/ydataai/ydata-profiling/issues\n",
      "(include the error message: 'could not convert string to float: 'BAHAWALPUR DIVISION'')\n",
      "  warnings.warn(\n",
      "Summarize dataset: 100%|██████████| 319/319 [00:43<00:00,  7.35it/s, Completed]                                                     \n",
      "Generate report structure: 100%|██████████| 1/1 [00:09<00:00,  9.92s/it]\n",
      "Render HTML: 100%|██████████| 1/1 [00:08<00:00,  8.12s/it]\n",
      "Export report to file: 100%|██████████| 1/1 [00:00<00:00, 12.03it/s]\n"
     ]
    }
   ],
   "source": [
    "profile_pakistan = yd.ProfileReport(df,title='Pakistan Population Dataset Profiling Report', explorative = True)\n",
    "profile_pakistan.to_file(\"Pakistan_Population.html\")"
   ]
  }
 ],
 "metadata": {
  "kernelspec": {
   "display_name": "deep_learning_env",
   "language": "python",
   "name": "python3"
  },
  "language_info": {
   "codemirror_mode": {
    "name": "ipython",
    "version": 3
   },
   "file_extension": ".py",
   "mimetype": "text/x-python",
   "name": "python",
   "nbconvert_exporter": "python",
   "pygments_lexer": "ipython3",
   "version": "3.11.7"
  }
 },
 "nbformat": 4,
 "nbformat_minor": 2
}
